{
 "cells": [
  {
   "cell_type": "markdown",
   "metadata": {
    "colab_type": "text",
    "id": "view-in-github"
   },
   "source": [
    "<a href=\"https://colab.research.google.com/github/ChristophWuersch/AppliedNeuralNetworks/blob/main/solutions/tfrecord_gdrive.ipynb\" target=\"_parent\"><img src=\"https://colab.research.google.com/assets/colab-badge.svg\" alt=\"Open In Colab\"/></a>"
   ]
  },
  {
   "cell_type": "markdown",
   "metadata": {
    "id": "xTTPJu4YC8zJ"
   },
   "source": [
    "# How to train a Keras model on TFRecord files\n",
    "\n",
    "**Author:** Amy MiHyun Jang<br>\n",
    "**Date created:** 2020/07/29<br>\n",
    "**Last modified:** 2020/08/07<br>\n",
    "**Description:** Loading TFRecords for computer vision models."
   ]
  },
  {
   "cell_type": "markdown",
   "metadata": {
    "id": "_ufhOjweC8zO"
   },
   "source": [
    "## Introduction + Set Up\n",
    "\n",
    "TFRecords store a sequence of binary records, read linearly. They are useful format for\n",
    "storing data because they can be read efficiently. Learn more about TFRecords\n",
    "[here](https://www.tensorflow.org/tutorials/load_data/tfrecord).\n",
    "\n",
    "We'll explore how we can easily load in TFRecords for our melanoma classifier."
   ]
  },
  {
   "cell_type": "code",
   "execution_count": null,
   "metadata": {
    "colab": {
     "base_uri": "https://localhost:8080/"
    },
    "id": "I2N5A0Z7C8zP",
    "outputId": "69fc1b20-daa6-4459-8e24-0c97f6332fc9"
   },
   "outputs": [],
   "source": [
    "import tensorflow as tf\n",
    "from functools import partial\n",
    "import matplotlib.pyplot as plt\n",
    "\n",
    "try:\n",
    "    tpu = tf.distribute.cluster_resolver.TPUClusterResolver()\n",
    "    print(\"Device:\", tpu.master())\n",
    "    tf.config.experimental_connect_to_cluster(tpu)\n",
    "    tf.tpu.experimental.initialize_tpu_system(tpu)\n",
    "    strategy = tf.distribute.TPUStrategy(tpu)\n",
    "except:\n",
    "    strategy = tf.distribute.get_strategy()\n",
    "print(\"Number of replicas:\", strategy.num_replicas_in_sync)"
   ]
  },
  {
   "cell_type": "code",
   "execution_count": null,
   "metadata": {
    "colab": {
     "base_uri": "https://localhost:8080/"
    },
    "id": "GeqtzDRdbmvV",
    "outputId": "7bbab763-4b98-49b5-9acb-2fa5d7dad822"
   },
   "outputs": [],
   "source": [
    "from google.colab import drive\n",
    "\n",
    "drive.mount('/content/gdrive')\n"
   ]
  },
  {
   "cell_type": "markdown",
   "metadata": {
    "id": "hk-eVjJQC8zQ"
   },
   "source": [
    "We want a bigger batch size as our data is not balanced."
   ]
  },
  {
   "cell_type": "code",
   "execution_count": null,
   "metadata": {
    "id": "hZCpAFZmC8zQ"
   },
   "outputs": [],
   "source": [
    "AUTOTUNE = tf.data.AUTOTUNE\n",
    "GCS_PATH = \"/content/gdrive/My Drive/ANN_Data/Melanoma\"\n",
    "BATCH_SIZE = 32\n",
    "IMAGE_SIZE = [1024, 1024]"
   ]
  },
  {
   "cell_type": "code",
   "execution_count": null,
   "metadata": {
    "colab": {
     "base_uri": "https://localhost:8080/"
    },
    "id": "9egB3ZgAcZno",
    "outputId": "b437b2c6-3488-4cde-ba6b-f5b122828c20"
   },
   "outputs": [],
   "source": [
    "import os\n",
    "os.listdir(GCS_PATH+'/tfrecords')"
   ]
  },
  {
   "cell_type": "markdown",
   "metadata": {
    "id": "EXwRhJ1TC8zR"
   },
   "source": [
    "## Load the data"
   ]
  },
  {
   "cell_type": "code",
   "execution_count": null,
   "metadata": {
    "colab": {
     "base_uri": "https://localhost:8080/"
    },
    "id": "oK9gR5EZC8zR",
    "outputId": "e7dcbe69-ba41-4136-ef1e-792bb255008e"
   },
   "outputs": [],
   "source": [
    "FILENAMES = tf.io.gfile.glob(GCS_PATH + \"/tfrecords/train*.tfrec\")\n",
    "split_ind = int(0.9 * len(FILENAMES))\n",
    "TRAINING_FILENAMES, VALID_FILENAMES = FILENAMES[:split_ind], FILENAMES[split_ind:]\n",
    "\n",
    "TEST_FILENAMES = tf.io.gfile.glob(GCS_PATH + \"/tfrecords/test*.tfrec\")\n",
    "print(\"Train TFRecord Files:\", len(TRAINING_FILENAMES))\n",
    "print(\"Validation TFRecord Files:\", len(VALID_FILENAMES))\n",
    "print(\"Test TFRecord Files:\", len(TEST_FILENAMES))"
   ]
  },
  {
   "cell_type": "markdown",
   "metadata": {
    "id": "19ffmY30C8zS"
   },
   "source": [
    "### Decoding the data\n",
    "\n",
    "The images have to be converted to tensors so that it will be a valid input in our model.\n",
    "As images utilize an RBG scale, we specify 3 channels.\n",
    "\n",
    "We also reshape our data so that all of the images will be the same shape."
   ]
  },
  {
   "cell_type": "code",
   "execution_count": null,
   "metadata": {
    "id": "6sefpLhzC8zT"
   },
   "outputs": [],
   "source": [
    "\n",
    "def decode_image(image):\n",
    "    image = tf.image.decode_jpeg(image, channels=3)\n",
    "    image = tf.cast(image, tf.float32)\n",
    "    image = tf.reshape(image, [*IMAGE_SIZE, 3])\n",
    "    return image\n"
   ]
  },
  {
   "cell_type": "markdown",
   "metadata": {
    "id": "Dfye_LimC8zT"
   },
   "source": [
    "As we load in our data, we need both our `X` and our `Y`. The X is our image; the model\n",
    "will find features and patterns in our image dataset. We want to predict Y, the\n",
    "probability that the lesion in the image is malignant. We will to through our TFRecords\n",
    "and parse out the image and the target values."
   ]
  },
  {
   "cell_type": "code",
   "execution_count": null,
   "metadata": {
    "id": "3n_YPzHKC8zU"
   },
   "outputs": [],
   "source": [
    "\n",
    "def read_tfrecord(example, labeled):\n",
    "    tfrecord_format = (\n",
    "        {\n",
    "            \"image\": tf.io.FixedLenFeature([], tf.string),\n",
    "            \"target\": tf.io.FixedLenFeature([], tf.int64),\n",
    "        }\n",
    "        if labeled\n",
    "        else {\"image\": tf.io.FixedLenFeature([], tf.string),}\n",
    "    )\n",
    "    example = tf.io.parse_single_example(example, tfrecord_format)\n",
    "    image = decode_image(example[\"image\"])\n",
    "    if labeled:\n",
    "        label = tf.cast(example[\"target\"], tf.int32)\n",
    "        return image, label\n",
    "    return image\n"
   ]
  },
  {
   "cell_type": "markdown",
   "metadata": {
    "id": "hjK1Yk9iC8zU"
   },
   "source": [
    "### Define loading methods\n",
    "\n",
    "Our dataset is not ordered in any meaningful way, so the order can be ignored when\n",
    "loading our dataset. By ignoring the order and reading files as soon as they come in, it\n",
    "will take a shorter time to load the data."
   ]
  },
  {
   "cell_type": "code",
   "execution_count": null,
   "metadata": {
    "id": "_1voqdtIC8zV"
   },
   "outputs": [],
   "source": [
    "\n",
    "def load_dataset(filenames, labeled=True):\n",
    "    ignore_order = tf.data.Options()\n",
    "    ignore_order.experimental_deterministic = False  # disable order, increase speed\n",
    "    dataset = tf.data.TFRecordDataset(\n",
    "        filenames\n",
    "    )  # automatically interleaves reads from multiple files\n",
    "    dataset = dataset.with_options(\n",
    "        ignore_order\n",
    "    )  # uses data as soon as it streams in, rather than in its original order\n",
    "    dataset = dataset.map(\n",
    "        partial(read_tfrecord, labeled=labeled), num_parallel_calls=AUTOTUNE\n",
    "    )\n",
    "    # returns a dataset of (image, label) pairs if labeled=True or just images if labeled=False\n",
    "    return dataset\n"
   ]
  },
  {
   "cell_type": "markdown",
   "metadata": {
    "id": "od5-PDZSC8zV"
   },
   "source": [
    "We define the following function to get our different datasets."
   ]
  },
  {
   "cell_type": "code",
   "execution_count": null,
   "metadata": {
    "id": "6d0KEkMrC8zV"
   },
   "outputs": [],
   "source": [
    "\n",
    "def get_dataset(filenames, labeled=True):\n",
    "    dataset = load_dataset(filenames, labeled=labeled)\n",
    "    dataset = dataset.shuffle(1024)\n",
    "    dataset = dataset.prefetch(buffer_size=AUTOTUNE)\n",
    "    dataset = dataset.batch(BATCH_SIZE)\n",
    "    return dataset\n"
   ]
  },
  {
   "cell_type": "markdown",
   "metadata": {
    "id": "5LfbShhAC8zW"
   },
   "source": [
    "### Visualize input images"
   ]
  },
  {
   "cell_type": "code",
   "execution_count": null,
   "metadata": {
    "colab": {
     "base_uri": "https://localhost:8080/"
    },
    "id": "DfYaxJNQC8zW",
    "outputId": "50c61413-8925-4bc5-a3ee-ce9ef966d596"
   },
   "outputs": [],
   "source": [
    "train_dataset = get_dataset(TRAINING_FILENAMES,labeled=True)\n",
    "valid_dataset = get_dataset(VALID_FILENAMES,labeled=True)\n",
    "test_dataset = get_dataset(TEST_FILENAMES, labeled=False)\n",
    "\n",
    "train_dataset\n",
    "\n"
   ]
  },
  {
   "cell_type": "code",
   "execution_count": null,
   "metadata": {
    "colab": {
     "base_uri": "https://localhost:8080/"
    },
    "id": "oQOjpk-xBHG9",
    "outputId": "e6f26225-2b4f-4fa6-a221-036c43198c45"
   },
   "outputs": [],
   "source": [
    "iter(train_dataset)"
   ]
  },
  {
   "cell_type": "code",
   "execution_count": null,
   "metadata": {
    "id": "GaQlbyRAA22W"
   },
   "outputs": [],
   "source": [
    "\n",
    "image_batch, label_batch = next(iter(train_dataset))\n"
   ]
  },
  {
   "cell_type": "code",
   "execution_count": null,
   "metadata": {
    "colab": {
     "base_uri": "https://localhost:8080/",
     "height": 203
    },
    "id": "aBgqxMQ_AwMC",
    "outputId": "07656c91-9b8d-43a0-c1b1-86ea7c1a0ad4"
   },
   "outputs": [],
   "source": [
    "def show_batch(image_batch, label_batch):\n",
    "    plt.figure(figsize=(10, 10))\n",
    "    for n in range(25):\n",
    "        ax = plt.subplot(5, 5, n + 1)\n",
    "        plt.imshow(image_batch[n] / 255.0)\n",
    "        if label_batch[n]:\n",
    "            plt.title(\"MALIGNANT\")\n",
    "        else:\n",
    "            plt.title(\"BENIGN\")\n",
    "        plt.axis(\"off\")\n",
    "\n",
    "\n",
    "show_batch(image_batch.numpy(), label_batch.numpy())"
   ]
  },
  {
   "cell_type": "code",
   "execution_count": null,
   "metadata": {
    "colab": {
     "base_uri": "https://localhost:8080/",
     "height": 455
    },
    "id": "sU000Cy5Dl5W",
    "outputId": "e1b6f335-1d39-4cbc-8943-241a21968035"
   },
   "outputs": [],
   "source": [
    "def show_batch_nolabel(image_batch):\n",
    "    plt.figure(figsize=(10, 10))\n",
    "    for n in range(25):\n",
    "        ax = plt.subplot(5, 5, n + 1)\n",
    "        plt.imshow(image_batch[n] / 255.0)\n",
    "\n",
    "        plt.axis(\"off\")\n",
    "\n",
    "\n",
    "show_batch_nolabel(image_batch)"
   ]
  },
  {
   "cell_type": "markdown",
   "metadata": {
    "id": "VMbU6Mp_C8zW"
   },
   "source": [
    "## Building our model"
   ]
  },
  {
   "cell_type": "markdown",
   "metadata": {
    "id": "aLboJhZYC8zW"
   },
   "source": [
    "### Define callbacks\n",
    "\n",
    "The following function allows for the model to change the learning rate as it runs each\n",
    "epoch.\n",
    "\n",
    "We can use callbacks to stop training when there are no improvements in the model. At the\n",
    "end of the training process, the model will restore the weights of its best iteration."
   ]
  },
  {
   "cell_type": "code",
   "execution_count": null,
   "metadata": {
    "id": "hRKyYNF9C8zX"
   },
   "outputs": [],
   "source": [
    "initial_learning_rate = 0.01\n",
    "lr_schedule = tf.keras.optimizers.schedules.ExponentialDecay(\n",
    "    initial_learning_rate, decay_steps=20, decay_rate=0.96, staircase=True\n",
    ")\n",
    "\n",
    "checkpoint_cb = tf.keras.callbacks.ModelCheckpoint(\n",
    "    \"melanoma_model.h5\", save_best_only=True\n",
    ")\n",
    "\n",
    "early_stopping_cb = tf.keras.callbacks.EarlyStopping(\n",
    "    patience=10, restore_best_weights=True\n",
    ")"
   ]
  },
  {
   "cell_type": "markdown",
   "metadata": {
    "id": "hMLpjlRGC8zX"
   },
   "source": [
    "### Build our base model\n",
    "\n",
    "Transfer learning is a great way to reap the benefits of a well-trained model without\n",
    "having the train the model ourselves. For this notebook, we want to import the Xception\n",
    "model. A more in-depth analysis of transfer learning can be found\n",
    "[here](https://keras.io/examples/vision/image_classification_efficientnet_fine_tuning/).\n",
    "\n",
    "We do not want our metric to be ```accuracy``` because our data is imbalanced. For our\n",
    "example, we will be looking at the area under a ROC curve."
   ]
  },
  {
   "cell_type": "code",
   "execution_count": null,
   "metadata": {
    "id": "00zHJxHPC8zX"
   },
   "outputs": [],
   "source": [
    "\n",
    "def make_model():\n",
    "    base_model = tf.keras.applications.Xception(\n",
    "        input_shape=(*IMAGE_SIZE, 3), include_top=False, weights=\"imagenet\"\n",
    "    )\n",
    "\n",
    "    base_model.trainable = False\n",
    "\n",
    "    inputs = tf.keras.layers.Input([*IMAGE_SIZE, 3])\n",
    "    x = tf.keras.applications.xception.preprocess_input(inputs)\n",
    "    x = base_model(x)\n",
    "    x = tf.keras.layers.GlobalAveragePooling2D()(x)\n",
    "    x = tf.keras.layers.Dense(8, activation=\"relu\")(x)\n",
    "    x = tf.keras.layers.Dropout(0.7)(x)\n",
    "    outputs = tf.keras.layers.Dense(1, activation=\"sigmoid\")(x)\n",
    "\n",
    "    model = tf.keras.Model(inputs=inputs, outputs=outputs)\n",
    "\n",
    "    model.compile(\n",
    "        optimizer=tf.keras.optimizers.Adam(learning_rate=lr_schedule),\n",
    "        loss=\"binary_crossentropy\",\n",
    "        metrics=tf.keras.metrics.AUC(name=\"auc\"),\n",
    "    )\n",
    "\n",
    "    return model\n"
   ]
  },
  {
   "cell_type": "markdown",
   "metadata": {
    "id": "fA7gMIGqC8zX"
   },
   "source": [
    "## Train the model"
   ]
  },
  {
   "cell_type": "code",
   "execution_count": null,
   "metadata": {
    "id": "l81pHLkPC8zY"
   },
   "outputs": [],
   "source": [
    "with strategy.scope():\n",
    "    model = make_model()\n",
    "\n",
    "history = model.fit(\n",
    "    train_dataset,\n",
    "    epochs=2,\n",
    "    validation_data=valid_dataset,\n",
    "    callbacks=[checkpoint_cb, early_stopping_cb],\n",
    ")"
   ]
  },
  {
   "cell_type": "markdown",
   "metadata": {
    "id": "TzaA4a_AC8zY"
   },
   "source": [
    "## Predict results\n",
    "\n",
    "We'll use our model to predict results for our test dataset images. Values closer to `0`\n",
    "are more likely to be benign and values closer to `1` are more likely to be malignant."
   ]
  },
  {
   "cell_type": "code",
   "execution_count": null,
   "metadata": {
    "id": "1GOZYo9fC8zY"
   },
   "outputs": [],
   "source": [
    "\n",
    "def show_batch_predictions(image_batch):\n",
    "    plt.figure(figsize=(10, 10))\n",
    "    for n in range(25):\n",
    "        ax = plt.subplot(5, 5, n + 1)\n",
    "        plt.imshow(image_batch[n] / 255.0)\n",
    "        img_array = tf.expand_dims(image_batch[n], axis=0)\n",
    "        plt.title(model.predict(img_array)[0])\n",
    "        plt.axis(\"off\")\n",
    "\n",
    "\n",
    "image_batch = next(iter(test_dataset))\n",
    "\n",
    "show_batch_predictions(image_batch)"
   ]
  }
 ],
 "metadata": {
  "accelerator": "GPU",
  "colab": {
   "collapsed_sections": [],
   "include_colab_link": true,
   "name": "tfrecord",
   "provenance": [],
   "toc_visible": true
  },
  "kernelspec": {
   "display_name": "Python 3",
   "language": "python",
   "name": "python3"
  },
  "language_info": {
   "codemirror_mode": {
    "name": "ipython",
    "version": 3
   },
   "file_extension": ".py",
   "mimetype": "text/x-python",
   "name": "python",
   "nbconvert_exporter": "python",
   "pygments_lexer": "ipython3",
   "version": "3.7.0"
  }
 },
 "nbformat": 4,
 "nbformat_minor": 0
}
