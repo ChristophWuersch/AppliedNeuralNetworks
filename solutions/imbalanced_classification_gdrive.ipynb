{
  "nbformat": 4,
  "nbformat_minor": 0,
  "metadata": {
    "colab": {
      "name": "imbalanced_classification",
      "provenance": [],
      "collapsed_sections": [],
      "toc_visible": true,
      "include_colab_link": true
    },
    "kernelspec": {
      "display_name": "Python 3",
      "language": "python",
      "name": "python3"
    },
    "language_info": {
      "codemirror_mode": {
        "name": "ipython",
        "version": 3
      },
      "file_extension": ".py",
      "mimetype": "text/x-python",
      "name": "python",
      "nbconvert_exporter": "python",
      "pygments_lexer": "ipython3",
      "version": "3.7.0"
    }
  },
  "cells": [
    {
      "cell_type": "markdown",
      "metadata": {
        "id": "view-in-github",
        "colab_type": "text"
      },
      "source": [
        "<a href=\"https://colab.research.google.com/github/ChristophWuersch/AppliedNeuralNetworks/blob/main/solutions/imbalanced_classification_gdrive.ipynb\" target=\"_parent\"><img src=\"https://colab.research.google.com/assets/colab-badge.svg\" alt=\"Open In Colab\"/></a>"
      ]
    },
    {
      "cell_type": "markdown",
      "metadata": {
        "id": "RcfWChYpEXoQ"
      },
      "source": [
        "# Imbalanced classification: credit card fraud detection\n",
        "\n",
        "**Author:** [fchollet](https://twitter.com/fchollet)<br>\n",
        "**Date created:** 2019/05/28<br>\n",
        "**Last modified:** 2020/04/17<br>\n",
        "**Description:** Demonstration of how to handle highly imbalanced classification problems."
      ]
    },
    {
      "cell_type": "markdown",
      "metadata": {
        "id": "YOu09LeWEXoW"
      },
      "source": [
        "## Introduction\n",
        "\n",
        "This example looks at the\n",
        "[Kaggle Credit Card Fraud Detection](https://www.kaggle.com/mlg-ulb/creditcardfraud/)\n",
        "dataset to demonstrate how\n",
        "to train a classification model on data with highly imbalanced classes."
      ]
    },
    {
      "cell_type": "markdown",
      "metadata": {
        "id": "EAjRQOzLEXoX"
      },
      "source": [
        "## First, vectorize the CSV data"
      ]
    },
    {
      "cell_type": "code",
      "metadata": {
        "id": "vuK40_S2KVve",
        "outputId": "e57dd27f-691b-437c-d4b5-22922be31650",
        "colab": {
          "base_uri": "https://localhost:8080/"
        }
      },
      "source": [
        "from google.colab import drive\n",
        "\n",
        "drive.mount('/content/gdrive')"
      ],
      "execution_count": 1,
      "outputs": [
        {
          "output_type": "stream",
          "name": "stdout",
          "text": [
            "Drive already mounted at /content/gdrive; to attempt to forcibly remount, call drive.mount(\"/content/gdrive\", force_remount=True).\n"
          ]
        }
      ]
    },
    {
      "cell_type": "code",
      "metadata": {
        "id": "-UcN0v3ELNqJ",
        "outputId": "5d2352d1-da12-47c2-92b7-3e480d7b6f35",
        "colab": {
          "base_uri": "https://localhost:8080/"
        }
      },
      "source": [
        "!dir "
      ],
      "execution_count": 2,
      "outputs": [
        {
          "output_type": "stream",
          "name": "stdout",
          "text": [
            "ANN_Data  gdrive  sample_data\n"
          ]
        }
      ]
    },
    {
      "cell_type": "code",
      "metadata": {
        "colab": {
          "base_uri": "https://localhost:8080/"
        },
        "id": "Vy6APnNfEXoY",
        "outputId": "3ccc95e9-5eb3-4dee-e1a6-b8d24d62f560"
      },
      "source": [
        "import csv\n",
        "import numpy as np\n",
        "\n",
        "# Get the real data from https://www.kaggle.com/mlg-ulb/creditcardfraud/\n",
        "fname = \"/content/gdrive/My Drive/ANN_Data/creditcard.csv\"\n",
        "\n",
        "all_features = []\n",
        "all_targets = []\n",
        "with open(fname) as f:\n",
        "    for i, line in enumerate(f):\n",
        "        if i == 0:\n",
        "            print(\"HEADER:\", line.strip())\n",
        "            continue  # Skip header\n",
        "        fields = line.strip().split(\",\")\n",
        "        all_features.append([float(v.replace('\"', \"\")) for v in fields[:-1]])\n",
        "        all_targets.append([int(fields[-1].replace('\"', \"\"))])\n",
        "        if i == 1:\n",
        "            print(\"EXAMPLE FEATURES:\", all_features[-1])\n",
        "\n",
        "features = np.array(all_features, dtype=\"float32\")\n",
        "targets = np.array(all_targets, dtype=\"uint8\")\n",
        "print(\"features.shape:\", features.shape)\n",
        "print(\"targets.shape:\", targets.shape)\n"
      ],
      "execution_count": 3,
      "outputs": [
        {
          "output_type": "stream",
          "name": "stdout",
          "text": [
            "HEADER: \"Time\",\"V1\",\"V2\",\"V3\",\"V4\",\"V5\",\"V6\",\"V7\",\"V8\",\"V9\",\"V10\",\"V11\",\"V12\",\"V13\",\"V14\",\"V15\",\"V16\",\"V17\",\"V18\",\"V19\",\"V20\",\"V21\",\"V22\",\"V23\",\"V24\",\"V25\",\"V26\",\"V27\",\"V28\",\"Amount\",\"Class\"\n",
            "EXAMPLE FEATURES: [0.0, -1.3598071336738, -0.0727811733098497, 2.53634673796914, 1.37815522427443, -0.338320769942518, 0.462387777762292, 0.239598554061257, 0.0986979012610507, 0.363786969611213, 0.0907941719789316, -0.551599533260813, -0.617800855762348, -0.991389847235408, -0.311169353699879, 1.46817697209427, -0.470400525259478, 0.207971241929242, 0.0257905801985591, 0.403992960255733, 0.251412098239705, -0.018306777944153, 0.277837575558899, -0.110473910188767, 0.0669280749146731, 0.128539358273528, -0.189114843888824, 0.133558376740387, -0.0210530534538215, 149.62]\n",
            "features.shape: (284807, 30)\n",
            "targets.shape: (284807, 1)\n"
          ]
        }
      ]
    },
    {
      "cell_type": "markdown",
      "metadata": {
        "id": "4qVwe7eaEXoa"
      },
      "source": [
        "## Prepare a validation set"
      ]
    },
    {
      "cell_type": "code",
      "metadata": {
        "colab": {
          "base_uri": "https://localhost:8080/"
        },
        "id": "tlLhrAj9EXob",
        "outputId": "74bede9a-3764-4aa7-83d8-b0d69033e7a7"
      },
      "source": [
        "num_val_samples = int(len(features) * 0.2)\n",
        "train_features = features[:-num_val_samples]\n",
        "train_targets = targets[:-num_val_samples]\n",
        "val_features = features[-num_val_samples:]\n",
        "val_targets = targets[-num_val_samples:]\n",
        "\n",
        "print(\"Number of training samples:\", len(train_features))\n",
        "print(\"Number of validation samples:\", len(val_features))\n"
      ],
      "execution_count": 4,
      "outputs": [
        {
          "output_type": "stream",
          "name": "stdout",
          "text": [
            "Number of training samples: 227846\n",
            "Number of validation samples: 56961\n"
          ]
        }
      ]
    },
    {
      "cell_type": "markdown",
      "metadata": {
        "id": "wEpehd1lEXoc"
      },
      "source": [
        "## Analyze class imbalance in the targets"
      ]
    },
    {
      "cell_type": "code",
      "metadata": {
        "colab": {
          "base_uri": "https://localhost:8080/"
        },
        "id": "8GjVTZ6WEXod",
        "outputId": "ab5e4332-0d47-4d6e-af76-68899ed04c94"
      },
      "source": [
        "counts = np.bincount(train_targets[:, 0])\n",
        "print(\n",
        "    \"Number of positive samples in training data: {} ({:.2f}% of total)\".format(\n",
        "        counts[1], 100 * float(counts[1]) / len(train_targets)\n",
        "    )\n",
        ")\n",
        "\n",
        "weight_for_0 = 1.0 / counts[0]\n",
        "weight_for_1 = 1.0 / counts[1]\n"
      ],
      "execution_count": 5,
      "outputs": [
        {
          "output_type": "stream",
          "name": "stdout",
          "text": [
            "Number of positive samples in training data: 417 (0.18% of total)\n"
          ]
        }
      ]
    },
    {
      "cell_type": "markdown",
      "metadata": {
        "id": "l6pm7KxcEXoe"
      },
      "source": [
        "## Normalize the data using training set statistics"
      ]
    },
    {
      "cell_type": "code",
      "metadata": {
        "id": "THgKuH7PEXof"
      },
      "source": [
        "mean = np.mean(train_features, axis=0)\n",
        "train_features -= mean\n",
        "val_features -= mean\n",
        "std = np.std(train_features, axis=0)\n",
        "train_features /= std\n",
        "val_features /= std\n"
      ],
      "execution_count": 6,
      "outputs": []
    },
    {
      "cell_type": "markdown",
      "metadata": {
        "id": "Mua8LgPWEXof"
      },
      "source": [
        "## Build a binary classification model"
      ]
    },
    {
      "cell_type": "code",
      "metadata": {
        "colab": {
          "base_uri": "https://localhost:8080/"
        },
        "id": "ISNYF7JdEXog",
        "outputId": "df3ea3b2-0112-459b-9787-0ebd2b4eb91d"
      },
      "source": [
        "from tensorflow import keras\n",
        "\n",
        "model = keras.Sequential(\n",
        "    [\n",
        "        keras.layers.Dense(\n",
        "            256, activation=\"relu\", input_shape=(train_features.shape[-1],)\n",
        "        ),\n",
        "        keras.layers.Dense(256, activation=\"relu\"),\n",
        "        keras.layers.Dropout(0.3),\n",
        "        keras.layers.Dense(256, activation=\"relu\"),\n",
        "        keras.layers.Dropout(0.3),\n",
        "        keras.layers.Dense(1, activation=\"sigmoid\"),\n",
        "    ]\n",
        ")\n",
        "model.summary()\n"
      ],
      "execution_count": 7,
      "outputs": [
        {
          "output_type": "stream",
          "name": "stdout",
          "text": [
            "Model: \"sequential\"\n",
            "_________________________________________________________________\n",
            "Layer (type)                 Output Shape              Param #   \n",
            "=================================================================\n",
            "dense (Dense)                (None, 256)               7936      \n",
            "_________________________________________________________________\n",
            "dense_1 (Dense)              (None, 256)               65792     \n",
            "_________________________________________________________________\n",
            "dropout (Dropout)            (None, 256)               0         \n",
            "_________________________________________________________________\n",
            "dense_2 (Dense)              (None, 256)               65792     \n",
            "_________________________________________________________________\n",
            "dropout_1 (Dropout)          (None, 256)               0         \n",
            "_________________________________________________________________\n",
            "dense_3 (Dense)              (None, 1)                 257       \n",
            "=================================================================\n",
            "Total params: 139,777\n",
            "Trainable params: 139,777\n",
            "Non-trainable params: 0\n",
            "_________________________________________________________________\n"
          ]
        }
      ]
    },
    {
      "cell_type": "markdown",
      "metadata": {
        "id": "C4j7sVjeEXoh"
      },
      "source": [
        "## Train the model with `class_weight` argument"
      ]
    },
    {
      "cell_type": "code",
      "metadata": {
        "colab": {
          "base_uri": "https://localhost:8080/"
        },
        "id": "0L-Ol54cEXoh",
        "outputId": "e7f0f959-5ccc-4cd5-e248-dffad138f033"
      },
      "source": [
        "metrics = [\n",
        "    keras.metrics.FalseNegatives(name=\"fn\"),\n",
        "    keras.metrics.FalsePositives(name=\"fp\"),\n",
        "    keras.metrics.TrueNegatives(name=\"tn\"),\n",
        "    keras.metrics.TruePositives(name=\"tp\"),\n",
        "    keras.metrics.Precision(name=\"precision\"),\n",
        "    keras.metrics.Recall(name=\"recall\"),\n",
        "]\n",
        "\n",
        "model.compile(\n",
        "    optimizer=keras.optimizers.Adam(1e-2), loss=\"binary_crossentropy\", metrics=metrics\n",
        ")\n",
        "\n",
        "callbacks = [keras.callbacks.ModelCheckpoint(\"fraud_model_at_epoch_{epoch}.h5\")]\n",
        "class_weight = {0: weight_for_0, 1: weight_for_1}\n",
        "\n",
        "model.fit(\n",
        "    train_features,\n",
        "    train_targets,\n",
        "    batch_size=2048,\n",
        "    epochs=30,\n",
        "    verbose=2,\n",
        "    callbacks=callbacks,\n",
        "    validation_data=(val_features, val_targets),\n",
        "    class_weight=class_weight,\n",
        ")\n"
      ],
      "execution_count": 8,
      "outputs": [
        {
          "output_type": "stream",
          "name": "stdout",
          "text": [
            "Epoch 1/30\n",
            "112/112 - 9s - loss: 2.5252e-06 - fn: 46.0000 - fp: 35111.0000 - tn: 192318.0000 - tp: 371.0000 - precision: 0.0105 - recall: 0.8897 - val_loss: 0.1334 - val_fn: 9.0000 - val_fp: 1212.0000 - val_tn: 55674.0000 - val_tp: 66.0000 - val_precision: 0.0516 - val_recall: 0.8800\n",
            "Epoch 2/30\n",
            "112/112 - 6s - loss: 1.3487e-06 - fn: 31.0000 - fp: 6646.0000 - tn: 220783.0000 - tp: 386.0000 - precision: 0.0549 - recall: 0.9257 - val_loss: 0.0698 - val_fn: 10.0000 - val_fp: 702.0000 - val_tn: 56184.0000 - val_tp: 65.0000 - val_precision: 0.0847 - val_recall: 0.8667\n",
            "Epoch 3/30\n",
            "112/112 - 6s - loss: 1.3028e-06 - fn: 31.0000 - fp: 8094.0000 - tn: 219335.0000 - tp: 386.0000 - precision: 0.0455 - recall: 0.9257 - val_loss: 0.1619 - val_fn: 5.0000 - val_fp: 3604.0000 - val_tn: 53282.0000 - val_tp: 70.0000 - val_precision: 0.0191 - val_recall: 0.9333\n",
            "Epoch 4/30\n",
            "112/112 - 6s - loss: 1.1525e-06 - fn: 26.0000 - fp: 7383.0000 - tn: 220046.0000 - tp: 391.0000 - precision: 0.0503 - recall: 0.9376 - val_loss: 0.0889 - val_fn: 9.0000 - val_fp: 1342.0000 - val_tn: 55544.0000 - val_tp: 66.0000 - val_precision: 0.0469 - val_recall: 0.8800\n",
            "Epoch 5/30\n",
            "112/112 - 6s - loss: 1.0984e-06 - fn: 24.0000 - fp: 6834.0000 - tn: 220595.0000 - tp: 393.0000 - precision: 0.0544 - recall: 0.9424 - val_loss: 0.0698 - val_fn: 7.0000 - val_fp: 1282.0000 - val_tn: 55604.0000 - val_tp: 68.0000 - val_precision: 0.0504 - val_recall: 0.9067\n",
            "Epoch 6/30\n",
            "112/112 - 6s - loss: 7.3863e-07 - fn: 14.0000 - fp: 6492.0000 - tn: 220937.0000 - tp: 403.0000 - precision: 0.0584 - recall: 0.9664 - val_loss: 0.0241 - val_fn: 10.0000 - val_fp: 434.0000 - val_tn: 56452.0000 - val_tp: 65.0000 - val_precision: 0.1303 - val_recall: 0.8667\n",
            "Epoch 7/30\n",
            "112/112 - 6s - loss: 7.6682e-07 - fn: 17.0000 - fp: 6998.0000 - tn: 220431.0000 - tp: 400.0000 - precision: 0.0541 - recall: 0.9592 - val_loss: 0.0494 - val_fn: 7.0000 - val_fp: 1032.0000 - val_tn: 55854.0000 - val_tp: 68.0000 - val_precision: 0.0618 - val_recall: 0.9067\n",
            "Epoch 8/30\n",
            "112/112 - 6s - loss: 7.6836e-07 - fn: 14.0000 - fp: 7406.0000 - tn: 220023.0000 - tp: 403.0000 - precision: 0.0516 - recall: 0.9664 - val_loss: 0.0708 - val_fn: 8.0000 - val_fp: 1371.0000 - val_tn: 55515.0000 - val_tp: 67.0000 - val_precision: 0.0466 - val_recall: 0.8933\n",
            "Epoch 9/30\n",
            "112/112 - 6s - loss: 6.7143e-07 - fn: 12.0000 - fp: 7152.0000 - tn: 220277.0000 - tp: 405.0000 - precision: 0.0536 - recall: 0.9712 - val_loss: 0.2203 - val_fn: 6.0000 - val_fp: 4546.0000 - val_tn: 52340.0000 - val_tp: 69.0000 - val_precision: 0.0150 - val_recall: 0.9200\n",
            "Epoch 10/30\n",
            "112/112 - 6s - loss: 8.2532e-07 - fn: 12.0000 - fp: 9407.0000 - tn: 218022.0000 - tp: 405.0000 - precision: 0.0413 - recall: 0.9712 - val_loss: 0.0415 - val_fn: 11.0000 - val_fp: 522.0000 - val_tn: 56364.0000 - val_tp: 64.0000 - val_precision: 0.1092 - val_recall: 0.8533\n",
            "Epoch 11/30\n",
            "112/112 - 6s - loss: 6.7516e-07 - fn: 9.0000 - fp: 6509.0000 - tn: 220920.0000 - tp: 408.0000 - precision: 0.0590 - recall: 0.9784 - val_loss: 0.0969 - val_fn: 5.0000 - val_fp: 3000.0000 - val_tn: 53886.0000 - val_tp: 70.0000 - val_precision: 0.0228 - val_recall: 0.9333\n",
            "Epoch 12/30\n",
            "112/112 - 6s - loss: 4.7540e-07 - fn: 6.0000 - fp: 5683.0000 - tn: 221746.0000 - tp: 411.0000 - precision: 0.0674 - recall: 0.9856 - val_loss: 0.0215 - val_fn: 13.0000 - val_fp: 394.0000 - val_tn: 56492.0000 - val_tp: 62.0000 - val_precision: 0.1360 - val_recall: 0.8267\n",
            "Epoch 13/30\n",
            "112/112 - 6s - loss: 6.4891e-07 - fn: 9.0000 - fp: 5353.0000 - tn: 222076.0000 - tp: 408.0000 - precision: 0.0708 - recall: 0.9784 - val_loss: 0.0719 - val_fn: 8.0000 - val_fp: 1719.0000 - val_tn: 55167.0000 - val_tp: 67.0000 - val_precision: 0.0375 - val_recall: 0.8933\n",
            "Epoch 14/30\n",
            "112/112 - 6s - loss: 8.2743e-07 - fn: 8.0000 - fp: 9648.0000 - tn: 217781.0000 - tp: 409.0000 - precision: 0.0407 - recall: 0.9808 - val_loss: 0.0357 - val_fn: 10.0000 - val_fp: 747.0000 - val_tn: 56139.0000 - val_tp: 65.0000 - val_precision: 0.0800 - val_recall: 0.8667\n",
            "Epoch 15/30\n",
            "112/112 - 6s - loss: 5.0956e-07 - fn: 7.0000 - fp: 5948.0000 - tn: 221481.0000 - tp: 410.0000 - precision: 0.0645 - recall: 0.9832 - val_loss: 0.0215 - val_fn: 11.0000 - val_fp: 322.0000 - val_tn: 56564.0000 - val_tp: 64.0000 - val_precision: 0.1658 - val_recall: 0.8533\n",
            "Epoch 16/30\n",
            "112/112 - 6s - loss: 5.6106e-07 - fn: 5.0000 - fp: 7190.0000 - tn: 220239.0000 - tp: 412.0000 - precision: 0.0542 - recall: 0.9880 - val_loss: 0.0321 - val_fn: 9.0000 - val_fp: 717.0000 - val_tn: 56169.0000 - val_tp: 66.0000 - val_precision: 0.0843 - val_recall: 0.8800\n",
            "Epoch 17/30\n",
            "112/112 - 6s - loss: 5.9725e-07 - fn: 8.0000 - fp: 7064.0000 - tn: 220365.0000 - tp: 409.0000 - precision: 0.0547 - recall: 0.9808 - val_loss: 0.0505 - val_fn: 8.0000 - val_fp: 844.0000 - val_tn: 56042.0000 - val_tp: 67.0000 - val_precision: 0.0735 - val_recall: 0.8933\n",
            "Epoch 18/30\n",
            "112/112 - 6s - loss: 3.9270e-07 - fn: 6.0000 - fp: 4169.0000 - tn: 223260.0000 - tp: 411.0000 - precision: 0.0897 - recall: 0.9856 - val_loss: 0.0194 - val_fn: 12.0000 - val_fp: 355.0000 - val_tn: 56531.0000 - val_tp: 63.0000 - val_precision: 0.1507 - val_recall: 0.8400\n",
            "Epoch 19/30\n",
            "112/112 - 6s - loss: 3.5297e-07 - fn: 5.0000 - fp: 4138.0000 - tn: 223291.0000 - tp: 412.0000 - precision: 0.0905 - recall: 0.9880 - val_loss: 0.0226 - val_fn: 8.0000 - val_fp: 497.0000 - val_tn: 56389.0000 - val_tp: 67.0000 - val_precision: 0.1188 - val_recall: 0.8933\n",
            "Epoch 20/30\n",
            "112/112 - 6s - loss: 2.7065e-07 - fn: 2.0000 - fp: 3833.0000 - tn: 223596.0000 - tp: 415.0000 - precision: 0.0977 - recall: 0.9952 - val_loss: 0.0314 - val_fn: 10.0000 - val_fp: 631.0000 - val_tn: 56255.0000 - val_tp: 65.0000 - val_precision: 0.0934 - val_recall: 0.8667\n",
            "Epoch 21/30\n",
            "112/112 - 6s - loss: 2.8740e-07 - fn: 4.0000 - fp: 3646.0000 - tn: 223783.0000 - tp: 413.0000 - precision: 0.1017 - recall: 0.9904 - val_loss: 0.0440 - val_fn: 8.0000 - val_fp: 920.0000 - val_tn: 55966.0000 - val_tp: 67.0000 - val_precision: 0.0679 - val_recall: 0.8933\n",
            "Epoch 22/30\n",
            "112/112 - 6s - loss: 2.6299e-07 - fn: 3.0000 - fp: 3438.0000 - tn: 223991.0000 - tp: 414.0000 - precision: 0.1075 - recall: 0.9928 - val_loss: 0.0606 - val_fn: 9.0000 - val_fp: 1346.0000 - val_tn: 55540.0000 - val_tp: 66.0000 - val_precision: 0.0467 - val_recall: 0.8800\n",
            "Epoch 23/30\n",
            "112/112 - 6s - loss: 1.6628e-07 - fn: 0.0000e+00 - fp: 2085.0000 - tn: 225344.0000 - tp: 417.0000 - precision: 0.1667 - recall: 1.0000 - val_loss: 0.0165 - val_fn: 12.0000 - val_fp: 268.0000 - val_tn: 56618.0000 - val_tp: 63.0000 - val_precision: 0.1903 - val_recall: 0.8400\n",
            "Epoch 24/30\n",
            "112/112 - 6s - loss: 2.6672e-07 - fn: 3.0000 - fp: 2949.0000 - tn: 224480.0000 - tp: 414.0000 - precision: 0.1231 - recall: 0.9928 - val_loss: 0.0195 - val_fn: 10.0000 - val_fp: 437.0000 - val_tn: 56449.0000 - val_tp: 65.0000 - val_precision: 0.1295 - val_recall: 0.8667\n",
            "Epoch 25/30\n",
            "112/112 - 6s - loss: 2.6041e-07 - fn: 2.0000 - fp: 3160.0000 - tn: 224269.0000 - tp: 415.0000 - precision: 0.1161 - recall: 0.9952 - val_loss: 0.0268 - val_fn: 10.0000 - val_fp: 487.0000 - val_tn: 56399.0000 - val_tp: 65.0000 - val_precision: 0.1178 - val_recall: 0.8667\n",
            "Epoch 26/30\n",
            "112/112 - 6s - loss: 2.6546e-07 - fn: 0.0000e+00 - fp: 2669.0000 - tn: 224760.0000 - tp: 417.0000 - precision: 0.1351 - recall: 1.0000 - val_loss: 0.0138 - val_fn: 12.0000 - val_fp: 214.0000 - val_tn: 56672.0000 - val_tp: 63.0000 - val_precision: 0.2274 - val_recall: 0.8400\n",
            "Epoch 27/30\n",
            "112/112 - 6s - loss: 3.8278e-07 - fn: 5.0000 - fp: 4408.0000 - tn: 223021.0000 - tp: 412.0000 - precision: 0.0855 - recall: 0.9880 - val_loss: 0.0330 - val_fn: 6.0000 - val_fp: 1183.0000 - val_tn: 55703.0000 - val_tp: 69.0000 - val_precision: 0.0551 - val_recall: 0.9200\n",
            "Epoch 28/30\n",
            "112/112 - 6s - loss: 2.6888e-07 - fn: 1.0000 - fp: 4702.0000 - tn: 222727.0000 - tp: 416.0000 - precision: 0.0813 - recall: 0.9976 - val_loss: 0.0203 - val_fn: 9.0000 - val_fp: 521.0000 - val_tn: 56365.0000 - val_tp: 66.0000 - val_precision: 0.1124 - val_recall: 0.8800\n",
            "Epoch 29/30\n",
            "112/112 - 6s - loss: 3.1431e-07 - fn: 4.0000 - fp: 4183.0000 - tn: 223246.0000 - tp: 413.0000 - precision: 0.0899 - recall: 0.9904 - val_loss: 0.0185 - val_fn: 11.0000 - val_fp: 395.0000 - val_tn: 56491.0000 - val_tp: 64.0000 - val_precision: 0.1394 - val_recall: 0.8533\n",
            "Epoch 30/30\n",
            "112/112 - 6s - loss: 2.1910e-07 - fn: 3.0000 - fp: 2385.0000 - tn: 225044.0000 - tp: 414.0000 - precision: 0.1479 - recall: 0.9928 - val_loss: 0.0129 - val_fn: 12.0000 - val_fp: 261.0000 - val_tn: 56625.0000 - val_tp: 63.0000 - val_precision: 0.1944 - val_recall: 0.8400\n"
          ]
        },
        {
          "output_type": "execute_result",
          "data": {
            "text/plain": [
              "<keras.callbacks.History at 0x7f2d6c52d850>"
            ]
          },
          "metadata": {},
          "execution_count": 8
        }
      ]
    },
    {
      "cell_type": "markdown",
      "metadata": {
        "id": "3YARljQkEXoi"
      },
      "source": [
        "## Conclusions\n",
        "\n",
        "At the end of training, out of 56,961 validation transactions, we are:\n",
        "\n",
        "- Correctly identifying 66 of them as fraudulent\n",
        "- Missing 9 fraudulent transactions\n",
        "- At the cost of incorrectly flagging 441 legitimate transactions\n",
        "\n",
        "In the real world, one would put an even higher weight on class 1,\n",
        "so as to reflect that False Negatives are more costly than False Positives.\n",
        "\n",
        "Next time your credit card gets  declined in an online purchase -- this is why."
      ]
    }
  ]
}