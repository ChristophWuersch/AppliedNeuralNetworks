{
 "cells": [
  {
   "cell_type": "markdown",
   "metadata": {
    "slideshow": {
     "slide_type": "slide"
    }
   },
   "source": [
    "<img src=\"Bilder/ost_logo.png\" width=\"240\"  align=\"right\"/>\n",
    "<div style=\"text-align: left\"> <b> Applied Neural Networks | FS 2025 </b><br>\n",
    "<a href=\"mailto:christoph.wuersch@ost.ch\"> © Christoph Würsch, François Chollet </a> </div>\n",
    "<a href=\"https://www.ost.ch/de/forschung-und-dienstleistungen/technik-neu/systemtechnik/ice-institut-fuer-computational-engineering\"> Eastern Switzerland University of Applied Sciences OST | ICE </a>\n",
    "\n",
    "[![Run in Colab](https://colab.research.google.com/assets/colab-badge.svg)](https://colab.research.google.com/github/ChristophWuersch/AppliedNeuralNetworks/blob/main/ANN11/11.1-Sampling_from_Softmax_pl.ipynb)"
   ]
  },
  {
   "cell_type": "markdown",
   "metadata": {
    "slideshow": {
     "slide_type": "slide"
    }
   },
   "source": [
    "# 11. Sampling aus einer $\\mathrm{softmax}$-Verteilung\n",
    "\n",
    "Das **Sampling** aus einer **softmax-Verteilung** geschieht über eine Multinomiale Verteilung `np.random.multinomial`, deren Wahrscheinlichkeiten durch den Temperaturparameter skaliert werden."
   ]
  },
  {
   "cell_type": "code",
   "execution_count": null,
   "metadata": {
    "slideshow": {
     "slide_type": "slide"
    }
   },
   "outputs": [],
   "source": [
    "import numpy as np\n",
    "import matplotlib.pyplot as plt\n",
    "import matplotlib as mpl\n",
    "import seaborn as sns\n",
    "\n",
    "mpl.rcParams[\"figure.dpi\"] = 144\n",
    "\n",
    "trials = 1000\n",
    "softmax = [0.1, 0.3, 0.6]\n"
   ]
  },
  {
   "cell_type": "code",
   "execution_count": null,
   "metadata": {
    "slideshow": {
     "slide_type": "slide"
    }
   },
   "outputs": [],
   "source": [
    "def sample(softmax, temperature):\n",
    "    EPSILON = 10e-16  # to avoid taking the log of zero\n",
    "    # print(preds)\n",
    "    (np.array(softmax) + EPSILON).astype(\"float64\")\n",
    "    preds = np.log(softmax) / temperature\n",
    "    # print(preds)\n",
    "    exp_preds = np.exp(preds)\n",
    "    # print(exp_preds)\n",
    "    preds = exp_preds / np.sum(exp_preds)\n",
    "    # print(preds)\n",
    "    probas = np.random.multinomial(1, preds, 1)\n",
    "    return probas[0]\n"
   ]
  },
  {
   "cell_type": "code",
   "execution_count": null,
   "metadata": {
    "slideshow": {
     "slide_type": "slide"
    }
   },
   "outputs": [],
   "source": [
    "temperatures = [(t or 1) / 100 for t in range(0, 1001, 100)]\n",
    "probas = [\n",
    "    np.asarray([sample(softmax, t) for _ in range(trials)]).sum(axis=0) / trials\n",
    "    for t in temperatures\n",
    "]\n"
   ]
  },
  {
   "cell_type": "markdown",
   "metadata": {
    "slideshow": {
     "slide_type": "slide"
    }
   },
   "source": [
    "Beachten Sie, wie sich die Wahrscheinlichkeiten bei verschiedenen Temperaturen ändern. \n",
    "- Die Softmax-Wahrscheinlichkeiten liegen bei [0,1, 0,3, 0,6]. Bei den niedrigsten Temperaturen von 0.01 hat der vorherrschende Index (Wert 0.6) eine Wahrscheinlichkeit von nahezu 100 %, in die Stichprobe aufgenommen zu werden.\n",
    "- Bei höheren Temperaturen bewegen sich die Auswahlwahrscheinlichkeiten in Richtung der Softmax-Werte, z. B. 60 % Wahrscheinlichkeit für den dritten Index."
   ]
  },
  {
   "cell_type": "code",
   "execution_count": null,
   "metadata": {
    "slideshow": {
     "slide_type": "slide"
    }
   },
   "outputs": [],
   "source": [
    "sns.set_style(\"darkgrid\")\n",
    "plt.plot(temperatures, probas, label=[\"0.1\", \"0.3\", \"0.6\"])\n",
    "plt.legend([\"0.1\", \"0.3\", \"0.6\"])\n",
    "plt.xlabel(\"temperature\")\n",
    "plt.ylabel(\"class probability\")\n",
    "plt.show()\n"
   ]
  },
  {
   "cell_type": "code",
   "execution_count": null,
   "metadata": {},
   "outputs": [],
   "source": []
  }
 ],
 "metadata": {
  "kernelspec": {
   "display_name": ".venv",
   "language": "python",
   "name": "python3"
  },
  "language_info": {
   "codemirror_mode": {
    "name": "ipython",
    "version": 3
   },
   "file_extension": ".py",
   "mimetype": "text/x-python",
   "name": "python",
   "nbconvert_exporter": "python",
   "pygments_lexer": "ipython3",
   "version": "3.12.9"
  },
  "nbTranslate": {
   "displayLangs": [
    "*"
   ],
   "hotkey": "alt-t",
   "langInMainMenu": true,
   "sourceLang": "en",
   "targetLang": "fr",
   "useGoogleTranslate": true
  }
 },
 "nbformat": 4,
 "nbformat_minor": 2
}
