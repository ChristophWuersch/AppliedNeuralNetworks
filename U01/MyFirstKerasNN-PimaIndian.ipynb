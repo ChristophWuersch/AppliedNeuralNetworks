{
 "cells": [
  {
   "cell_type": "markdown",
   "id": "5f62a34e",
   "metadata": {},
   "source": [
    "<a href=\"https://colab.research.google.com/github.com/ChristophWuersch/AppliedNeuralNetworks/blob/main/exercises/U01/t81_558_class_03_1_neural_net.ipynb\" target=\"_parent\"><img src=\"https://colab.research.google.com/assets/colab-badge.svg\" alt=\"Open In Colab\"/></a>"
   ]
  },
  {
   "cell_type": "markdown",
   "id": "4d66ec60",
   "metadata": {},
   "source": [
    "<img src=\"Bilder/ost_logo.png\" width=\"240\" height=\"240\" align=\"right\"/>\n",
    "<div style=\"text-align: left\"> <b> Applied Neural Networks | FS 2022 </b><br>\n",
    "<a href=\"mailto:christoph.wuersch@ost.ch\"> © Christoph Würsch </a> </div>\n",
    "<a href=\"https://www.ost.ch/de/forschung-und-dienstleistungen/technik/systemtechnik/ice-institut-fuer-computational-engineering/\"> Eastern Switzerland University of Applied Sciences OST | ICE </a>\n",
    "\n",
    "\n",
    "## Ein erstes Neuronales Netz mit `keras`: Pima Indians"
   ]
  },
  {
   "cell_type": "markdown",
   "id": "42f4b69b",
   "metadata": {},
   "source": [
    "## (a) Datensatz laden"
   ]
  },
  {
   "cell_type": "code",
   "execution_count": 23,
   "id": "b58063da",
   "metadata": {},
   "outputs": [],
   "source": [
    "# first neural network with keras tutorial\n",
    "import tensorflow as tf\n",
    "import numpy as np\n",
    "from numpy import loadtxt\n",
    "\n",
    "import pandas as pd\n",
    "\n",
    "from tensorflow import keras\n",
    "from tensorflow.keras import layers\n",
    "from tensorflow.keras.models import Sequential\n",
    "from tensorflow.keras.layers import Dense, Dropout\n",
    "\n",
    "\n",
    "import matplotlib.pyplot as plt\n"
   ]
  },
  {
   "cell_type": "code",
   "execution_count": 2,
   "id": "b4267d1b",
   "metadata": {},
   "outputs": [
    {
     "data": {
      "text/html": [
       "<div>\n",
       "<style scoped>\n",
       "    .dataframe tbody tr th:only-of-type {\n",
       "        vertical-align: middle;\n",
       "    }\n",
       "\n",
       "    .dataframe tbody tr th {\n",
       "        vertical-align: top;\n",
       "    }\n",
       "\n",
       "    .dataframe thead th {\n",
       "        text-align: right;\n",
       "    }\n",
       "</style>\n",
       "<table border=\"1\" class=\"dataframe\">\n",
       "  <thead>\n",
       "    <tr style=\"text-align: right;\">\n",
       "      <th></th>\n",
       "      <th>Pregnancies</th>\n",
       "      <th>Glucose</th>\n",
       "      <th>BloodPressure</th>\n",
       "      <th>SkinThickness</th>\n",
       "      <th>Insulin</th>\n",
       "      <th>BMI</th>\n",
       "      <th>DiabetesPedigreeFunction</th>\n",
       "      <th>Age</th>\n",
       "      <th>Outcome</th>\n",
       "    </tr>\n",
       "  </thead>\n",
       "  <tbody>\n",
       "    <tr>\n",
       "      <th>0</th>\n",
       "      <td>6</td>\n",
       "      <td>148</td>\n",
       "      <td>72</td>\n",
       "      <td>35</td>\n",
       "      <td>0</td>\n",
       "      <td>33.6</td>\n",
       "      <td>0.627</td>\n",
       "      <td>50</td>\n",
       "      <td>1</td>\n",
       "    </tr>\n",
       "    <tr>\n",
       "      <th>1</th>\n",
       "      <td>1</td>\n",
       "      <td>85</td>\n",
       "      <td>66</td>\n",
       "      <td>29</td>\n",
       "      <td>0</td>\n",
       "      <td>26.6</td>\n",
       "      <td>0.351</td>\n",
       "      <td>31</td>\n",
       "      <td>0</td>\n",
       "    </tr>\n",
       "    <tr>\n",
       "      <th>2</th>\n",
       "      <td>8</td>\n",
       "      <td>183</td>\n",
       "      <td>64</td>\n",
       "      <td>0</td>\n",
       "      <td>0</td>\n",
       "      <td>23.3</td>\n",
       "      <td>0.672</td>\n",
       "      <td>32</td>\n",
       "      <td>1</td>\n",
       "    </tr>\n",
       "    <tr>\n",
       "      <th>3</th>\n",
       "      <td>1</td>\n",
       "      <td>89</td>\n",
       "      <td>66</td>\n",
       "      <td>23</td>\n",
       "      <td>94</td>\n",
       "      <td>28.1</td>\n",
       "      <td>0.167</td>\n",
       "      <td>21</td>\n",
       "      <td>0</td>\n",
       "    </tr>\n",
       "    <tr>\n",
       "      <th>4</th>\n",
       "      <td>0</td>\n",
       "      <td>137</td>\n",
       "      <td>40</td>\n",
       "      <td>35</td>\n",
       "      <td>168</td>\n",
       "      <td>43.1</td>\n",
       "      <td>2.288</td>\n",
       "      <td>33</td>\n",
       "      <td>1</td>\n",
       "    </tr>\n",
       "  </tbody>\n",
       "</table>\n",
       "</div>"
      ],
      "text/plain": [
       "   Pregnancies  Glucose  BloodPressure  SkinThickness  Insulin   BMI  \\\n",
       "0            6      148             72             35        0  33.6   \n",
       "1            1       85             66             29        0  26.6   \n",
       "2            8      183             64              0        0  23.3   \n",
       "3            1       89             66             23       94  28.1   \n",
       "4            0      137             40             35      168  43.1   \n",
       "\n",
       "   DiabetesPedigreeFunction  Age  Outcome  \n",
       "0                     0.627   50        1  \n",
       "1                     0.351   31        0  \n",
       "2                     0.672   32        1  \n",
       "3                     0.167   21        0  \n",
       "4                     2.288   33        1  "
      ]
     },
     "execution_count": 2,
     "metadata": {},
     "output_type": "execute_result"
    }
   ],
   "source": [
    "# load the dataset\n",
    "# dataset = loadtxt('pima-indians-diabetes.csv', delimiter=',')\n",
    "# split into input (X) and output (y) variables\n",
    "df=pd.read_csv('diabetes.csv', delimiter=',')\n",
    "df.head()\n"
   ]
  },
  {
   "cell_type": "markdown",
   "id": "b0f71458",
   "metadata": {},
   "source": [
    "## (b) Kurze EDA"
   ]
  },
  {
   "cell_type": "code",
   "execution_count": 28,
   "id": "49382030",
   "metadata": {},
   "outputs": [
    {
     "data": {
      "image/png": "[encoded data removed]",
      "text/plain": [
       "<Figure size 792x648 with 2 Axes>"
      ]
     },
     "metadata": {
      "needs_background": "light"
     },
     "output_type": "display_data"
    }
   ],
   "source": [
    "import seaborn as sns\n",
    "import matplotlib.pyplot as plt\n",
    "\n",
    "# Compute the correlation matrix\n",
    "corr = df.corr()\n",
    "\n",
    "# Generate a mask for the upper triangle\n",
    "mask = np.zeros_like(corr, dtype=np.bool_)\n",
    "mask[np.triu_indices_from(mask)] = True\n",
    "\n",
    "# Set up the matplotlib figure\n",
    "f, ax = plt.subplots(figsize=(11, 9))\n",
    "\n",
    "\n",
    "# Draw the heatmap with the mask and correct aspect ratio\n",
    "sns.heatmap(corr, mask=mask, vmin=0.0, center=0, annot=True,\n",
    "            square=True, linewidths=.5, cbar_kws={\"shrink\": .5});\n",
    "plt.show()\n"
   ]
  },
  {
   "cell_type": "code",
   "execution_count": 3,
   "id": "ba3a9a5d",
   "metadata": {},
   "outputs": [
    {
     "data": {
      "text/html": [
       "<div>\n",
       "<style scoped>\n",
       "    .dataframe tbody tr th:only-of-type {\n",
       "        vertical-align: middle;\n",
       "    }\n",
       "\n",
       "    .dataframe tbody tr th {\n",
       "        vertical-align: top;\n",
       "    }\n",
       "\n",
       "    .dataframe thead th {\n",
       "        text-align: right;\n",
       "    }\n",
       "</style>\n",
       "<table border=\"1\" class=\"dataframe\">\n",
       "  <thead>\n",
       "    <tr style=\"text-align: right;\">\n",
       "      <th></th>\n",
       "      <th>Pregnancies</th>\n",
       "      <th>Glucose</th>\n",
       "      <th>BloodPressure</th>\n",
       "      <th>SkinThickness</th>\n",
       "      <th>Insulin</th>\n",
       "      <th>BMI</th>\n",
       "      <th>DiabetesPedigreeFunction</th>\n",
       "      <th>Age</th>\n",
       "      <th>Outcome</th>\n",
       "    </tr>\n",
       "  </thead>\n",
       "  <tbody>\n",
       "    <tr>\n",
       "      <th>count</th>\n",
       "      <td>768.000000</td>\n",
       "      <td>768.000000</td>\n",
       "      <td>768.000000</td>\n",
       "      <td>768.000000</td>\n",
       "      <td>768.000000</td>\n",
       "      <td>768.000000</td>\n",
       "      <td>768.000000</td>\n",
       "      <td>768.000000</td>\n",
       "      <td>768.000000</td>\n",
       "    </tr>\n",
       "    <tr>\n",
       "      <th>mean</th>\n",
       "      <td>3.845052</td>\n",
       "      <td>120.894531</td>\n",
       "      <td>69.105469</td>\n",
       "      <td>20.536458</td>\n",
       "      <td>79.799479</td>\n",
       "      <td>31.992578</td>\n",
       "      <td>0.471876</td>\n",
       "      <td>33.240885</td>\n",
       "      <td>0.348958</td>\n",
       "    </tr>\n",
       "    <tr>\n",
       "      <th>std</th>\n",
       "      <td>3.369578</td>\n",
       "      <td>31.972618</td>\n",
       "      <td>19.355807</td>\n",
       "      <td>15.952218</td>\n",
       "      <td>115.244002</td>\n",
       "      <td>7.884160</td>\n",
       "      <td>0.331329</td>\n",
       "      <td>11.760232</td>\n",
       "      <td>0.476951</td>\n",
       "    </tr>\n",
       "    <tr>\n",
       "      <th>min</th>\n",
       "      <td>0.000000</td>\n",
       "      <td>0.000000</td>\n",
       "      <td>0.000000</td>\n",
       "      <td>0.000000</td>\n",
       "      <td>0.000000</td>\n",
       "      <td>0.000000</td>\n",
       "      <td>0.078000</td>\n",
       "      <td>21.000000</td>\n",
       "      <td>0.000000</td>\n",
       "    </tr>\n",
       "    <tr>\n",
       "      <th>25%</th>\n",
       "      <td>1.000000</td>\n",
       "      <td>99.000000</td>\n",
       "      <td>62.000000</td>\n",
       "      <td>0.000000</td>\n",
       "      <td>0.000000</td>\n",
       "      <td>27.300000</td>\n",
       "      <td>0.243750</td>\n",
       "      <td>24.000000</td>\n",
       "      <td>0.000000</td>\n",
       "    </tr>\n",
       "    <tr>\n",
       "      <th>50%</th>\n",
       "      <td>3.000000</td>\n",
       "      <td>117.000000</td>\n",
       "      <td>72.000000</td>\n",
       "      <td>23.000000</td>\n",
       "      <td>30.500000</td>\n",
       "      <td>32.000000</td>\n",
       "      <td>0.372500</td>\n",
       "      <td>29.000000</td>\n",
       "      <td>0.000000</td>\n",
       "    </tr>\n",
       "    <tr>\n",
       "      <th>75%</th>\n",
       "      <td>6.000000</td>\n",
       "      <td>140.250000</td>\n",
       "      <td>80.000000</td>\n",
       "      <td>32.000000</td>\n",
       "      <td>127.250000</td>\n",
       "      <td>36.600000</td>\n",
       "      <td>0.626250</td>\n",
       "      <td>41.000000</td>\n",
       "      <td>1.000000</td>\n",
       "    </tr>\n",
       "    <tr>\n",
       "      <th>max</th>\n",
       "      <td>17.000000</td>\n",
       "      <td>199.000000</td>\n",
       "      <td>122.000000</td>\n",
       "      <td>99.000000</td>\n",
       "      <td>846.000000</td>\n",
       "      <td>67.100000</td>\n",
       "      <td>2.420000</td>\n",
       "      <td>81.000000</td>\n",
       "      <td>1.000000</td>\n",
       "    </tr>\n",
       "  </tbody>\n",
       "</table>\n",
       "</div>"
      ],
      "text/plain": [
       "       Pregnancies     Glucose  BloodPressure  SkinThickness     Insulin  \\\n",
       "count   768.000000  768.000000     768.000000     768.000000  768.000000   \n",
       "mean      3.845052  120.894531      69.105469      20.536458   79.799479   \n",
       "std       3.369578   31.972618      19.355807      15.952218  115.244002   \n",
       "min       0.000000    0.000000       0.000000       0.000000    0.000000   \n",
       "25%       1.000000   99.000000      62.000000       0.000000    0.000000   \n",
       "50%       3.000000  117.000000      72.000000      23.000000   30.500000   \n",
       "75%       6.000000  140.250000      80.000000      32.000000  127.250000   \n",
       "max      17.000000  199.000000     122.000000      99.000000  846.000000   \n",
       "\n",
       "              BMI  DiabetesPedigreeFunction         Age     Outcome  \n",
       "count  768.000000                768.000000  768.000000  768.000000  \n",
       "mean    31.992578                  0.471876   33.240885    0.348958  \n",
       "std      7.884160                  0.331329   11.760232    0.476951  \n",
       "min      0.000000                  0.078000   21.000000    0.000000  \n",
       "25%     27.300000                  0.243750   24.000000    0.000000  \n",
       "50%     32.000000                  0.372500   29.000000    0.000000  \n",
       "75%     36.600000                  0.626250   41.000000    1.000000  \n",
       "max     67.100000                  2.420000   81.000000    1.000000  "
      ]
     },
     "execution_count": 3,
     "metadata": {},
     "output_type": "execute_result"
    }
   ],
   "source": [
    "df.describe()"
   ]
  },
  {
   "cell_type": "code",
   "execution_count": 4,
   "id": "850accae",
   "metadata": {},
   "outputs": [],
   "source": [
    "X = df.iloc[:,0:8].values\n",
    "y = df.iloc[:,8].values\n"
   ]
  },
  {
   "cell_type": "markdown",
   "id": "556dbe99",
   "metadata": {},
   "source": [
    "## (c) Modell erstellen"
   ]
  },
  {
   "cell_type": "code",
   "execution_count": 5,
   "id": "ddfd8cf0",
   "metadata": {},
   "outputs": [],
   "source": [
    "# define the keras model\n",
    "model = Sequential()\n",
    "model.add(Dense(12, input_dim=8, activation='relu'))\n",
    "model.add(Dense(8, activation='relu'))\n",
    "model.add(Dense(1, activation='sigmoid'))"
   ]
  },
  {
   "cell_type": "markdown",
   "id": "f3d85bcf",
   "metadata": {},
   "source": [
    "## (d) Modell darstellen"
   ]
  },
  {
   "cell_type": "code",
   "execution_count": 6,
   "id": "8209b1c3",
   "metadata": {},
   "outputs": [
    {
     "data": {
      "image/png": "[encoded data removed]",
      "text/plain": [
       "<IPython.core.display.Image object>"
      ]
     },
     "execution_count": 6,
     "metadata": {},
     "output_type": "execute_result"
    }
   ],
   "source": [
    "from keras.utils.vis_utils import plot_model\n",
    "plot_model(model, to_file='model_plot.png', show_shapes=True, show_layer_names=True)"
   ]
  },
  {
   "cell_type": "markdown",
   "id": "1113df48",
   "metadata": {},
   "source": [
    "## (e) Modell kompilieren und trainieren"
   ]
  },
  {
   "cell_type": "code",
   "execution_count": 7,
   "id": "ba3b4c42",
   "metadata": {},
   "outputs": [],
   "source": [
    "# compile the keras model\n",
    "model.compile(loss='binary_crossentropy', optimizer='adam', metrics=['accuracy'])\n"
   ]
  },
  {
   "cell_type": "code",
   "execution_count": 29,
   "id": "0bd1a8af",
   "metadata": {
    "scrolled": false
   },
   "outputs": [
    {
     "name": "stdout",
     "output_type": "stream",
     "text": [
      "Epoch 1/100\n",
      "77/77 [==============================] - 0s 571us/step - loss: 0.6082 - accuracy: 0.6888\n",
      "Epoch 2/100\n",
      "77/77 [==============================] - 0s 583us/step - loss: 0.6515 - accuracy: 0.6940\n",
      "Epoch 3/100\n",
      "77/77 [==============================] - 0s 570us/step - loss: 0.6263 - accuracy: 0.6823\n",
      "Epoch 4/100\n",
      "77/77 [==============================] - 0s 571us/step - loss: 0.6066 - accuracy: 0.7070\n",
      "Epoch 5/100\n",
      "77/77 [==============================] - 0s 571us/step - loss: 0.5965 - accuracy: 0.7188\n",
      "Epoch 6/100\n",
      "77/77 [==============================] - 0s 571us/step - loss: 0.6040 - accuracy: 0.6940\n",
      "Epoch 7/100\n",
      "77/77 [==============================] - 0s 583us/step - loss: 0.5870 - accuracy: 0.7057\n",
      "Epoch 8/100\n",
      "77/77 [==============================] - 0s 584us/step - loss: 0.6184 - accuracy: 0.6992\n",
      "Epoch 9/100\n",
      "77/77 [==============================] - 0s 571us/step - loss: 0.6194 - accuracy: 0.6927\n",
      "Epoch 10/100\n",
      "77/77 [==============================] - 0s 571us/step - loss: 0.6019 - accuracy: 0.7031\n",
      "Epoch 11/100\n",
      "77/77 [==============================] - 0s 570us/step - loss: 0.6276 - accuracy: 0.6875\n",
      "Epoch 12/100\n",
      "77/77 [==============================] - 0s 583us/step - loss: 0.6042 - accuracy: 0.6914\n",
      "Epoch 13/100\n",
      "77/77 [==============================] - 0s 583us/step - loss: 0.6012 - accuracy: 0.7018\n",
      "Epoch 14/100\n",
      "77/77 [==============================] - 0s 571us/step - loss: 0.5920 - accuracy: 0.7005\n",
      "Epoch 15/100\n",
      "77/77 [==============================] - 0s 583us/step - loss: 0.5904 - accuracy: 0.7096\n",
      "Epoch 16/100\n",
      "77/77 [==============================] - 0s 578us/step - loss: 0.6068 - accuracy: 0.6875\n",
      "Epoch 17/100\n",
      "77/77 [==============================] - 0s 609us/step - loss: 0.5878 - accuracy: 0.7109\n",
      "Epoch 18/100\n",
      "77/77 [==============================] - 0s 571us/step - loss: 0.5860 - accuracy: 0.7135\n",
      "Epoch 19/100\n",
      "77/77 [==============================] - 0s 570us/step - loss: 0.6015 - accuracy: 0.6927\n",
      "Epoch 20/100\n",
      "77/77 [==============================] - 0s 570us/step - loss: 0.5741 - accuracy: 0.6992\n",
      "Epoch 21/100\n",
      "77/77 [==============================] - 0s 584us/step - loss: 0.6093 - accuracy: 0.6979\n",
      "Epoch 22/100\n",
      "77/77 [==============================] - 0s 583us/step - loss: 0.5858 - accuracy: 0.7109\n",
      "Epoch 23/100\n",
      "77/77 [==============================] - 0s 571us/step - loss: 0.6015 - accuracy: 0.7083\n",
      "Epoch 24/100\n",
      "77/77 [==============================] - 0s 571us/step - loss: 0.5874 - accuracy: 0.6992\n",
      "Epoch 25/100\n",
      "77/77 [==============================] - 0s 562us/step - loss: 0.5814 - accuracy: 0.7161\n",
      "Epoch 26/100\n",
      "77/77 [==============================] - 0s 570us/step - loss: 0.5913 - accuracy: 0.6992\n",
      "Epoch 27/100\n",
      "77/77 [==============================] - 0s 570us/step - loss: 0.5809 - accuracy: 0.7070\n",
      "Epoch 28/100\n",
      "77/77 [==============================] - 0s 571us/step - loss: 0.5931 - accuracy: 0.7122\n",
      "Epoch 29/100\n",
      "77/77 [==============================] - 0s 570us/step - loss: 0.5748 - accuracy: 0.7122\n",
      "Epoch 30/100\n",
      "77/77 [==============================] - 0s 584us/step - loss: 0.5897 - accuracy: 0.7161\n",
      "Epoch 31/100\n",
      "77/77 [==============================] - 0s 571us/step - loss: 0.5739 - accuracy: 0.7214\n",
      "Epoch 32/100\n",
      "77/77 [==============================] - 0s 558us/step - loss: 0.5956 - accuracy: 0.7148\n",
      "Epoch 33/100\n",
      "77/77 [==============================] - 0s 572us/step - loss: 0.5933 - accuracy: 0.7096\n",
      "Epoch 34/100\n",
      "77/77 [==============================] - 0s 584us/step - loss: 0.5855 - accuracy: 0.7005\n",
      "Epoch 35/100\n",
      "77/77 [==============================] - 0s 572us/step - loss: 0.5805 - accuracy: 0.7109\n",
      "Epoch 36/100\n",
      "77/77 [==============================] - 0s 570us/step - loss: 0.5647 - accuracy: 0.7227\n",
      "Epoch 37/100\n",
      "77/77 [==============================] - 0s 570us/step - loss: 0.5727 - accuracy: 0.7109\n",
      "Epoch 38/100\n",
      "77/77 [==============================] - 0s 570us/step - loss: 0.5809 - accuracy: 0.7031\n",
      "Epoch 39/100\n",
      "77/77 [==============================] - 0s 585us/step - loss: 0.5794 - accuracy: 0.7044\n",
      "Epoch 40/100\n",
      "77/77 [==============================] - 0s 583us/step - loss: 0.5716 - accuracy: 0.7135\n",
      "Epoch 41/100\n",
      "77/77 [==============================] - 0s 569us/step - loss: 0.5766 - accuracy: 0.7214\n",
      "Epoch 42/100\n",
      "77/77 [==============================] - 0s 583us/step - loss: 0.5856 - accuracy: 0.7122\n",
      "Epoch 43/100\n",
      "77/77 [==============================] - 0s 570us/step - loss: 0.5809 - accuracy: 0.7292\n",
      "Epoch 44/100\n",
      "77/77 [==============================] - 0s 583us/step - loss: 0.5736 - accuracy: 0.7240\n",
      "Epoch 45/100\n",
      "77/77 [==============================] - 0s 558us/step - loss: 0.5632 - accuracy: 0.7305\n",
      "Epoch 46/100\n",
      "77/77 [==============================] - 0s 571us/step - loss: 0.5617 - accuracy: 0.7227\n",
      "Epoch 47/100\n",
      "77/77 [==============================] - 0s 570us/step - loss: 0.5720 - accuracy: 0.7214\n",
      "Epoch 48/100\n",
      "77/77 [==============================] - 0s 571us/step - loss: 0.5835 - accuracy: 0.6810\n",
      "Epoch 49/100\n",
      "77/77 [==============================] - 0s 584us/step - loss: 0.5872 - accuracy: 0.7109\n",
      "Epoch 50/100\n",
      "77/77 [==============================] - 0s 570us/step - loss: 0.5627 - accuracy: 0.7279\n",
      "Epoch 51/100\n",
      "77/77 [==============================] - 0s 571us/step - loss: 0.5768 - accuracy: 0.7161\n",
      "Epoch 52/100\n",
      "77/77 [==============================] - 0s 571us/step - loss: 0.5757 - accuracy: 0.7070\n",
      "Epoch 53/100\n",
      "77/77 [==============================] - 0s 571us/step - loss: 0.5612 - accuracy: 0.7318\n",
      "Epoch 54/100\n",
      "77/77 [==============================] - 0s 570us/step - loss: 0.5764 - accuracy: 0.7148\n",
      "Epoch 55/100\n",
      "77/77 [==============================] - 0s 570us/step - loss: 0.5787 - accuracy: 0.7240\n",
      "Epoch 56/100\n",
      "77/77 [==============================] - 0s 577us/step - loss: 0.5768 - accuracy: 0.7005\n",
      "Epoch 57/100\n",
      "77/77 [==============================] - 0s 577us/step - loss: 0.5521 - accuracy: 0.7435\n",
      "Epoch 58/100\n",
      "77/77 [==============================] - 0s 570us/step - loss: 0.5670 - accuracy: 0.7266\n",
      "Epoch 59/100\n",
      "77/77 [==============================] - 0s 570us/step - loss: 0.5756 - accuracy: 0.7174\n",
      "Epoch 60/100\n",
      "77/77 [==============================] - 0s 570us/step - loss: 0.5837 - accuracy: 0.7018\n",
      "Epoch 61/100\n",
      "77/77 [==============================] - 0s 570us/step - loss: 0.5837 - accuracy: 0.7122\n",
      "Epoch 62/100\n",
      "77/77 [==============================] - 0s 570us/step - loss: 0.5703 - accuracy: 0.7227\n",
      "Epoch 63/100\n",
      "77/77 [==============================] - 0s 583us/step - loss: 0.5547 - accuracy: 0.7370\n",
      "Epoch 64/100\n",
      "77/77 [==============================] - 0s 583us/step - loss: 0.5692 - accuracy: 0.7135\n",
      "Epoch 65/100\n",
      "77/77 [==============================] - 0s 558us/step - loss: 0.5725 - accuracy: 0.7318\n",
      "Epoch 66/100\n",
      "77/77 [==============================] - 0s 571us/step - loss: 0.5520 - accuracy: 0.7279\n",
      "Epoch 67/100\n",
      "77/77 [==============================] - 0s 571us/step - loss: 0.5548 - accuracy: 0.7370\n",
      "Epoch 68/100\n",
      "77/77 [==============================] - 0s 583us/step - loss: 0.5770 - accuracy: 0.7083\n",
      "Epoch 69/100\n",
      "77/77 [==============================] - 0s 571us/step - loss: 0.5657 - accuracy: 0.7305\n",
      "Epoch 70/100\n",
      "77/77 [==============================] - 0s 570us/step - loss: 0.5685 - accuracy: 0.7174\n",
      "Epoch 71/100\n",
      "77/77 [==============================] - 0s 571us/step - loss: 0.5598 - accuracy: 0.7292\n",
      "Epoch 72/100\n",
      "77/77 [==============================] - 0s 571us/step - loss: 0.5689 - accuracy: 0.7253\n",
      "Epoch 73/100\n",
      "77/77 [==============================] - 0s 570us/step - loss: 0.5670 - accuracy: 0.7240\n",
      "Epoch 74/100\n",
      "77/77 [==============================] - 0s 584us/step - loss: 0.5569 - accuracy: 0.7396\n",
      "Epoch 75/100\n",
      "77/77 [==============================] - 0s 570us/step - loss: 0.5756 - accuracy: 0.7279\n",
      "Epoch 76/100\n",
      "77/77 [==============================] - 0s 571us/step - loss: 0.5544 - accuracy: 0.7253\n",
      "Epoch 77/100\n",
      "77/77 [==============================] - 0s 570us/step - loss: 0.5715 - accuracy: 0.7148\n",
      "Epoch 78/100\n",
      "77/77 [==============================] - 0s 583us/step - loss: 0.5692 - accuracy: 0.7135\n",
      "Epoch 79/100\n",
      "77/77 [==============================] - 0s 573us/step - loss: 0.5637 - accuracy: 0.7370\n",
      "Epoch 80/100\n",
      "77/77 [==============================] - 0s 570us/step - loss: 0.5473 - accuracy: 0.7383\n",
      "Epoch 81/100\n",
      "77/77 [==============================] - 0s 570us/step - loss: 0.5647 - accuracy: 0.7305\n",
      "Epoch 82/100\n",
      "77/77 [==============================] - 0s 571us/step - loss: 0.5529 - accuracy: 0.7292\n",
      "Epoch 83/100\n",
      "77/77 [==============================] - 0s 571us/step - loss: 0.5415 - accuracy: 0.7487\n",
      "Epoch 84/100\n",
      "77/77 [==============================] - 0s 571us/step - loss: 0.5373 - accuracy: 0.7383\n",
      "Epoch 85/100\n",
      "77/77 [==============================] - 0s 570us/step - loss: 0.5551 - accuracy: 0.7305\n",
      "Epoch 86/100\n",
      "77/77 [==============================] - 0s 566us/step - loss: 0.5528 - accuracy: 0.7292\n",
      "Epoch 87/100\n",
      "77/77 [==============================] - 0s 584us/step - loss: 0.5333 - accuracy: 0.7578\n",
      "Epoch 88/100\n",
      "77/77 [==============================] - 0s 571us/step - loss: 0.5604 - accuracy: 0.7266\n",
      "Epoch 89/100\n",
      "77/77 [==============================] - 0s 583us/step - loss: 0.5618 - accuracy: 0.7318\n",
      "Epoch 90/100\n",
      "77/77 [==============================] - 0s 582us/step - loss: 0.5475 - accuracy: 0.7370\n",
      "Epoch 91/100\n",
      "77/77 [==============================] - 0s 571us/step - loss: 0.5495 - accuracy: 0.7383\n",
      "Epoch 92/100\n",
      "77/77 [==============================] - 0s 571us/step - loss: 0.5522 - accuracy: 0.7370\n",
      "Epoch 93/100\n",
      "77/77 [==============================] - 0s 570us/step - loss: 0.5536 - accuracy: 0.7292\n",
      "Epoch 94/100\n",
      "77/77 [==============================] - 0s 572us/step - loss: 0.5586 - accuracy: 0.7318\n",
      "Epoch 95/100\n",
      "77/77 [==============================] - 0s 570us/step - loss: 0.5432 - accuracy: 0.7370\n",
      "Epoch 96/100\n",
      "77/77 [==============================] - 0s 572us/step - loss: 0.5602 - accuracy: 0.7344\n",
      "Epoch 97/100\n",
      "77/77 [==============================] - 0s 564us/step - loss: 0.5427 - accuracy: 0.7409\n",
      "Epoch 98/100\n",
      "77/77 [==============================] - 0s 570us/step - loss: 0.5690 - accuracy: 0.7279\n",
      "Epoch 99/100\n",
      "77/77 [==============================] - 0s 584us/step - loss: 0.5564 - accuracy: 0.7279\n",
      "Epoch 100/100\n",
      "77/77 [==============================] - 0s 557us/step - loss: 0.5589 - accuracy: 0.7266\n",
      "24/24 [==============================] - 0s 540us/step - loss: 0.5499 - accuracy: 0.6979\n",
      "Accuracy: 69.79\n"
     ]
    }
   ],
   "source": [
    "# fit the keras model on the dataset\n",
    "model.fit(X, y, epochs=100, batch_size=10)\n",
    "# evaluate the keras model\n",
    "_, accuracy = model.evaluate(X, y)\n",
    "print('Accuracy: %.2f' % (accuracy*100))"
   ]
  },
  {
   "cell_type": "markdown",
   "id": "544dc613",
   "metadata": {},
   "source": [
    "## (f) Modell abspeichern"
   ]
  },
  {
   "cell_type": "code",
   "execution_count": 9,
   "id": "64d024ab",
   "metadata": {},
   "outputs": [
    {
     "name": "stdout",
     "output_type": "stream",
     "text": [
      "Saved model to disk\n"
     ]
    }
   ],
   "source": [
    "# serialize model to JSON\n",
    "model_json = model.to_json()\n",
    "with open(\"model.json\", \"w\") as json_file:\n",
    "    json_file.write(model_json)\n",
    "    \n",
    "# serialize weights to HDF5\n",
    "model.save_weights(\"model.h5\")\n",
    "print(\"Saved model to disk\")"
   ]
  },
  {
   "cell_type": "markdown",
   "id": "486cf7fa",
   "metadata": {},
   "source": [
    "Sie können Ihr Modell speichern, indem Sie die Funktion `save()` für das Modell aufrufen und den Dateinamen angeben.\n",
    "Das folgende Beispiel demonstriert dies, indem zunächst ein Modell angepasst, ausgewertet und in der Datei \"model.h5\" gespeichert wird."
   ]
  },
  {
   "cell_type": "code",
   "execution_count": 10,
   "id": "a06790f2",
   "metadata": {},
   "outputs": [
    {
     "name": "stdout",
     "output_type": "stream",
     "text": [
      "Saved model to disk\n"
     ]
    }
   ],
   "source": [
    "# save model and architecture to single file\n",
    "model.save(\"model.h5\")\n",
    "print(\"Saved model to disk\")"
   ]
  },
  {
   "cell_type": "markdown",
   "id": "83ebab6c",
   "metadata": {},
   "source": [
    "## (g) Modell laden"
   ]
  },
  {
   "cell_type": "code",
   "execution_count": 11,
   "id": "b73ea4dc",
   "metadata": {},
   "outputs": [
    {
     "name": "stdout",
     "output_type": "stream",
     "text": [
      "Model: \"sequential\"\n",
      "_________________________________________________________________\n",
      "Layer (type)                 Output Shape              Param #   \n",
      "=================================================================\n",
      "dense (Dense)                (None, 12)                108       \n",
      "_________________________________________________________________\n",
      "dense_1 (Dense)              (None, 8)                 104       \n",
      "_________________________________________________________________\n",
      "dense_2 (Dense)              (None, 1)                 9         \n",
      "=================================================================\n",
      "Total params: 221\n",
      "Trainable params: 221\n",
      "Non-trainable params: 0\n",
      "_________________________________________________________________\n",
      "accuracy: 74.48%\n",
      "Loaded model from disk\n"
     ]
    }
   ],
   "source": [
    "# load and evaluate a saved model\n",
    "\n",
    "from keras.models import load_model\n",
    "from keras.models import model_from_json\n",
    "\n",
    "# load model\n",
    "model = load_model('model.h5')\n",
    "# summarize model.\n",
    "model.summary()\n",
    "\n",
    "# load dataset\n",
    "dataset = loadtxt(\"pima-indians-diabetes.csv\", delimiter=\",\")\n",
    "# split into input (X) and output (Y) variables\n",
    "X = dataset[:,0:8]\n",
    "Y = dataset[:,8]\n",
    "\n",
    "# evaluate the model\n",
    "score = model.evaluate(X, Y, verbose=0)\n",
    "print(\"%s: %.2f%%\" % (model.metrics_names[1], score[1]*100))\n",
    "\n",
    "# load json and create model\n",
    "json_file = open('model.json', 'r')\n",
    "loaded_model_json = json_file.read()\n",
    "json_file.close()\n",
    "loaded_model = model_from_json(loaded_model_json)\n",
    "# load weights into new model\n",
    "loaded_model.load_weights(\"model.h5\")\n",
    "print(\"Loaded model from disk\")"
   ]
  },
  {
   "cell_type": "markdown",
   "id": "3d40eadc",
   "metadata": {},
   "source": [
    "## (h) Aufteilen in einen Trainings und Validierungsdatensatz\n",
    "\n",
    "Teilen Sie den geladenen Datensatz in einen Trainings- und einen Testdatensatz auf (Aufteilung nach Zeilen) und verwenden Sie einen die Trainingsdaten (80%), um das Modell zu trainieren, und den Validierungsdatensatz (20%), um die Leistung des Modells auf neuen Daten zu schätzen.\n"
   ]
  },
  {
   "cell_type": "code",
   "execution_count": 14,
   "id": "bd60cc63",
   "metadata": {},
   "outputs": [
    {
     "name": "stdout",
     "output_type": "stream",
     "text": [
      "Using 614 samples for training and 154 for validation\n"
     ]
    }
   ],
   "source": [
    "import numpy as np\n",
    "import matplotlib.pyplot as plt\n",
    "from sklearn.model_selection import train_test_split\n",
    "\n",
    "val_dataframe   = df.sample(frac=0.2, random_state=1337)\n",
    "train_dataframe = df.drop(val_dataframe.index)\n",
    "\n",
    "print(\n",
    "    \"Using %d samples for training and %d for validation\"\n",
    "    % (len(train_dataframe), len(val_dataframe))\n",
    ")\n"
   ]
  },
  {
   "cell_type": "markdown",
   "id": "f42c2b4a",
   "metadata": {},
   "source": [
    "## (i) Dataset-Objekt erstellen\n",
    "\n",
    "Die `tf.data`-API (\\url{https://www.tensorflow.org/guide/data}) ermöglicht es Ihnen, komplexe Eingangs-Pipelines aus einfachen, wiederverwendbaren Teilen aufzubauen. Die Pipeline für ein Bildmodell könnte beispielsweise Daten aus Dateien in einem verteilten Dateisystem aggregieren, zufällige Störungen auf jedes Bild anwenden und zufällig ausgewählte Bilder zum Training zu einem Stapel (batch) zusammenführen. Die Pipeline für Texdaten kann das Extrahieren von Symbolen aus Rohtextdaten, deren Umwandlung in ein Embeddding und das Zusammenführen von Sequenzen unterschiedlicher Länge umfassen. Die `tf.data` API ermöglicht es , grosse Datenmengen zu verarbeiten, liest aus verschiedenen Datenformaten und ist in der Lage, komplexe Transformationen durchzuführen.\n",
    "\t\t\n",
    "Die `tf.data`-API führt ein \\texttt{tf.data.Dataset}-Objekt ein, welches eine Sequenz von Elementen darstellt, wobei jedes Element aus einer oder mehreren Komponenten besteht. In einer Bild-Pipeline könnte ein Element zum Beispiel ein einzelnes Trainingsbeispiel sein, bestehend aus einem Tupel aus je zwei Tensoren, die das Bild und sein Label darstellen.\n"
   ]
  },
  {
   "cell_type": "code",
   "execution_count": 30,
   "id": "6c3316b7",
   "metadata": {},
   "outputs": [],
   "source": [
    "def dataframe_to_dataset(df):\n",
    "    dg = df.copy()\n",
    "    labels = dg.pop('Outcome')\n",
    "    dataset = tf.data.Dataset.from_tensor_slices((dg.values, labels.values))\n",
    "    dataset = dataset.batch(32).repeat()\n",
    "    dataset = dataset.shuffle(buffer_size=len(df))\n",
    "    return dataset"
   ]
  },
  {
   "cell_type": "code",
   "execution_count": 17,
   "id": "3bcbbb7e",
   "metadata": {},
   "outputs": [],
   "source": [
    "train_dataset=dataframe_to_dataset(train_dataframe)\n",
    "val_dataset  =dataframe_to_dataset(val_dataframe)"
   ]
  },
  {
   "cell_type": "markdown",
   "id": "1d93dc19",
   "metadata": {},
   "source": [
    "## (j) Lernkurven grafisch darstellen\n",
    "\n",
    "Die Funktion `fit()` gibt ein `History`-Objekt zurück, das den Verlust und die Genauigkeit am Ende jeder Epoche zusammenfasst. Erstellen Sie Liniendiagramme dieser Daten, sogenannte Lernkurven.\n"
   ]
  },
  {
   "cell_type": "code",
   "execution_count": 18,
   "id": "6bab9c28",
   "metadata": {},
   "outputs": [],
   "source": [
    "def plot_history(history):\n",
    "    #print(history.history.keys())\n",
    "    #  \"Accuracy\"\n",
    "    plt.plot(history.history['accuracy'])\n",
    "    plt.plot(history.history['val_accuracy'])\n",
    "    plt.title('model accuracy')\n",
    "    plt.ylabel('accuracy')\n",
    "    plt.xlabel('epoch')\n",
    "    plt.legend(['train', 'validation'], loc='upper left')\n",
    "    plt.grid(True); plt.show()\n",
    "    # \"Loss\"\n",
    "    plt.plot(history.history['loss'])\n",
    "    plt.plot(history.history['val_loss'])\n",
    "    plt.title('model loss')\n",
    "    plt.ylabel('loss')\n",
    "    plt.xlabel('epoch')\n",
    "    plt.legend(['train', 'validation'], loc='upper left')\n",
    "    plt.grid(True); plt.show()"
   ]
  },
  {
   "cell_type": "code",
   "execution_count": 19,
   "id": "c1d4ef40",
   "metadata": {},
   "outputs": [
    {
     "name": "stdout",
     "output_type": "stream",
     "text": [
      "Epoch 1/50\n",
      "100/100 [==============================] - 0s 1ms/step - loss: 0.4797 - accuracy: 0.7719 - val_loss: 0.4848 - val_accuracy: 0.7890\n",
      "Epoch 2/50\n",
      "100/100 [==============================] - 0s 527us/step - loss: 0.4592 - accuracy: 0.7925 - val_loss: 0.4955 - val_accuracy: 0.7420\n",
      "Epoch 3/50\n",
      "100/100 [==============================] - 0s 499us/step - loss: 0.4745 - accuracy: 0.7684 - val_loss: 0.4891 - val_accuracy: 0.7417\n",
      "Epoch 4/50\n",
      "100/100 [==============================] - 0s 499us/step - loss: 0.4661 - accuracy: 0.7831 - val_loss: 0.4805 - val_accuracy: 0.7848\n",
      "Epoch 5/50\n",
      "100/100 [==============================] - 0s 489us/step - loss: 0.4611 - accuracy: 0.7759 - val_loss: 0.5522 - val_accuracy: 0.7103\n",
      "Epoch 6/50\n",
      "100/100 [==============================] - 0s 500us/step - loss: 0.4655 - accuracy: 0.7793 - val_loss: 0.4765 - val_accuracy: 0.7848\n",
      "Epoch 7/50\n",
      "100/100 [==============================] - 0s 499us/step - loss: 0.4664 - accuracy: 0.7730 - val_loss: 0.4720 - val_accuracy: 0.8281\n",
      "Epoch 8/50\n",
      "100/100 [==============================] - 0s 499us/step - loss: 0.4659 - accuracy: 0.7757 - val_loss: 0.4952 - val_accuracy: 0.7305\n",
      "Epoch 9/50\n",
      "100/100 [==============================] - 0s 489us/step - loss: 0.4765 - accuracy: 0.7651 - val_loss: 0.4699 - val_accuracy: 0.7468\n",
      "Epoch 10/50\n",
      "100/100 [==============================] - 0s 479us/step - loss: 0.4643 - accuracy: 0.7844 - val_loss: 0.4929 - val_accuracy: 0.7890\n",
      "Epoch 11/50\n",
      "100/100 [==============================] - 0s 504us/step - loss: 0.4662 - accuracy: 0.7828 - val_loss: 0.5418 - val_accuracy: 0.6954\n",
      "Epoch 12/50\n",
      "100/100 [==============================] - 0s 499us/step - loss: 0.4521 - accuracy: 0.7975 - val_loss: 0.4633 - val_accuracy: 0.7516\n",
      "Epoch 13/50\n",
      "100/100 [==============================] - 0s 490us/step - loss: 0.4612 - accuracy: 0.7742 - val_loss: 0.4879 - val_accuracy: 0.7452\n",
      "Epoch 14/50\n",
      "100/100 [==============================] - 0s 499us/step - loss: 0.4675 - accuracy: 0.7681 - val_loss: 0.5070 - val_accuracy: 0.7532\n",
      "Epoch 15/50\n",
      "100/100 [==============================] - 0s 489us/step - loss: 0.4599 - accuracy: 0.7791 - val_loss: 0.5124 - val_accuracy: 0.7550\n",
      "Epoch 16/50\n",
      "100/100 [==============================] - 0s 530us/step - loss: 0.4579 - accuracy: 0.7878 - val_loss: 0.5111 - val_accuracy: 0.7483\n",
      "Epoch 17/50\n",
      "100/100 [==============================] - 0s 519us/step - loss: 0.4428 - accuracy: 0.7863 - val_loss: 0.5192 - val_accuracy: 0.7517\n",
      "Epoch 18/50\n",
      "100/100 [==============================] - 0s 489us/step - loss: 0.4423 - accuracy: 0.7918 - val_loss: 0.5491 - val_accuracy: 0.7208\n",
      "Epoch 19/50\n",
      "100/100 [==============================] - 0s 489us/step - loss: 0.4548 - accuracy: 0.7772 - val_loss: 0.5266 - val_accuracy: 0.7351\n",
      "Epoch 20/50\n",
      "100/100 [==============================] - 0s 489us/step - loss: 0.4556 - accuracy: 0.7853 - val_loss: 0.5280 - val_accuracy: 0.7229\n",
      "Epoch 21/50\n",
      "100/100 [==============================] - 0s 479us/step - loss: 0.4616 - accuracy: 0.7720 - val_loss: 0.5594 - val_accuracy: 0.6931\n",
      "Epoch 22/50\n",
      "100/100 [==============================] - 0s 479us/step - loss: 0.4378 - accuracy: 0.7893 - val_loss: 0.4622 - val_accuracy: 0.7548\n",
      "Epoch 23/50\n",
      "100/100 [==============================] - 0s 480us/step - loss: 0.4535 - accuracy: 0.7836 - val_loss: 0.5585 - val_accuracy: 0.7061\n",
      "Epoch 24/50\n",
      "100/100 [==============================] - 0s 480us/step - loss: 0.4492 - accuracy: 0.7824 - val_loss: 0.5120 - val_accuracy: 0.7293\n",
      "Epoch 25/50\n",
      "100/100 [==============================] - 0s 485us/step - loss: 0.4567 - accuracy: 0.7824 - val_loss: 0.5107 - val_accuracy: 0.7318\n",
      "Epoch 26/50\n",
      "100/100 [==============================] - 0s 489us/step - loss: 0.4487 - accuracy: 0.7816 - val_loss: 0.4944 - val_accuracy: 0.7739\n",
      "Epoch 27/50\n",
      "100/100 [==============================] - 0s 479us/step - loss: 0.4416 - accuracy: 0.7938 - val_loss: 0.5094 - val_accuracy: 0.7420\n",
      "Epoch 28/50\n",
      "100/100 [==============================] - 0s 510us/step - loss: 0.4591 - accuracy: 0.7760 - val_loss: 0.5292 - val_accuracy: 0.7273\n",
      "Epoch 29/50\n",
      "100/100 [==============================] - 0s 489us/step - loss: 0.4356 - accuracy: 0.7933 - val_loss: 0.5111 - val_accuracy: 0.7656\n",
      "Epoch 30/50\n",
      "100/100 [==============================] - 0s 490us/step - loss: 0.4512 - accuracy: 0.7846 - val_loss: 0.5527 - val_accuracy: 0.7532\n",
      "Epoch 31/50\n",
      "100/100 [==============================] - 0s 479us/step - loss: 0.4349 - accuracy: 0.7889 - val_loss: 0.5385 - val_accuracy: 0.7516\n",
      "Epoch 32/50\n",
      "100/100 [==============================] - 0s 470us/step - loss: 0.4372 - accuracy: 0.7886 - val_loss: 0.5343 - val_accuracy: 0.7134\n",
      "Epoch 33/50\n",
      "100/100 [==============================] - 0s 479us/step - loss: 0.4492 - accuracy: 0.7741 - val_loss: 0.5322 - val_accuracy: 0.7086\n",
      "Epoch 34/50\n",
      "100/100 [==============================] - 0s 489us/step - loss: 0.4295 - accuracy: 0.7951 - val_loss: 0.5061 - val_accuracy: 0.7403\n",
      "Epoch 35/50\n",
      "100/100 [==============================] - 0s 479us/step - loss: 0.4462 - accuracy: 0.7840 - val_loss: 0.5361 - val_accuracy: 0.7293\n",
      "Epoch 36/50\n",
      "100/100 [==============================] - 0s 489us/step - loss: 0.4392 - accuracy: 0.7943 - val_loss: 0.5625 - val_accuracy: 0.7281\n",
      "Epoch 37/50\n",
      "100/100 [==============================] - 0s 494us/step - loss: 0.4534 - accuracy: 0.7820 - val_loss: 0.5830 - val_accuracy: 0.7208\n",
      "Epoch 38/50\n",
      "100/100 [==============================] - 0s 499us/step - loss: 0.4450 - accuracy: 0.7865 - val_loss: 0.5374 - val_accuracy: 0.7197\n",
      "Epoch 39/50\n",
      "100/100 [==============================] - 0s 480us/step - loss: 0.4415 - accuracy: 0.7916 - val_loss: 0.5516 - val_accuracy: 0.7516\n",
      "Epoch 40/50\n",
      "100/100 [==============================] - 0s 500us/step - loss: 0.4453 - accuracy: 0.7812 - val_loss: 0.5706 - val_accuracy: 0.7078\n",
      "Epoch 41/50\n",
      "100/100 [==============================] - 0s 489us/step - loss: 0.4533 - accuracy: 0.7749 - val_loss: 0.4696 - val_accuracy: 0.7815\n",
      "Epoch 42/50\n",
      "100/100 [==============================] - 0s 479us/step - loss: 0.4461 - accuracy: 0.7860 - val_loss: 0.5082 - val_accuracy: 0.7500\n",
      "Epoch 43/50\n",
      "100/100 [==============================] - 0s 469us/step - loss: 0.4422 - accuracy: 0.7891 - val_loss: 0.5053 - val_accuracy: 0.7500\n",
      "Epoch 44/50\n",
      "100/100 [==============================] - 0s 470us/step - loss: 0.4398 - accuracy: 0.7832 - val_loss: 0.4776 - val_accuracy: 0.7834\n",
      "Epoch 45/50\n",
      "100/100 [==============================] - 0s 479us/step - loss: 0.4300 - accuracy: 0.7958 - val_loss: 0.5144 - val_accuracy: 0.7273\n",
      "Epoch 46/50\n",
      "100/100 [==============================] - 0s 490us/step - loss: 0.4254 - accuracy: 0.7957 - val_loss: 0.5004 - val_accuracy: 0.7649\n",
      "Epoch 47/50\n",
      "100/100 [==============================] - 0s 489us/step - loss: 0.4519 - accuracy: 0.7807 - val_loss: 0.5472 - val_accuracy: 0.7389\n",
      "Epoch 48/50\n",
      "100/100 [==============================] - 0s 489us/step - loss: 0.4377 - accuracy: 0.7837 - val_loss: 0.4773 - val_accuracy: 0.7531\n",
      "Epoch 49/50\n",
      "100/100 [==============================] - 0s 469us/step - loss: 0.4253 - accuracy: 0.8065 - val_loss: 0.5471 - val_accuracy: 0.7240\n",
      "Epoch 50/50\n",
      "100/100 [==============================] - 0s 479us/step - loss: 0.4372 - accuracy: 0.7918 - val_loss: 0.4744 - val_accuracy: 0.7548\n",
      "Accuracy: 74.48\n"
     ]
    }
   ],
   "source": [
    "history=model.fit(train_dataset, epochs=50, \n",
    "          steps_per_epoch=100,\n",
    "          validation_data=val_dataset,\n",
    "          validation_steps=10)\n",
    "\n",
    "print('Accuracy: %.2f' % (accuracy*100))"
   ]
  },
  {
   "cell_type": "code",
   "execution_count": 20,
   "id": "691808d5",
   "metadata": {},
   "outputs": [
    {
     "data": {
      "image/png": "[encoded data removed]",
      "text/plain": [
       "<Figure size 432x288 with 1 Axes>"
      ]
     },
     "metadata": {
      "needs_background": "light"
     },
     "output_type": "display_data"
    },
    {
     "data": {
      "image/png": "[encoded data removed]",
      "text/plain": [
       "<Figure size 432x288 with 1 Axes>"
      ]
     },
     "metadata": {
      "needs_background": "light"
     },
     "output_type": "display_data"
    }
   ],
   "source": [
    "plot_history(history)"
   ]
  },
  {
   "cell_type": "code",
   "execution_count": 24,
   "id": "aa2f5ba7",
   "metadata": {},
   "outputs": [],
   "source": [
    "# define the keras model\n",
    "model = Sequential()\n",
    "model.add(Dense(16, input_dim=8, activation='relu'))\n",
    "model.add(Dropout(0.40))\n",
    "model.add(Dense(8, activation='relu'))\n",
    "model.add(Dense(1, activation='sigmoid'))"
   ]
  },
  {
   "cell_type": "code",
   "execution_count": 25,
   "id": "296083e7",
   "metadata": {},
   "outputs": [],
   "source": [
    "# compile the keras model\n",
    "model.compile(loss='binary_crossentropy', optimizer='adam', metrics=['accuracy'])"
   ]
  },
  {
   "cell_type": "code",
   "execution_count": 26,
   "id": "3766c6b6",
   "metadata": {},
   "outputs": [
    {
     "name": "stdout",
     "output_type": "stream",
     "text": [
      "Epoch 1/50\n",
      "100/100 [==============================] - 0s 1ms/step - loss: 2.1636 - accuracy: 0.5115 - val_loss: 0.7239 - val_accuracy: 0.5892\n",
      "Epoch 2/50\n",
      "100/100 [==============================] - 0s 523us/step - loss: 1.1871 - accuracy: 0.5575 - val_loss: 0.6656 - val_accuracy: 0.6656\n",
      "Epoch 3/50\n",
      "100/100 [==============================] - 0s 509us/step - loss: 0.9111 - accuracy: 0.5733 - val_loss: 0.6716 - val_accuracy: 0.6351\n",
      "Epoch 4/50\n",
      "100/100 [==============================] - 0s 508us/step - loss: 0.8342 - accuracy: 0.5948 - val_loss: 0.6254 - val_accuracy: 0.7417\n",
      "Epoch 5/50\n",
      "100/100 [==============================] - 0s 509us/step - loss: 0.7790 - accuracy: 0.6055 - val_loss: 0.6805 - val_accuracy: 0.6126\n",
      "Epoch 6/50\n",
      "100/100 [==============================] - 0s 509us/step - loss: 0.7399 - accuracy: 0.6235 - val_loss: 0.6370 - val_accuracy: 0.7240\n",
      "Epoch 7/50\n",
      "100/100 [==============================] - 0s 496us/step - loss: 0.7119 - accuracy: 0.6283 - val_loss: 0.6394 - val_accuracy: 0.7208\n",
      "Epoch 8/50\n",
      "100/100 [==============================] - 0s 539us/step - loss: 0.6952 - accuracy: 0.6426 - val_loss: 0.6099 - val_accuracy: 0.7611\n",
      "Epoch 9/50\n",
      "100/100 [==============================] - 0s 515us/step - loss: 0.7041 - accuracy: 0.6055 - val_loss: 0.6293 - val_accuracy: 0.7532\n",
      "Epoch 10/50\n",
      "100/100 [==============================] - 0s 509us/step - loss: 0.6676 - accuracy: 0.6599 - val_loss: 0.5904 - val_accuracy: 0.7643\n",
      "Epoch 11/50\n",
      "100/100 [==============================] - 0s 521us/step - loss: 0.7009 - accuracy: 0.6256 - val_loss: 0.6139 - val_accuracy: 0.7531\n",
      "Epoch 12/50\n",
      "100/100 [==============================] - 0s 515us/step - loss: 0.6730 - accuracy: 0.6363 - val_loss: 0.6802 - val_accuracy: 0.6854\n",
      "Epoch 13/50\n",
      "100/100 [==============================] - 0s 529us/step - loss: 0.6736 - accuracy: 0.6300 - val_loss: 0.6290 - val_accuracy: 0.7739\n",
      "Epoch 14/50\n",
      "100/100 [==============================] - 0s 531us/step - loss: 0.6557 - accuracy: 0.6521 - val_loss: 0.6217 - val_accuracy: 0.7601\n",
      "Epoch 15/50\n",
      "100/100 [==============================] - 0s 509us/step - loss: 0.6579 - accuracy: 0.6445 - val_loss: 0.6161 - val_accuracy: 0.7532\n",
      "Epoch 16/50\n",
      "100/100 [==============================] - 0s 495us/step - loss: 0.6618 - accuracy: 0.6382 - val_loss: 0.5961 - val_accuracy: 0.7695\n",
      "Epoch 17/50\n",
      "100/100 [==============================] - 0s 519us/step - loss: 0.6567 - accuracy: 0.6453 - val_loss: 0.6673 - val_accuracy: 0.7261\n",
      "Epoch 18/50\n",
      "100/100 [==============================] - 0s 519us/step - loss: 0.6529 - accuracy: 0.6409 - val_loss: 0.6072 - val_accuracy: 0.7597\n",
      "Epoch 19/50\n",
      "100/100 [==============================] - 0s 510us/step - loss: 0.6460 - accuracy: 0.6570 - val_loss: 0.6288 - val_accuracy: 0.7611\n",
      "Epoch 20/50\n",
      "100/100 [==============================] - 0s 508us/step - loss: 0.6488 - accuracy: 0.6461 - val_loss: 0.6065 - val_accuracy: 0.7229\n",
      "Epoch 21/50\n",
      "100/100 [==============================] - 0s 529us/step - loss: 0.6403 - accuracy: 0.6511 - val_loss: 0.6068 - val_accuracy: 0.7568\n",
      "Epoch 22/50\n",
      "100/100 [==============================] - 0s 514us/step - loss: 0.6481 - accuracy: 0.6372 - val_loss: 0.6079 - val_accuracy: 0.7872\n",
      "Epoch 23/50\n",
      "100/100 [==============================] - 0s 503us/step - loss: 0.6382 - accuracy: 0.6447 - val_loss: 0.5949 - val_accuracy: 0.7803\n",
      "Epoch 24/50\n",
      "100/100 [==============================] - 0s 510us/step - loss: 0.6287 - accuracy: 0.6571 - val_loss: 0.6601 - val_accuracy: 0.7483\n",
      "Epoch 25/50\n",
      "100/100 [==============================] - 0s 510us/step - loss: 0.6264 - accuracy: 0.6527 - val_loss: 0.6819 - val_accuracy: 0.7675\n",
      "Epoch 26/50\n",
      "100/100 [==============================] - 0s 499us/step - loss: 0.6339 - accuracy: 0.6544 - val_loss: 0.6575 - val_accuracy: 0.7675\n",
      "Epoch 27/50\n",
      "100/100 [==============================] - 0s 500us/step - loss: 0.6289 - accuracy: 0.6488 - val_loss: 0.6989 - val_accuracy: 0.7420\n",
      "Epoch 28/50\n",
      "100/100 [==============================] - 0s 509us/step - loss: 0.6241 - accuracy: 0.6604 - val_loss: 0.6410 - val_accuracy: 0.8313\n",
      "Epoch 29/50\n",
      "100/100 [==============================] - 0s 499us/step - loss: 0.6274 - accuracy: 0.6568 - val_loss: 0.5347 - val_accuracy: 0.8179\n",
      "Epoch 30/50\n",
      "100/100 [==============================] - 0s 500us/step - loss: 0.6192 - accuracy: 0.6672 - val_loss: 0.7098 - val_accuracy: 0.7597\n",
      "Epoch 31/50\n",
      "100/100 [==============================] - 0s 519us/step - loss: 0.6106 - accuracy: 0.6798 - val_loss: 0.6022 - val_accuracy: 0.8057\n",
      "Epoch 32/50\n",
      "100/100 [==============================] - 0s 509us/step - loss: 0.6153 - accuracy: 0.6690 - val_loss: 0.6331 - val_accuracy: 0.7565\n",
      "Epoch 33/50\n",
      "100/100 [==============================] - 0s 520us/step - loss: 0.6069 - accuracy: 0.6754 - val_loss: 0.6742 - val_accuracy: 0.7715\n",
      "Epoch 34/50\n",
      "100/100 [==============================] - 0s 495us/step - loss: 0.6117 - accuracy: 0.6744 - val_loss: 0.6927 - val_accuracy: 0.7548\n",
      "Epoch 35/50\n",
      "100/100 [==============================] - 0s 509us/step - loss: 0.6064 - accuracy: 0.6820 - val_loss: 0.6246 - val_accuracy: 0.7548\n",
      "Epoch 36/50\n",
      "100/100 [==============================] - 0s 520us/step - loss: 0.6034 - accuracy: 0.6828 - val_loss: 0.5911 - val_accuracy: 0.8089\n",
      "Epoch 37/50\n",
      "100/100 [==============================] - 0s 520us/step - loss: 0.6071 - accuracy: 0.6776 - val_loss: 0.7288 - val_accuracy: 0.7662\n",
      "Epoch 38/50\n",
      "100/100 [==============================] - 0s 507us/step - loss: 0.6013 - accuracy: 0.6873 - val_loss: 0.7435 - val_accuracy: 0.7452\n",
      "Epoch 39/50\n",
      "100/100 [==============================] - 0s 509us/step - loss: 0.5997 - accuracy: 0.6870 - val_loss: 0.5715 - val_accuracy: 0.8510\n",
      "Epoch 40/50\n",
      "100/100 [==============================] - 0s 502us/step - loss: 0.6006 - accuracy: 0.6817 - val_loss: 0.6033 - val_accuracy: 0.8247\n",
      "Epoch 41/50\n",
      "100/100 [==============================] - 0s 510us/step - loss: 0.6043 - accuracy: 0.6860 - val_loss: 0.5824 - val_accuracy: 0.8079\n",
      "Epoch 42/50\n",
      "100/100 [==============================] - 0s 499us/step - loss: 0.6011 - accuracy: 0.6827 - val_loss: 0.6167 - val_accuracy: 0.7695\n",
      "Epoch 43/50\n",
      "100/100 [==============================] - 0s 502us/step - loss: 0.5997 - accuracy: 0.6839 - val_loss: 0.7844 - val_accuracy: 0.7384\n",
      "Epoch 44/50\n",
      "100/100 [==============================] - 0s 499us/step - loss: 0.5973 - accuracy: 0.6909 - val_loss: 0.7772 - val_accuracy: 0.8057\n",
      "Epoch 45/50\n",
      "100/100 [==============================] - 0s 499us/step - loss: 0.5881 - accuracy: 0.6915 - val_loss: 0.7074 - val_accuracy: 0.7748\n",
      "Epoch 46/50\n",
      "100/100 [==============================] - 0s 490us/step - loss: 0.5957 - accuracy: 0.6869 - val_loss: 0.7314 - val_accuracy: 0.7435\n",
      "Epoch 47/50\n",
      "100/100 [==============================] - 0s 505us/step - loss: 0.6082 - accuracy: 0.6746 - val_loss: 0.6935 - val_accuracy: 0.7616\n",
      "Epoch 48/50\n",
      "100/100 [==============================] - 0s 500us/step - loss: 0.5949 - accuracy: 0.6844 - val_loss: 0.7644 - val_accuracy: 0.7597\n",
      "Epoch 49/50\n",
      "100/100 [==============================] - 0s 499us/step - loss: 0.5951 - accuracy: 0.6802 - val_loss: 0.8060 - val_accuracy: 0.7338\n",
      "Epoch 50/50\n",
      "100/100 [==============================] - 0s 490us/step - loss: 0.5895 - accuracy: 0.6984 - val_loss: 0.6891 - val_accuracy: 0.7715\n",
      "Accuracy: 74.48\n"
     ]
    }
   ],
   "source": [
    "history=model.fit(train_dataset, epochs=50, \n",
    "          steps_per_epoch=100,\n",
    "          validation_data=val_dataset,\n",
    "          validation_steps=10)\n",
    "\n",
    "print('Accuracy: %.2f' % (accuracy*100))"
   ]
  },
  {
   "cell_type": "code",
   "execution_count": 27,
   "id": "408f3b12",
   "metadata": {},
   "outputs": [
    {
     "data": {
      "image/png": "[encoded data removed]",
      "text/plain": [
       "<Figure size 432x288 with 1 Axes>"
      ]
     },
     "metadata": {
      "needs_background": "light"
     },
     "output_type": "display_data"
    },
    {
     "data": {
      "image/png": "[encoded data removed]",
      "text/plain": [
       "<Figure size 432x288 with 1 Axes>"
      ]
     },
     "metadata": {
      "needs_background": "light"
     },
     "output_type": "display_data"
    }
   ],
   "source": [
    "plot_history(history)"
   ]
  },
  {
   "cell_type": "markdown",
   "id": "35dee8e3",
   "metadata": {},
   "source": [
    "## (l) Trainieren auf einem neuen Datensatzes\n",
    "\n",
    "Probieren Sie, einen anderen Tabellendatensatz zu verwenden, vielleicht aus dem UCI Machine Learning Repository."
   ]
  },
  {
   "cell_type": "code",
   "execution_count": null,
   "id": "5d7e9e25",
   "metadata": {},
   "outputs": [],
   "source": []
  },
  {
   "cell_type": "markdown",
   "id": "3d4d1a6f",
   "metadata": {},
   "source": [
    "## (k)  Das Modell anpassen\n",
    "\n",
    "Ändern Sie die Konfiguration des Modells oder den Trainingsprozess und sehen Sie, ob Sie die Leistung des Modells verbessern können, z. B. eine Genauigkeit von mehr als 76 % erreichen.\n"
   ]
  },
  {
   "cell_type": "code",
   "execution_count": null,
   "id": "6b8d8866",
   "metadata": {},
   "outputs": [],
   "source": []
  }
 ],
 "metadata": {
  "kernelspec": {
   "display_name": "Python [conda env:ANN]",
   "language": "python",
   "name": "conda-env-ANN-py"
  },
  "language_info": {
   "codemirror_mode": {
    "name": "ipython",
    "version": 3
   },
   "file_extension": ".py",
   "mimetype": "text/x-python",
   "name": "python",
   "nbconvert_exporter": "python",
   "pygments_lexer": "ipython3",
   "version": "3.8.10"
  },
  "nbTranslate": {
   "displayLangs": [
    "*"
   ],
   "hotkey": "alt-t",
   "langInMainMenu": true,
   "sourceLang": "en",
   "targetLang": "fr",
   "useGoogleTranslate": true
  }
 },
 "nbformat": 4,
 "nbformat_minor": 5
}
