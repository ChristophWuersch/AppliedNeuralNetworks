{
 "cells": [
  {
   "cell_type": "markdown",
   "id": "a230b296",
   "metadata": {},
   "source": [
    "<a href=\"https://colab.research.google.com/github/ChristophWuersch/AppliedNeuralNetworks/blob/main/U01/MyFirstKerasNN-PimaIndian.ipynb\" target=\"_parent\"><img src=\"https://colab.research.google.com/assets/colab-badge.svg\" alt=\"Open In Colab\"/></a>"
   ]
  },
  {
   "cell_type": "markdown",
   "id": "1abfa631",
   "metadata": {},
   "source": [
    "<img src=\"Bilder/ost_logo.png\" width=\"240\" height=\"120\" align=\"right\"/>\n",
    "<div style=\"text-align: left\"> <b> Applied Neural Networks | FS 2022 </b><br>\n",
    "<a href=\"mailto:christoph.wuersch@ost.ch\"> © Christoph Würsch </a> </div>\n",
    "<a href=\"https://www.ost.ch/de/forschung-und-dienstleistungen/technik/systemtechnik/ice-institut-fuer-computational-engineering/\"> Eastern Switzerland University of Applied Sciences OST | ICE </a>\n",
    "\n",
    "\n",
    "## Ein erstes Neuronales Netz mit `keras`: Pima Indians"
   ]
  },
  {
   "cell_type": "markdown",
   "id": "02ea82ec",
   "metadata": {},
   "source": [
    "## (a) Datensatz laden"
   ]
  },
  {
   "cell_type": "code",
   "execution_count": 15,
   "id": "07a4c652",
   "metadata": {},
   "outputs": [],
   "source": [
    "# first neural network with keras tutorial\n",
    "import tensorflow as tf\n",
    "import numpy as np\n",
    "from numpy import loadtxt\n",
    "\n",
    "import pandas as pd\n",
    "\n",
    "from tensorflow import keras\n",
    "from tensorflow.keras import layers\n",
    "from tensorflow.keras.models import Sequential\n",
    "from tensorflow.keras.layers import Dense, Dropout\n",
    "\n",
    "\n",
    "import matplotlib.pyplot as plt\n"
   ]
  },
  {
   "cell_type": "code",
   "execution_count": 16,
   "id": "fc363dcf",
   "metadata": {},
   "outputs": [
    {
     "data": {
      "text/html": [
       "<div>\n",
       "<style scoped>\n",
       "    .dataframe tbody tr th:only-of-type {\n",
       "        vertical-align: middle;\n",
       "    }\n",
       "\n",
       "    .dataframe tbody tr th {\n",
       "        vertical-align: top;\n",
       "    }\n",
       "\n",
       "    .dataframe thead th {\n",
       "        text-align: right;\n",
       "    }\n",
       "</style>\n",
       "<table border=\"1\" class=\"dataframe\">\n",
       "  <thead>\n",
       "    <tr style=\"text-align: right;\">\n",
       "      <th></th>\n",
       "      <th>Pregnancies</th>\n",
       "      <th>Glucose</th>\n",
       "      <th>BloodPressure</th>\n",
       "      <th>SkinThickness</th>\n",
       "      <th>Insulin</th>\n",
       "      <th>BMI</th>\n",
       "      <th>DiabetesPedigreeFunction</th>\n",
       "      <th>Age</th>\n",
       "      <th>Outcome</th>\n",
       "    </tr>\n",
       "  </thead>\n",
       "  <tbody>\n",
       "    <tr>\n",
       "      <th>0</th>\n",
       "      <td>6</td>\n",
       "      <td>148</td>\n",
       "      <td>72</td>\n",
       "      <td>35</td>\n",
       "      <td>0</td>\n",
       "      <td>33.6</td>\n",
       "      <td>0.627</td>\n",
       "      <td>50</td>\n",
       "      <td>1</td>\n",
       "    </tr>\n",
       "    <tr>\n",
       "      <th>1</th>\n",
       "      <td>1</td>\n",
       "      <td>85</td>\n",
       "      <td>66</td>\n",
       "      <td>29</td>\n",
       "      <td>0</td>\n",
       "      <td>26.6</td>\n",
       "      <td>0.351</td>\n",
       "      <td>31</td>\n",
       "      <td>0</td>\n",
       "    </tr>\n",
       "    <tr>\n",
       "      <th>2</th>\n",
       "      <td>8</td>\n",
       "      <td>183</td>\n",
       "      <td>64</td>\n",
       "      <td>0</td>\n",
       "      <td>0</td>\n",
       "      <td>23.3</td>\n",
       "      <td>0.672</td>\n",
       "      <td>32</td>\n",
       "      <td>1</td>\n",
       "    </tr>\n",
       "    <tr>\n",
       "      <th>3</th>\n",
       "      <td>1</td>\n",
       "      <td>89</td>\n",
       "      <td>66</td>\n",
       "      <td>23</td>\n",
       "      <td>94</td>\n",
       "      <td>28.1</td>\n",
       "      <td>0.167</td>\n",
       "      <td>21</td>\n",
       "      <td>0</td>\n",
       "    </tr>\n",
       "    <tr>\n",
       "      <th>4</th>\n",
       "      <td>0</td>\n",
       "      <td>137</td>\n",
       "      <td>40</td>\n",
       "      <td>35</td>\n",
       "      <td>168</td>\n",
       "      <td>43.1</td>\n",
       "      <td>2.288</td>\n",
       "      <td>33</td>\n",
       "      <td>1</td>\n",
       "    </tr>\n",
       "  </tbody>\n",
       "</table>\n",
       "</div>"
      ],
      "text/plain": [
       "   Pregnancies  Glucose  BloodPressure  SkinThickness  Insulin   BMI  \\\n",
       "0            6      148             72             35        0  33.6   \n",
       "1            1       85             66             29        0  26.6   \n",
       "2            8      183             64              0        0  23.3   \n",
       "3            1       89             66             23       94  28.1   \n",
       "4            0      137             40             35      168  43.1   \n",
       "\n",
       "   DiabetesPedigreeFunction  Age  Outcome  \n",
       "0                     0.627   50        1  \n",
       "1                     0.351   31        0  \n",
       "2                     0.672   32        1  \n",
       "3                     0.167   21        0  \n",
       "4                     2.288   33        1  "
      ]
     },
     "execution_count": 16,
     "metadata": {},
     "output_type": "execute_result"
    }
   ],
   "source": [
    "# load the dataset\n",
    "# dataset = loadtxt('pima-indians-diabetes.csv', delimiter=',')\n",
    "# split into input (X) and output (y) variables\n",
    "#df=pd.read_csv('diabetes.csv', delimiter=',')\n",
    "df=pd.read_csv('https://raw.githubusercontent.com/ChristophWuersch/AppliedNeuralNetworks/master/U01/diabetes.csv',delimiter=',')\n",
    "df.head()\n"
   ]
  },
  {
   "cell_type": "markdown",
   "id": "b5c322d0",
   "metadata": {},
   "source": [
    "## (b) Kurze EDA"
   ]
  },
  {
   "cell_type": "code",
   "execution_count": 17,
   "id": "37bb3bb2",
   "metadata": {},
   "outputs": [
    {
     "data": {
      "image/png": "[encoded data removed]",
      "text/plain": [
       "<Figure size 792x648 with 2 Axes>"
      ]
     },
     "metadata": {
      "needs_background": "light"
     },
     "output_type": "display_data"
    }
   ],
   "source": [
    "import seaborn as sns\n",
    "import matplotlib.pyplot as plt\n",
    "\n",
    "# Compute the correlation matrix\n",
    "corr = df.corr()\n",
    "\n",
    "# Generate a mask for the upper triangle\n",
    "mask = np.zeros_like(corr, dtype=np.bool_)\n",
    "mask[np.triu_indices_from(mask)] = True\n",
    "\n",
    "# Set up the matplotlib figure\n",
    "f, ax = plt.subplots(figsize=(11, 9))\n",
    "\n",
    "\n",
    "# Draw the heatmap with the mask and correct aspect ratio\n",
    "sns.heatmap(corr, mask=mask, vmin=0.0, center=0, annot=True,\n",
    "            square=True, linewidths=.5, cbar_kws={\"shrink\": .5});\n",
    "plt.show()\n"
   ]
  },
  {
   "cell_type": "code",
   "execution_count": 18,
   "id": "38d8b9fe",
   "metadata": {},
   "outputs": [
    {
     "data": {
      "text/html": [
       "<div>\n",
       "<style scoped>\n",
       "    .dataframe tbody tr th:only-of-type {\n",
       "        vertical-align: middle;\n",
       "    }\n",
       "\n",
       "    .dataframe tbody tr th {\n",
       "        vertical-align: top;\n",
       "    }\n",
       "\n",
       "    .dataframe thead th {\n",
       "        text-align: right;\n",
       "    }\n",
       "</style>\n",
       "<table border=\"1\" class=\"dataframe\">\n",
       "  <thead>\n",
       "    <tr style=\"text-align: right;\">\n",
       "      <th></th>\n",
       "      <th>Pregnancies</th>\n",
       "      <th>Glucose</th>\n",
       "      <th>BloodPressure</th>\n",
       "      <th>SkinThickness</th>\n",
       "      <th>Insulin</th>\n",
       "      <th>BMI</th>\n",
       "      <th>DiabetesPedigreeFunction</th>\n",
       "      <th>Age</th>\n",
       "      <th>Outcome</th>\n",
       "    </tr>\n",
       "  </thead>\n",
       "  <tbody>\n",
       "    <tr>\n",
       "      <th>count</th>\n",
       "      <td>768.000000</td>\n",
       "      <td>768.000000</td>\n",
       "      <td>768.000000</td>\n",
       "      <td>768.000000</td>\n",
       "      <td>768.000000</td>\n",
       "      <td>768.000000</td>\n",
       "      <td>768.000000</td>\n",
       "      <td>768.000000</td>\n",
       "      <td>768.000000</td>\n",
       "    </tr>\n",
       "    <tr>\n",
       "      <th>mean</th>\n",
       "      <td>3.845052</td>\n",
       "      <td>120.894531</td>\n",
       "      <td>69.105469</td>\n",
       "      <td>20.536458</td>\n",
       "      <td>79.799479</td>\n",
       "      <td>31.992578</td>\n",
       "      <td>0.471876</td>\n",
       "      <td>33.240885</td>\n",
       "      <td>0.348958</td>\n",
       "    </tr>\n",
       "    <tr>\n",
       "      <th>std</th>\n",
       "      <td>3.369578</td>\n",
       "      <td>31.972618</td>\n",
       "      <td>19.355807</td>\n",
       "      <td>15.952218</td>\n",
       "      <td>115.244002</td>\n",
       "      <td>7.884160</td>\n",
       "      <td>0.331329</td>\n",
       "      <td>11.760232</td>\n",
       "      <td>0.476951</td>\n",
       "    </tr>\n",
       "    <tr>\n",
       "      <th>min</th>\n",
       "      <td>0.000000</td>\n",
       "      <td>0.000000</td>\n",
       "      <td>0.000000</td>\n",
       "      <td>0.000000</td>\n",
       "      <td>0.000000</td>\n",
       "      <td>0.000000</td>\n",
       "      <td>0.078000</td>\n",
       "      <td>21.000000</td>\n",
       "      <td>0.000000</td>\n",
       "    </tr>\n",
       "    <tr>\n",
       "      <th>25%</th>\n",
       "      <td>1.000000</td>\n",
       "      <td>99.000000</td>\n",
       "      <td>62.000000</td>\n",
       "      <td>0.000000</td>\n",
       "      <td>0.000000</td>\n",
       "      <td>27.300000</td>\n",
       "      <td>0.243750</td>\n",
       "      <td>24.000000</td>\n",
       "      <td>0.000000</td>\n",
       "    </tr>\n",
       "    <tr>\n",
       "      <th>50%</th>\n",
       "      <td>3.000000</td>\n",
       "      <td>117.000000</td>\n",
       "      <td>72.000000</td>\n",
       "      <td>23.000000</td>\n",
       "      <td>30.500000</td>\n",
       "      <td>32.000000</td>\n",
       "      <td>0.372500</td>\n",
       "      <td>29.000000</td>\n",
       "      <td>0.000000</td>\n",
       "    </tr>\n",
       "    <tr>\n",
       "      <th>75%</th>\n",
       "      <td>6.000000</td>\n",
       "      <td>140.250000</td>\n",
       "      <td>80.000000</td>\n",
       "      <td>32.000000</td>\n",
       "      <td>127.250000</td>\n",
       "      <td>36.600000</td>\n",
       "      <td>0.626250</td>\n",
       "      <td>41.000000</td>\n",
       "      <td>1.000000</td>\n",
       "    </tr>\n",
       "    <tr>\n",
       "      <th>max</th>\n",
       "      <td>17.000000</td>\n",
       "      <td>199.000000</td>\n",
       "      <td>122.000000</td>\n",
       "      <td>99.000000</td>\n",
       "      <td>846.000000</td>\n",
       "      <td>67.100000</td>\n",
       "      <td>2.420000</td>\n",
       "      <td>81.000000</td>\n",
       "      <td>1.000000</td>\n",
       "    </tr>\n",
       "  </tbody>\n",
       "</table>\n",
       "</div>"
      ],
      "text/plain": [
       "       Pregnancies     Glucose  BloodPressure  SkinThickness     Insulin  \\\n",
       "count   768.000000  768.000000     768.000000     768.000000  768.000000   \n",
       "mean      3.845052  120.894531      69.105469      20.536458   79.799479   \n",
       "std       3.369578   31.972618      19.355807      15.952218  115.244002   \n",
       "min       0.000000    0.000000       0.000000       0.000000    0.000000   \n",
       "25%       1.000000   99.000000      62.000000       0.000000    0.000000   \n",
       "50%       3.000000  117.000000      72.000000      23.000000   30.500000   \n",
       "75%       6.000000  140.250000      80.000000      32.000000  127.250000   \n",
       "max      17.000000  199.000000     122.000000      99.000000  846.000000   \n",
       "\n",
       "              BMI  DiabetesPedigreeFunction         Age     Outcome  \n",
       "count  768.000000                768.000000  768.000000  768.000000  \n",
       "mean    31.992578                  0.471876   33.240885    0.348958  \n",
       "std      7.884160                  0.331329   11.760232    0.476951  \n",
       "min      0.000000                  0.078000   21.000000    0.000000  \n",
       "25%     27.300000                  0.243750   24.000000    0.000000  \n",
       "50%     32.000000                  0.372500   29.000000    0.000000  \n",
       "75%     36.600000                  0.626250   41.000000    1.000000  \n",
       "max     67.100000                  2.420000   81.000000    1.000000  "
      ]
     },
     "execution_count": 18,
     "metadata": {},
     "output_type": "execute_result"
    }
   ],
   "source": [
    "df.describe()"
   ]
  },
  {
   "cell_type": "code",
   "execution_count": 19,
   "id": "3c4e28ba",
   "metadata": {},
   "outputs": [],
   "source": [
    "X = df.iloc[:,0:8].values\n",
    "y = df.iloc[:,8].values\n"
   ]
  },
  {
   "cell_type": "markdown",
   "id": "06d5fef4",
   "metadata": {},
   "source": [
    "## (c) Modell erstellen"
   ]
  },
  {
   "cell_type": "code",
   "execution_count": 20,
   "id": "10c074e8",
   "metadata": {},
   "outputs": [],
   "source": [
    "# define the keras model\n",
    "model = Sequential()\n",
    "model.add(Dense(12, input_dim=8, activation='relu'))\n",
    "model.add(Dense(8, activation='relu'))\n",
    "model.add(Dense(1, activation='sigmoid'))"
   ]
  },
  {
   "cell_type": "markdown",
   "id": "56a197a3",
   "metadata": {},
   "source": [
    "## (d) Modell darstellen"
   ]
  },
  {
   "cell_type": "code",
   "execution_count": 21,
   "id": "d7167818",
   "metadata": {},
   "outputs": [
    {
     "data": {
      "image/png": "[encoded data removed]",
      "text/plain": [
       "<IPython.core.display.Image object>"
      ]
     },
     "execution_count": 21,
     "metadata": {},
     "output_type": "execute_result"
    }
   ],
   "source": [
    "from keras.utils.vis_utils import plot_model\n",
    "plot_model(model, to_file='model_plot.png', show_shapes=True, show_layer_names=True)"
   ]
  },
  {
   "cell_type": "markdown",
   "id": "8e04e164",
   "metadata": {},
   "source": [
    "## (e) Modell kompilieren und trainieren"
   ]
  },
  {
   "cell_type": "code",
   "execution_count": 22,
   "id": "9e6bcd38",
   "metadata": {},
   "outputs": [],
   "source": [
    "# compile the keras model\n",
    "model.compile(loss='binary_crossentropy', optimizer='adam', metrics=['accuracy'])\n"
   ]
  },
  {
   "cell_type": "code",
   "execution_count": 23,
   "id": "af9d65f0",
   "metadata": {
    "scrolled": false
   },
   "outputs": [
    {
     "name": "stdout",
     "output_type": "stream",
     "text": [
      "Epoch 1/100\n",
      "77/77 [==============================] - 0s 337us/step - loss: 1.9230 - accuracy: 0.5208\n",
      "Epoch 2/100\n",
      "77/77 [==============================] - 0s 337us/step - loss: 1.1686 - accuracy: 0.5625\n",
      "Epoch 3/100\n",
      "77/77 [==============================] - 0s 350us/step - loss: 0.9150 - accuracy: 0.5768\n",
      "Epoch 4/100\n",
      "77/77 [==============================] - 0s 350us/step - loss: 0.8332 - accuracy: 0.5599\n",
      "Epoch 5/100\n",
      "77/77 [==============================] - 0s 350us/step - loss: 0.7411 - accuracy: 0.5990\n",
      "Epoch 6/100\n",
      "77/77 [==============================] - 0s 350us/step - loss: 0.6941 - accuracy: 0.6120\n",
      "Epoch 7/100\n",
      "77/77 [==============================] - 0s 363us/step - loss: 0.6531 - accuracy: 0.6471\n",
      "Epoch 8/100\n",
      "77/77 [==============================] - 0s 350us/step - loss: 0.6682 - accuracy: 0.6172\n",
      "Epoch 9/100\n",
      "77/77 [==============================] - 0s 350us/step - loss: 0.6351 - accuracy: 0.6380\n",
      "Epoch 10/100\n",
      "77/77 [==============================] - 0s 337us/step - loss: 0.6304 - accuracy: 0.6523\n",
      "Epoch 11/100\n",
      "77/77 [==============================] - 0s 337us/step - loss: 0.6246 - accuracy: 0.6497\n",
      "Epoch 12/100\n",
      "77/77 [==============================] - 0s 350us/step - loss: 0.6221 - accuracy: 0.6406\n",
      "Epoch 13/100\n",
      "77/77 [==============================] - 0s 350us/step - loss: 0.6172 - accuracy: 0.6562\n",
      "Epoch 14/100\n",
      "77/77 [==============================] - 0s 350us/step - loss: 0.6115 - accuracy: 0.6615\n",
      "Epoch 15/100\n",
      "77/77 [==============================] - 0s 350us/step - loss: 0.6051 - accuracy: 0.6510\n",
      "Epoch 16/100\n",
      "77/77 [==============================] - 0s 350us/step - loss: 0.6007 - accuracy: 0.6784\n",
      "Epoch 17/100\n",
      "77/77 [==============================] - 0s 350us/step - loss: 0.5863 - accuracy: 0.6758\n",
      "Epoch 18/100\n",
      "77/77 [==============================] - 0s 350us/step - loss: 0.6026 - accuracy: 0.6706\n",
      "Epoch 19/100\n",
      "77/77 [==============================] - 0s 350us/step - loss: 0.5984 - accuracy: 0.6758\n",
      "Epoch 20/100\n",
      "77/77 [==============================] - 0s 350us/step - loss: 0.5907 - accuracy: 0.6875\n",
      "Epoch 21/100\n",
      "77/77 [==============================] - 0s 337us/step - loss: 0.5727 - accuracy: 0.7031\n",
      "Epoch 22/100\n",
      "77/77 [==============================] - 0s 350us/step - loss: 0.5760 - accuracy: 0.6875\n",
      "Epoch 23/100\n",
      "77/77 [==============================] - 0s 350us/step - loss: 0.5803 - accuracy: 0.6888\n",
      "Epoch 24/100\n",
      "77/77 [==============================] - 0s 337us/step - loss: 0.5865 - accuracy: 0.6706\n",
      "Epoch 25/100\n",
      "77/77 [==============================] - 0s 350us/step - loss: 0.5725 - accuracy: 0.6940\n",
      "Epoch 26/100\n",
      "77/77 [==============================] - 0s 376us/step - loss: 0.5876 - accuracy: 0.6836\n",
      "Epoch 27/100\n",
      "77/77 [==============================] - 0s 376us/step - loss: 0.5750 - accuracy: 0.6953\n",
      "Epoch 28/100\n",
      "77/77 [==============================] - 0s 350us/step - loss: 0.5713 - accuracy: 0.6979\n",
      "Epoch 29/100\n",
      "77/77 [==============================] - 0s 350us/step - loss: 0.5755 - accuracy: 0.6966\n",
      "Epoch 30/100\n",
      "77/77 [==============================] - 0s 337us/step - loss: 0.5569 - accuracy: 0.7161\n",
      "Epoch 31/100\n",
      "77/77 [==============================] - 0s 350us/step - loss: 0.5647 - accuracy: 0.6992\n",
      "Epoch 32/100\n",
      "77/77 [==============================] - 0s 350us/step - loss: 0.5538 - accuracy: 0.6992\n",
      "Epoch 33/100\n",
      "77/77 [==============================] - 0s 350us/step - loss: 0.5794 - accuracy: 0.7057\n",
      "Epoch 34/100\n",
      "77/77 [==============================] - 0s 350us/step - loss: 0.5625 - accuracy: 0.6927\n",
      "Epoch 35/100\n",
      "77/77 [==============================] - 0s 350us/step - loss: 0.5722 - accuracy: 0.6953\n",
      "Epoch 36/100\n",
      "77/77 [==============================] - 0s 337us/step - loss: 0.5599 - accuracy: 0.6940\n",
      "Epoch 37/100\n",
      "77/77 [==============================] - 0s 350us/step - loss: 0.5478 - accuracy: 0.6966\n",
      "Epoch 38/100\n",
      "77/77 [==============================] - 0s 350us/step - loss: 0.5528 - accuracy: 0.7135\n",
      "Epoch 39/100\n",
      "77/77 [==============================] - 0s 350us/step - loss: 0.5740 - accuracy: 0.7070\n",
      "Epoch 40/100\n",
      "77/77 [==============================] - 0s 337us/step - loss: 0.5558 - accuracy: 0.7161\n",
      "Epoch 41/100\n",
      "77/77 [==============================] - 0s 350us/step - loss: 0.5548 - accuracy: 0.7044\n",
      "Epoch 42/100\n",
      "77/77 [==============================] - 0s 350us/step - loss: 0.5639 - accuracy: 0.7057\n",
      "Epoch 43/100\n",
      "77/77 [==============================] - 0s 350us/step - loss: 0.5458 - accuracy: 0.7174\n",
      "Epoch 44/100\n",
      "77/77 [==============================] - 0s 363us/step - loss: 0.5382 - accuracy: 0.7331\n",
      "Epoch 45/100\n",
      "77/77 [==============================] - 0s 350us/step - loss: 0.5424 - accuracy: 0.7096\n",
      "Epoch 46/100\n",
      "77/77 [==============================] - 0s 350us/step - loss: 0.5421 - accuracy: 0.7253\n",
      "Epoch 47/100\n",
      "77/77 [==============================] - 0s 363us/step - loss: 0.5506 - accuracy: 0.7070\n",
      "Epoch 48/100\n",
      "77/77 [==============================] - 0s 376us/step - loss: 0.5328 - accuracy: 0.7240\n",
      "Epoch 49/100\n",
      "77/77 [==============================] - 0s 350us/step - loss: 0.5379 - accuracy: 0.7292\n",
      "Epoch 50/100\n",
      "77/77 [==============================] - 0s 350us/step - loss: 0.5614 - accuracy: 0.7044\n",
      "Epoch 51/100\n",
      "77/77 [==============================] - 0s 350us/step - loss: 0.5451 - accuracy: 0.7083\n",
      "Epoch 52/100\n",
      "77/77 [==============================] - 0s 350us/step - loss: 0.5352 - accuracy: 0.7279\n",
      "Epoch 53/100\n",
      "77/77 [==============================] - 0s 350us/step - loss: 0.5374 - accuracy: 0.7122\n",
      "Epoch 54/100\n",
      "77/77 [==============================] - 0s 337us/step - loss: 0.5666 - accuracy: 0.7109\n",
      "Epoch 55/100\n",
      "77/77 [==============================] - 0s 350us/step - loss: 0.5597 - accuracy: 0.7070\n",
      "Epoch 56/100\n",
      "77/77 [==============================] - 0s 350us/step - loss: 0.5472 - accuracy: 0.6992\n",
      "Epoch 57/100\n",
      "77/77 [==============================] - 0s 350us/step - loss: 0.5288 - accuracy: 0.7161\n",
      "Epoch 58/100\n",
      "77/77 [==============================] - 0s 350us/step - loss: 0.5491 - accuracy: 0.7253\n",
      "Epoch 59/100\n",
      "77/77 [==============================] - 0s 350us/step - loss: 0.5508 - accuracy: 0.7083\n",
      "Epoch 60/100\n",
      "77/77 [==============================] - 0s 350us/step - loss: 0.5400 - accuracy: 0.7266\n",
      "Epoch 61/100\n",
      "77/77 [==============================] - 0s 350us/step - loss: 0.5407 - accuracy: 0.7174\n",
      "Epoch 62/100\n",
      "77/77 [==============================] - 0s 350us/step - loss: 0.5535 - accuracy: 0.6966\n",
      "Epoch 63/100\n",
      "77/77 [==============================] - 0s 350us/step - loss: 0.5318 - accuracy: 0.7305\n",
      "Epoch 64/100\n",
      "77/77 [==============================] - 0s 350us/step - loss: 0.5621 - accuracy: 0.7005\n",
      "Epoch 65/100\n",
      "77/77 [==============================] - 0s 350us/step - loss: 0.5430 - accuracy: 0.7292\n",
      "Epoch 66/100\n",
      "77/77 [==============================] - 0s 350us/step - loss: 0.5382 - accuracy: 0.7083\n",
      "Epoch 67/100\n",
      "77/77 [==============================] - 0s 337us/step - loss: 0.5495 - accuracy: 0.7122\n",
      "Epoch 68/100\n",
      "77/77 [==============================] - 0s 350us/step - loss: 0.5388 - accuracy: 0.7227\n",
      "Epoch 69/100\n",
      "77/77 [==============================] - 0s 350us/step - loss: 0.5330 - accuracy: 0.7318\n",
      "Epoch 70/100\n",
      "77/77 [==============================] - 0s 350us/step - loss: 0.5278 - accuracy: 0.7148\n",
      "Epoch 71/100\n",
      "77/77 [==============================] - 0s 350us/step - loss: 0.5431 - accuracy: 0.7227\n",
      "Epoch 72/100\n",
      "77/77 [==============================] - 0s 350us/step - loss: 0.5289 - accuracy: 0.7214\n",
      "Epoch 73/100\n",
      "77/77 [==============================] - 0s 350us/step - loss: 0.5397 - accuracy: 0.7214\n",
      "Epoch 74/100\n",
      "77/77 [==============================] - 0s 350us/step - loss: 0.5380 - accuracy: 0.7292\n",
      "Epoch 75/100\n",
      "77/77 [==============================] - 0s 350us/step - loss: 0.5389 - accuracy: 0.7161\n",
      "Epoch 76/100\n",
      "77/77 [==============================] - 0s 350us/step - loss: 0.5312 - accuracy: 0.7266\n",
      "Epoch 77/100\n",
      "77/77 [==============================] - 0s 350us/step - loss: 0.5431 - accuracy: 0.7174\n",
      "Epoch 78/100\n",
      "77/77 [==============================] - 0s 350us/step - loss: 0.5270 - accuracy: 0.7188\n",
      "Epoch 79/100\n",
      "77/77 [==============================] - 0s 350us/step - loss: 0.5254 - accuracy: 0.7344\n",
      "Epoch 80/100\n",
      "77/77 [==============================] - 0s 350us/step - loss: 0.5241 - accuracy: 0.7344\n",
      "Epoch 81/100\n"
     ]
    },
    {
     "name": "stdout",
     "output_type": "stream",
     "text": [
      "77/77 [==============================] - 0s 337us/step - loss: 0.5425 - accuracy: 0.7031\n",
      "Epoch 82/100\n",
      "77/77 [==============================] - 0s 350us/step - loss: 0.5479 - accuracy: 0.7148\n",
      "Epoch 83/100\n",
      "77/77 [==============================] - 0s 350us/step - loss: 0.5227 - accuracy: 0.7357\n",
      "Epoch 84/100\n",
      "77/77 [==============================] - 0s 350us/step - loss: 0.5157 - accuracy: 0.7422\n",
      "Epoch 85/100\n",
      "77/77 [==============================] - 0s 337us/step - loss: 0.5229 - accuracy: 0.7383\n",
      "Epoch 86/100\n",
      "77/77 [==============================] - 0s 350us/step - loss: 0.5371 - accuracy: 0.7305\n",
      "Epoch 87/100\n",
      "77/77 [==============================] - 0s 350us/step - loss: 0.5330 - accuracy: 0.7161\n",
      "Epoch 88/100\n",
      "77/77 [==============================] - 0s 350us/step - loss: 0.5383 - accuracy: 0.7370\n",
      "Epoch 89/100\n",
      "77/77 [==============================] - 0s 350us/step - loss: 0.5392 - accuracy: 0.7201\n",
      "Epoch 90/100\n",
      "77/77 [==============================] - 0s 350us/step - loss: 0.5357 - accuracy: 0.7253\n",
      "Epoch 91/100\n",
      "77/77 [==============================] - 0s 363us/step - loss: 0.5391 - accuracy: 0.7357\n",
      "Epoch 92/100\n",
      "77/77 [==============================] - 0s 350us/step - loss: 0.5348 - accuracy: 0.7174\n",
      "Epoch 93/100\n",
      "77/77 [==============================] - 0s 350us/step - loss: 0.5200 - accuracy: 0.7305\n",
      "Epoch 94/100\n",
      "77/77 [==============================] - 0s 350us/step - loss: 0.5233 - accuracy: 0.7318\n",
      "Epoch 95/100\n",
      "77/77 [==============================] - 0s 350us/step - loss: 0.5174 - accuracy: 0.7318\n",
      "Epoch 96/100\n",
      "77/77 [==============================] - 0s 350us/step - loss: 0.5203 - accuracy: 0.7435\n",
      "Epoch 97/100\n",
      "77/77 [==============================] - 0s 337us/step - loss: 0.5352 - accuracy: 0.7109\n",
      "Epoch 98/100\n",
      "77/77 [==============================] - 0s 350us/step - loss: 0.5261 - accuracy: 0.7266\n",
      "Epoch 99/100\n",
      "77/77 [==============================] - 0s 350us/step - loss: 0.5158 - accuracy: 0.7305\n",
      "Epoch 100/100\n",
      "77/77 [==============================] - 0s 350us/step - loss: 0.5252 - accuracy: 0.7201\n",
      "24/24 [==============================] - 0s 333us/step - loss: 0.5060 - accuracy: 0.7487\n",
      "Accuracy: 74.87\n"
     ]
    }
   ],
   "source": [
    "# fit the keras model on the dataset\n",
    "model.fit(X, y, epochs=100, batch_size=10)\n",
    "# evaluate the keras model\n",
    "_, accuracy = model.evaluate(X, y)\n",
    "print('Accuracy: %.2f' % (accuracy*100))"
   ]
  },
  {
   "cell_type": "markdown",
   "id": "b27b42d2",
   "metadata": {},
   "source": [
    "## (f) Modell abspeichern"
   ]
  },
  {
   "cell_type": "code",
   "execution_count": 24,
   "id": "8275a198",
   "metadata": {},
   "outputs": [
    {
     "name": "stdout",
     "output_type": "stream",
     "text": [
      "Saved model to disk\n"
     ]
    }
   ],
   "source": [
    "# serialize model to JSON\n",
    "model_json = model.to_json()\n",
    "with open(\"model.json\", \"w\") as json_file:\n",
    "    json_file.write(model_json)\n",
    "    \n",
    "# serialize weights to HDF5\n",
    "model.save_weights(\"model.h5\")\n",
    "print(\"Saved model to disk\")"
   ]
  },
  {
   "cell_type": "markdown",
   "id": "debabc53",
   "metadata": {},
   "source": [
    "Sie können Ihr Modell speichern, indem Sie die Funktion `save()` für das Modell aufrufen und den Dateinamen angeben.\n",
    "Das folgende Beispiel demonstriert dies, indem zunächst ein Modell angepasst, ausgewertet und in der Datei \"model.h5\" gespeichert wird."
   ]
  },
  {
   "cell_type": "code",
   "execution_count": 25,
   "id": "d73269a3",
   "metadata": {},
   "outputs": [
    {
     "name": "stdout",
     "output_type": "stream",
     "text": [
      "Saved model to disk\n"
     ]
    }
   ],
   "source": [
    "# save model and architecture to single file\n",
    "model.save(\"model.h5\")\n",
    "print(\"Saved model to disk\")"
   ]
  },
  {
   "cell_type": "markdown",
   "id": "74b148b3",
   "metadata": {},
   "source": [
    "## (g) Modell laden"
   ]
  },
  {
   "cell_type": "code",
   "execution_count": 35,
   "id": "3c29330a",
   "metadata": {},
   "outputs": [
    {
     "name": "stdout",
     "output_type": "stream",
     "text": [
      "Model: \"sequential_1\"\n",
      "_________________________________________________________________\n",
      "Layer (type)                 Output Shape              Param #   \n",
      "=================================================================\n",
      "dense_3 (Dense)              (None, 12)                108       \n",
      "_________________________________________________________________\n",
      "dense_4 (Dense)              (None, 8)                 104       \n",
      "_________________________________________________________________\n",
      "dense_5 (Dense)              (None, 1)                 9         \n",
      "=================================================================\n",
      "Total params: 221\n",
      "Trainable params: 221\n",
      "Non-trainable params: 0\n",
      "_________________________________________________________________\n",
      "accuracy: 74.87%\n",
      "Loaded model from disk\n"
     ]
    }
   ],
   "source": [
    "# load and evaluate a saved model\n",
    "\n",
    "from keras.models import load_model\n",
    "from keras.models import model_from_json\n",
    "\n",
    "# load model\n",
    "model = load_model('model.h5')\n",
    "# summarize model.\n",
    "model.summary()\n",
    "\n",
    "# load dataset\n",
    "df=pd.read_csv('https://raw.githubusercontent.com/ChristophWuersch/AppliedNeuralNetworks/master/U01/diabetes.csv',\n",
    "               delimiter=',')\n",
    "\n",
    "# split into input (X) and output (Y) variables\n",
    "X = df.iloc[:,0:8].values\n",
    "y = df.iloc[:,8].values\n",
    "\n",
    "# evaluate the model\n",
    "score = model.evaluate(X, y, verbose=0)\n",
    "print(\"%s: %.2f%%\" % (model.metrics_names[1], score[1]*100))\n",
    "\n",
    "# load json and create model\n",
    "json_file = open('model.json', 'r')\n",
    "loaded_model_json = json_file.read()\n",
    "json_file.close()\n",
    "loaded_model = model_from_json(loaded_model_json)\n",
    "# load weights into new model\n",
    "loaded_model.load_weights(\"model.h5\")\n",
    "print(\"Loaded model from disk\")"
   ]
  },
  {
   "cell_type": "markdown",
   "id": "c59b5072",
   "metadata": {},
   "source": [
    "## (h) Aufteilen in einen Trainings und Validierungsdatensatz\n",
    "\n",
    "Teilen Sie den geladenen Datensatz in einen Trainings- und einen Testdatensatz auf (Aufteilung nach Zeilen) und verwenden Sie einen die Trainingsdaten (80%), um das Modell zu trainieren, und den Validierungsdatensatz (20%), um die Leistung des Modells auf neuen Daten zu schätzen.\n"
   ]
  },
  {
   "cell_type": "code",
   "execution_count": 36,
   "id": "50ffc83c",
   "metadata": {},
   "outputs": [
    {
     "name": "stdout",
     "output_type": "stream",
     "text": [
      "Using 614 samples for training and 154 for validation\n"
     ]
    }
   ],
   "source": [
    "import numpy as np\n",
    "import matplotlib.pyplot as plt\n",
    "from sklearn.model_selection import train_test_split\n",
    "\n",
    "val_dataframe   = df.sample(frac=0.2, random_state=1337)\n",
    "train_dataframe = df.drop(val_dataframe.index)\n",
    "\n",
    "print(\n",
    "    \"Using %d samples for training and %d for validation\"\n",
    "    % (len(train_dataframe), len(val_dataframe))\n",
    ")\n"
   ]
  },
  {
   "cell_type": "markdown",
   "id": "a99be212",
   "metadata": {},
   "source": [
    "## (i) Dataset-Objekt erstellen\n",
    "\n",
    "Die `tf.data`-API (\\url{https://www.tensorflow.org/guide/data}) ermöglicht es Ihnen, komplexe Eingangs-Pipelines aus einfachen, wiederverwendbaren Teilen aufzubauen. Die Pipeline für ein Bildmodell könnte beispielsweise Daten aus Dateien in einem verteilten Dateisystem aggregieren, zufällige Störungen auf jedes Bild anwenden und zufällig ausgewählte Bilder zum Training zu einem Stapel (batch) zusammenführen. Die Pipeline für Texdaten kann das Extrahieren von Symbolen aus Rohtextdaten, deren Umwandlung in ein Embeddding und das Zusammenführen von Sequenzen unterschiedlicher Länge umfassen. Die `tf.data` API ermöglicht es , grosse Datenmengen zu verarbeiten, liest aus verschiedenen Datenformaten und ist in der Lage, komplexe Transformationen durchzuführen.\n",
    "\t\t\n",
    "Die `tf.data`-API führt ein \\texttt{tf.data.Dataset}-Objekt ein, welches eine Sequenz von Elementen darstellt, wobei jedes Element aus einer oder mehreren Komponenten besteht. In einer Bild-Pipeline könnte ein Element zum Beispiel ein einzelnes Trainingsbeispiel sein, bestehend aus einem Tupel aus je zwei Tensoren, die das Bild und sein Label darstellen.\n"
   ]
  },
  {
   "cell_type": "code",
   "execution_count": 37,
   "id": "d6e2943f",
   "metadata": {},
   "outputs": [],
   "source": [
    "def dataframe_to_dataset(df):\n",
    "    dg = df.copy()\n",
    "    labels = dg.pop('Outcome')\n",
    "    dataset = tf.data.Dataset.from_tensor_slices((dg.values, labels.values))\n",
    "    dataset = dataset.batch(32).repeat()\n",
    "    dataset = dataset.shuffle(buffer_size=len(df))\n",
    "    return dataset"
   ]
  },
  {
   "cell_type": "code",
   "execution_count": 38,
   "id": "a25663eb",
   "metadata": {},
   "outputs": [],
   "source": [
    "train_dataset=dataframe_to_dataset(train_dataframe)\n",
    "val_dataset  =dataframe_to_dataset(val_dataframe)"
   ]
  },
  {
   "cell_type": "markdown",
   "id": "87102da1",
   "metadata": {},
   "source": [
    "## (j) Lernkurven grafisch darstellen\n",
    "\n",
    "Die Funktion `fit()` gibt ein `History`-Objekt zurück, das den Verlust und die Genauigkeit am Ende jeder Epoche zusammenfasst. Erstellen Sie Liniendiagramme dieser Daten, sogenannte Lernkurven.\n"
   ]
  },
  {
   "cell_type": "code",
   "execution_count": 39,
   "id": "77b84655",
   "metadata": {},
   "outputs": [],
   "source": [
    "def plot_history(history):\n",
    "    #print(history.history.keys())\n",
    "    #  \"Accuracy\"\n",
    "    plt.plot(history.history['accuracy'])\n",
    "    plt.plot(history.history['val_accuracy'])\n",
    "    plt.title('model accuracy')\n",
    "    plt.ylabel('accuracy')\n",
    "    plt.xlabel('epoch')\n",
    "    plt.legend(['train', 'validation'], loc='upper left')\n",
    "    plt.grid(True); plt.show()\n",
    "    # \"Loss\"\n",
    "    plt.plot(history.history['loss'])\n",
    "    plt.plot(history.history['val_loss'])\n",
    "    plt.title('model loss')\n",
    "    plt.ylabel('loss')\n",
    "    plt.xlabel('epoch')\n",
    "    plt.legend(['train', 'validation'], loc='upper left')\n",
    "    plt.grid(True); plt.show()"
   ]
  },
  {
   "cell_type": "code",
   "execution_count": 40,
   "id": "a6313bfa",
   "metadata": {},
   "outputs": [
    {
     "name": "stdout",
     "output_type": "stream",
     "text": [
      "Epoch 1/50\n",
      "100/100 [==============================] - 0s 1ms/step - loss: 0.5192 - accuracy: 0.7323 - val_loss: 0.4294 - val_accuracy: 0.8312\n",
      "Epoch 2/50\n",
      "100/100 [==============================] - 0s 489us/step - loss: 0.5059 - accuracy: 0.7329 - val_loss: 0.4745 - val_accuracy: 0.7750\n",
      "Epoch 3/50\n",
      "100/100 [==============================] - 0s 479us/step - loss: 0.4897 - accuracy: 0.7547 - val_loss: 0.4599 - val_accuracy: 0.8057\n",
      "Epoch 4/50\n",
      "100/100 [==============================] - 0s 489us/step - loss: 0.5081 - accuracy: 0.7325 - val_loss: 0.5252 - val_accuracy: 0.7143\n",
      "Epoch 5/50\n",
      "100/100 [==============================] - 0s 489us/step - loss: 0.5048 - accuracy: 0.7364 - val_loss: 0.4548 - val_accuracy: 0.7715\n",
      "Epoch 6/50\n",
      "100/100 [==============================] - 0s 489us/step - loss: 0.5051 - accuracy: 0.7413 - val_loss: 0.5642 - val_accuracy: 0.7803\n",
      "Epoch 7/50\n",
      "100/100 [==============================] - 0s 479us/step - loss: 0.4806 - accuracy: 0.7599 - val_loss: 0.5137 - val_accuracy: 0.7760\n",
      "Epoch 8/50\n",
      "100/100 [==============================] - 0s 489us/step - loss: 0.5130 - accuracy: 0.7384 - val_loss: 0.5500 - val_accuracy: 0.7273\n",
      "Epoch 9/50\n",
      "100/100 [==============================] - 0s 489us/step - loss: 0.4993 - accuracy: 0.7471 - val_loss: 0.4619 - val_accuracy: 0.7675\n",
      "Epoch 10/50\n",
      "100/100 [==============================] - 0s 489us/step - loss: 0.4757 - accuracy: 0.7684 - val_loss: 0.4815 - val_accuracy: 0.7597\n",
      "Epoch 11/50\n",
      "100/100 [==============================] - 0s 489us/step - loss: 0.4804 - accuracy: 0.7554 - val_loss: 0.4621 - val_accuracy: 0.7875\n",
      "Epoch 12/50\n",
      "100/100 [==============================] - 0s 489us/step - loss: 0.4825 - accuracy: 0.7592 - val_loss: 0.4937 - val_accuracy: 0.7293\n",
      "Epoch 13/50\n",
      "100/100 [==============================] - 0s 489us/step - loss: 0.4995 - accuracy: 0.7365 - val_loss: 0.5098 - val_accuracy: 0.7208\n",
      "Epoch 14/50\n",
      "100/100 [==============================] - 0s 479us/step - loss: 0.4840 - accuracy: 0.7565 - val_loss: 0.4928 - val_accuracy: 0.7532\n",
      "Epoch 15/50\n",
      "100/100 [==============================] - 0s 479us/step - loss: 0.4816 - accuracy: 0.7572 - val_loss: 0.5079 - val_accuracy: 0.7583\n",
      "Epoch 16/50\n",
      "100/100 [==============================] - 0s 479us/step - loss: 0.4951 - accuracy: 0.7482 - val_loss: 0.5243 - val_accuracy: 0.7305\n",
      "Epoch 17/50\n",
      "100/100 [==============================] - 0s 509us/step - loss: 0.5053 - accuracy: 0.7418 - val_loss: 0.5000 - val_accuracy: 0.7669\n",
      "Epoch 18/50\n",
      "100/100 [==============================] - 0s 489us/step - loss: 0.4897 - accuracy: 0.7547 - val_loss: 0.6454 - val_accuracy: 0.6916\n",
      "Epoch 19/50\n",
      "100/100 [==============================] - 0s 479us/step - loss: 0.4995 - accuracy: 0.7395 - val_loss: 0.5409 - val_accuracy: 0.7384\n",
      "Epoch 20/50\n",
      "100/100 [==============================] - 0s 469us/step - loss: 0.4706 - accuracy: 0.7655 - val_loss: 0.4735 - val_accuracy: 0.7994\n",
      "Epoch 21/50\n",
      "100/100 [==============================] - 0s 479us/step - loss: 0.4764 - accuracy: 0.7612 - val_loss: 0.5290 - val_accuracy: 0.7197\n",
      "Epoch 22/50\n",
      "100/100 [==============================] - 0s 469us/step - loss: 0.4790 - accuracy: 0.7612 - val_loss: 0.4703 - val_accuracy: 0.7611\n",
      "Epoch 23/50\n",
      "100/100 [==============================] - 0s 479us/step - loss: 0.4575 - accuracy: 0.7707 - val_loss: 0.5438 - val_accuracy: 0.6854\n",
      "Epoch 24/50\n",
      "100/100 [==============================] - 0s 479us/step - loss: 0.4820 - accuracy: 0.7588 - val_loss: 0.4822 - val_accuracy: 0.7962\n",
      "Epoch 25/50\n",
      "100/100 [==============================] - 0s 479us/step - loss: 0.4844 - accuracy: 0.7441 - val_loss: 0.5664 - val_accuracy: 0.6948\n",
      "Epoch 26/50\n",
      "100/100 [==============================] - 0s 479us/step - loss: 0.4966 - accuracy: 0.7414 - val_loss: 0.5454 - val_accuracy: 0.7143\n",
      "Epoch 27/50\n",
      "100/100 [==============================] - 0s 479us/step - loss: 0.4743 - accuracy: 0.7603 - val_loss: 0.5237 - val_accuracy: 0.7240\n",
      "Epoch 28/50\n",
      "100/100 [==============================] - 0s 469us/step - loss: 0.4764 - accuracy: 0.7575 - val_loss: 0.5067 - val_accuracy: 0.8089\n",
      "Epoch 29/50\n",
      "100/100 [==============================] - 0s 489us/step - loss: 0.4753 - accuracy: 0.7619 - val_loss: 0.5768 - val_accuracy: 0.6623\n",
      "Epoch 30/50\n",
      "100/100 [==============================] - 0s 489us/step - loss: 0.4766 - accuracy: 0.7604 - val_loss: 0.4781 - val_accuracy: 0.7815\n",
      "Epoch 31/50\n",
      "100/100 [==============================] - 0s 479us/step - loss: 0.4897 - accuracy: 0.7630 - val_loss: 0.4895 - val_accuracy: 0.7643\n",
      "Epoch 32/50\n",
      "100/100 [==============================] - 0s 479us/step - loss: 0.4689 - accuracy: 0.7756 - val_loss: 0.5767 - val_accuracy: 0.6879\n",
      "Epoch 33/50\n",
      "100/100 [==============================] - 0s 479us/step - loss: 0.4593 - accuracy: 0.7758 - val_loss: 0.5273 - val_accuracy: 0.7078\n",
      "Epoch 34/50\n",
      "100/100 [==============================] - 0s 489us/step - loss: 0.4747 - accuracy: 0.7629 - val_loss: 0.5455 - val_accuracy: 0.7175\n",
      "Epoch 35/50\n",
      "100/100 [==============================] - 0s 479us/step - loss: 0.4710 - accuracy: 0.7611 - val_loss: 0.5383 - val_accuracy: 0.7565\n",
      "Epoch 36/50\n",
      "100/100 [==============================] - 0s 479us/step - loss: 0.4536 - accuracy: 0.7736 - val_loss: 0.5349 - val_accuracy: 0.7273\n",
      "Epoch 37/50\n",
      "100/100 [==============================] - 0s 489us/step - loss: 0.4739 - accuracy: 0.7647 - val_loss: 0.6234 - val_accuracy: 0.6453\n",
      "Epoch 38/50\n",
      "100/100 [==============================] - 0s 479us/step - loss: 0.4612 - accuracy: 0.7737 - val_loss: 0.5400 - val_accuracy: 0.7110\n",
      "Epoch 39/50\n",
      "100/100 [==============================] - 0s 489us/step - loss: 0.4596 - accuracy: 0.7707 - val_loss: 0.5141 - val_accuracy: 0.7285\n",
      "Epoch 40/50\n",
      "100/100 [==============================] - 0s 479us/step - loss: 0.4763 - accuracy: 0.7590 - val_loss: 0.5565 - val_accuracy: 0.7435\n",
      "Epoch 41/50\n",
      "100/100 [==============================] - 0s 489us/step - loss: 0.4697 - accuracy: 0.7714 - val_loss: 0.4958 - val_accuracy: 0.7898\n",
      "Epoch 42/50\n",
      "100/100 [==============================] - 0s 479us/step - loss: 0.4619 - accuracy: 0.7795 - val_loss: 0.6620 - val_accuracy: 0.7045\n",
      "Epoch 43/50\n",
      "100/100 [==============================] - 0s 479us/step - loss: 0.4512 - accuracy: 0.7848 - val_loss: 0.5675 - val_accuracy: 0.7219\n",
      "Epoch 44/50\n",
      "100/100 [==============================] - 0s 479us/step - loss: 0.4788 - accuracy: 0.7640 - val_loss: 0.5773 - val_accuracy: 0.6981\n",
      "Epoch 45/50\n",
      "100/100 [==============================] - 0s 479us/step - loss: 0.4664 - accuracy: 0.7710 - val_loss: 0.5008 - val_accuracy: 0.7565\n",
      "Epoch 46/50\n",
      "100/100 [==============================] - 0s 479us/step - loss: 0.4583 - accuracy: 0.7848 - val_loss: 0.5205 - val_accuracy: 0.7771\n",
      "Epoch 47/50\n",
      "100/100 [==============================] - 0s 479us/step - loss: 0.4582 - accuracy: 0.7769 - val_loss: 0.6084 - val_accuracy: 0.6966\n",
      "Epoch 48/50\n",
      "100/100 [==============================] - 0s 489us/step - loss: 0.4816 - accuracy: 0.7668 - val_loss: 0.5264 - val_accuracy: 0.7297\n",
      "Epoch 49/50\n",
      "100/100 [==============================] - 0s 479us/step - loss: 0.4650 - accuracy: 0.7768 - val_loss: 0.4636 - val_accuracy: 0.8125\n",
      "Epoch 50/50\n",
      "100/100 [==============================] - 0s 489us/step - loss: 0.4544 - accuracy: 0.7768 - val_loss: 0.5575 - val_accuracy: 0.7162\n",
      "Accuracy: 74.87\n"
     ]
    }
   ],
   "source": [
    "history=model.fit(train_dataset, epochs=50, \n",
    "          steps_per_epoch=100,\n",
    "          validation_data=val_dataset,\n",
    "          validation_steps=10)\n",
    "\n",
    "print('Accuracy: %.2f' % (accuracy*100))"
   ]
  },
  {
   "cell_type": "code",
   "execution_count": 41,
   "id": "93ab08f5",
   "metadata": {},
   "outputs": [
    {
     "data": {
      "image/png": "[encoded data removed]",
      "text/plain": [
       "<Figure size 432x288 with 1 Axes>"
      ]
     },
     "metadata": {
      "needs_background": "light"
     },
     "output_type": "display_data"
    },
    {
     "data": {
      "image/png": "[encoded data removed]",
      "text/plain": [
       "<Figure size 432x288 with 1 Axes>"
      ]
     },
     "metadata": {
      "needs_background": "light"
     },
     "output_type": "display_data"
    }
   ],
   "source": [
    "plot_history(history)"
   ]
  },
  {
   "cell_type": "code",
   "execution_count": 42,
   "id": "e35c9e67",
   "metadata": {},
   "outputs": [],
   "source": [
    "# define the keras model\n",
    "model = Sequential()\n",
    "model.add(Dense(16, input_dim=8, activation='relu'))\n",
    "model.add(Dropout(0.40))\n",
    "model.add(Dense(8, activation='relu'))\n",
    "model.add(Dense(1, activation='sigmoid'))"
   ]
  },
  {
   "cell_type": "code",
   "execution_count": 43,
   "id": "85eb6f23",
   "metadata": {},
   "outputs": [],
   "source": [
    "# compile the keras model\n",
    "model.compile(loss='binary_crossentropy', optimizer='adam', metrics=['accuracy'])"
   ]
  },
  {
   "cell_type": "code",
   "execution_count": 44,
   "id": "175b0b98",
   "metadata": {},
   "outputs": [
    {
     "name": "stdout",
     "output_type": "stream",
     "text": [
      "Epoch 1/50\n",
      "100/100 [==============================] - 0s 1ms/step - loss: 9.0130 - accuracy: 0.5775 - val_loss: 1.6709 - val_accuracy: 0.6721\n",
      "Epoch 2/50\n",
      "100/100 [==============================] - 0s 469us/step - loss: 3.1251 - accuracy: 0.5678 - val_loss: 0.6619 - val_accuracy: 0.7962\n",
      "Epoch 3/50\n",
      "100/100 [==============================] - 0s 459us/step - loss: 1.4178 - accuracy: 0.5378 - val_loss: 0.7571 - val_accuracy: 0.6433\n",
      "Epoch 4/50\n",
      "100/100 [==============================] - 0s 469us/step - loss: 0.9799 - accuracy: 0.5491 - val_loss: 0.6701 - val_accuracy: 0.7125\n",
      "Epoch 5/50\n",
      "100/100 [==============================] - 0s 459us/step - loss: 0.8397 - accuracy: 0.5413 - val_loss: 0.6687 - val_accuracy: 0.8176\n",
      "Epoch 6/50\n",
      "100/100 [==============================] - 0s 459us/step - loss: 0.7781 - accuracy: 0.5526 - val_loss: 0.6663 - val_accuracy: 0.7594\n",
      "Epoch 7/50\n",
      "100/100 [==============================] - 0s 449us/step - loss: 0.7520 - accuracy: 0.6113 - val_loss: 0.6538 - val_accuracy: 0.7432\n",
      "Epoch 8/50\n",
      "100/100 [==============================] - 0s 449us/step - loss: 0.7477 - accuracy: 0.6180 - val_loss: 0.6607 - val_accuracy: 0.7094\n",
      "Epoch 9/50\n",
      "100/100 [==============================] - 0s 469us/step - loss: 0.7489 - accuracy: 0.6117 - val_loss: 0.6508 - val_accuracy: 0.7357\n",
      "Epoch 10/50\n",
      "100/100 [==============================] - 0s 459us/step - loss: 0.7178 - accuracy: 0.6236 - val_loss: 0.6472 - val_accuracy: 0.7197\n",
      "Epoch 11/50\n",
      "100/100 [==============================] - 0s 459us/step - loss: 0.7053 - accuracy: 0.6182 - val_loss: 0.6352 - val_accuracy: 0.7468\n",
      "Epoch 12/50\n",
      "100/100 [==============================] - 0s 449us/step - loss: 0.6860 - accuracy: 0.6379 - val_loss: 0.6278 - val_accuracy: 0.7594\n",
      "Epoch 13/50\n",
      "100/100 [==============================] - 0s 449us/step - loss: 0.6841 - accuracy: 0.6398 - val_loss: 0.6273 - val_accuracy: 0.7450\n",
      "Epoch 14/50\n",
      "100/100 [==============================] - 0s 449us/step - loss: 0.6770 - accuracy: 0.6286 - val_loss: 0.6347 - val_accuracy: 0.7143\n",
      "Epoch 15/50\n",
      "100/100 [==============================] - 0s 449us/step - loss: 0.6773 - accuracy: 0.6403 - val_loss: 0.6143 - val_accuracy: 0.7597\n",
      "Epoch 16/50\n",
      "100/100 [==============================] - 0s 449us/step - loss: 0.6652 - accuracy: 0.6457 - val_loss: 0.6067 - val_accuracy: 0.7655\n",
      "Epoch 17/50\n",
      "100/100 [==============================] - 0s 449us/step - loss: 0.6750 - accuracy: 0.6400 - val_loss: 0.5958 - val_accuracy: 0.7760\n",
      "Epoch 18/50\n",
      "100/100 [==============================] - 0s 449us/step - loss: 0.6735 - accuracy: 0.6289 - val_loss: 0.6189 - val_accuracy: 0.7134\n",
      "Epoch 19/50\n",
      "100/100 [==============================] - 0s 459us/step - loss: 0.6792 - accuracy: 0.6296 - val_loss: 0.6210 - val_accuracy: 0.7013\n",
      "Epoch 20/50\n",
      "100/100 [==============================] - 0s 449us/step - loss: 0.6606 - accuracy: 0.6454 - val_loss: 0.5910 - val_accuracy: 0.7550\n",
      "Epoch 21/50\n",
      "100/100 [==============================] - 0s 449us/step - loss: 0.6573 - accuracy: 0.6457 - val_loss: 0.5676 - val_accuracy: 0.7987\n",
      "Epoch 22/50\n",
      "100/100 [==============================] - 0s 449us/step - loss: 0.6507 - accuracy: 0.6518 - val_loss: 0.5937 - val_accuracy: 0.7403\n",
      "Epoch 23/50\n",
      "100/100 [==============================] - 0s 449us/step - loss: 0.6605 - accuracy: 0.6329 - val_loss: 0.5867 - val_accuracy: 0.7517\n",
      "Epoch 24/50\n",
      "100/100 [==============================] - 0s 459us/step - loss: 0.6626 - accuracy: 0.6385 - val_loss: 0.5944 - val_accuracy: 0.7305\n",
      "Epoch 25/50\n",
      "100/100 [==============================] - 0s 449us/step - loss: 0.6501 - accuracy: 0.6432 - val_loss: 0.6027 - val_accuracy: 0.7119\n",
      "Epoch 26/50\n",
      "100/100 [==============================] - 0s 459us/step - loss: 0.6412 - accuracy: 0.6628 - val_loss: 0.5528 - val_accuracy: 0.7881\n",
      "Epoch 27/50\n",
      "100/100 [==============================] - 0s 449us/step - loss: 0.6572 - accuracy: 0.6399 - val_loss: 0.5605 - val_accuracy: 0.7715\n",
      "Epoch 28/50\n",
      "100/100 [==============================] - 0s 469us/step - loss: 0.6647 - accuracy: 0.6192 - val_loss: 0.5572 - val_accuracy: 0.7848\n",
      "Epoch 29/50\n",
      "100/100 [==============================] - 0s 449us/step - loss: 0.6513 - accuracy: 0.6405 - val_loss: 0.5723 - val_accuracy: 0.7550\n",
      "Epoch 30/50\n",
      "100/100 [==============================] - 0s 449us/step - loss: 0.6533 - accuracy: 0.6361 - val_loss: 0.5524 - val_accuracy: 0.7825\n",
      "Epoch 31/50\n",
      "100/100 [==============================] - 0s 449us/step - loss: 0.6412 - accuracy: 0.6578 - val_loss: 0.5726 - val_accuracy: 0.7417\n",
      "Epoch 32/50\n",
      "100/100 [==============================] - 0s 449us/step - loss: 0.6439 - accuracy: 0.6550 - val_loss: 0.5565 - val_accuracy: 0.7563\n",
      "Epoch 33/50\n",
      "100/100 [==============================] - 0s 459us/step - loss: 0.6328 - accuracy: 0.6590 - val_loss: 0.5533 - val_accuracy: 0.8089\n",
      "Epoch 34/50\n",
      "100/100 [==============================] - 0s 459us/step - loss: 0.6323 - accuracy: 0.6681 - val_loss: 0.5522 - val_accuracy: 0.7770\n",
      "Epoch 35/50\n",
      "100/100 [==============================] - 0s 449us/step - loss: 0.6401 - accuracy: 0.6544 - val_loss: 0.5670 - val_accuracy: 0.7955\n",
      "Epoch 36/50\n",
      "100/100 [==============================] - 0s 449us/step - loss: 0.6502 - accuracy: 0.6353 - val_loss: 0.5596 - val_accuracy: 0.7580\n",
      "Epoch 37/50\n",
      "100/100 [==============================] - 0s 449us/step - loss: 0.6397 - accuracy: 0.6621 - val_loss: 0.5704 - val_accuracy: 0.8142\n",
      "Epoch 38/50\n",
      "100/100 [==============================] - 0s 449us/step - loss: 0.6343 - accuracy: 0.6646 - val_loss: 0.5826 - val_accuracy: 0.7630\n",
      "Epoch 39/50\n",
      "100/100 [==============================] - 0s 529us/step - loss: 0.6263 - accuracy: 0.6696 - val_loss: 0.6213 - val_accuracy: 0.7695\n",
      "Epoch 40/50\n",
      "100/100 [==============================] - 0s 489us/step - loss: 0.6189 - accuracy: 0.6682 - val_loss: 0.5646 - val_accuracy: 0.8414\n",
      "Epoch 41/50\n",
      "100/100 [==============================] - 0s 479us/step - loss: 0.6129 - accuracy: 0.6786 - val_loss: 0.5550 - val_accuracy: 0.8117\n",
      "Epoch 42/50\n",
      "100/100 [==============================] - 0s 479us/step - loss: 0.6061 - accuracy: 0.6859 - val_loss: 0.6135 - val_accuracy: 0.7516\n",
      "Epoch 43/50\n",
      "100/100 [==============================] - 0s 479us/step - loss: 0.6238 - accuracy: 0.6694 - val_loss: 0.5478 - val_accuracy: 0.8408\n",
      "Epoch 44/50\n",
      "100/100 [==============================] - 0s 479us/step - loss: 0.6162 - accuracy: 0.6749 - val_loss: 0.5693 - val_accuracy: 0.8146\n",
      "Epoch 45/50\n",
      "100/100 [==============================] - 0s 459us/step - loss: 0.6094 - accuracy: 0.6858 - val_loss: 0.5449 - val_accuracy: 0.7815\n",
      "Epoch 46/50\n",
      "100/100 [==============================] - 0s 459us/step - loss: 0.6077 - accuracy: 0.6788 - val_loss: 0.6127 - val_accuracy: 0.8000\n",
      "Epoch 47/50\n",
      "100/100 [==============================] - 0s 449us/step - loss: 0.6130 - accuracy: 0.6682 - val_loss: 0.5690 - val_accuracy: 0.7947\n",
      "Epoch 48/50\n",
      "100/100 [==============================] - 0s 459us/step - loss: 0.5983 - accuracy: 0.6905 - val_loss: 0.5596 - val_accuracy: 0.8019\n",
      "Epoch 49/50\n",
      "100/100 [==============================] - 0s 459us/step - loss: 0.6124 - accuracy: 0.6723 - val_loss: 0.5978 - val_accuracy: 0.7834\n",
      "Epoch 50/50\n",
      "100/100 [==============================] - 0s 459us/step - loss: 0.5968 - accuracy: 0.6948 - val_loss: 0.5862 - val_accuracy: 0.7484\n",
      "Accuracy: 74.87\n"
     ]
    }
   ],
   "source": [
    "history=model.fit(train_dataset, epochs=50, \n",
    "          steps_per_epoch=100,\n",
    "          validation_data=val_dataset,\n",
    "          validation_steps=10)\n",
    "\n",
    "print('Accuracy: %.2f' % (accuracy*100))"
   ]
  },
  {
   "cell_type": "code",
   "execution_count": 45,
   "id": "9de587bc",
   "metadata": {},
   "outputs": [
    {
     "data": {
      "image/png": "[encoded data removed]",
      "text/plain": [
       "<Figure size 432x288 with 1 Axes>"
      ]
     },
     "metadata": {
      "needs_background": "light"
     },
     "output_type": "display_data"
    },
    {
     "data": {
      "image/png": "[encoded data removed]",
      "text/plain": [
       "<Figure size 432x288 with 1 Axes>"
      ]
     },
     "metadata": {
      "needs_background": "light"
     },
     "output_type": "display_data"
    }
   ],
   "source": [
    "plot_history(history)"
   ]
  },
  {
   "cell_type": "markdown",
   "id": "607a0e8f",
   "metadata": {},
   "source": [
    "## (l) Trainieren auf einem neuen Datensatzes\n",
    "\n",
    "Probieren Sie, einen anderen Tabellendatensatz zu verwenden, vielleicht aus dem UCI Machine Learning Repository."
   ]
  },
  {
   "cell_type": "code",
   "execution_count": null,
   "id": "06fa7eb9",
   "metadata": {},
   "outputs": [],
   "source": []
  },
  {
   "cell_type": "markdown",
   "id": "d56843ac",
   "metadata": {},
   "source": [
    "## (k)  Das Modell anpassen\n",
    "\n",
    "Ändern Sie die Konfiguration des Modells oder den Trainingsprozess und sehen Sie, ob Sie die Leistung des Modells verbessern können, z. B. eine Genauigkeit von mehr als 76 % erreichen.\n"
   ]
  },
  {
   "cell_type": "code",
   "execution_count": null,
   "id": "b8107b95",
   "metadata": {},
   "outputs": [],
   "source": []
  }
 ],
 "metadata": {
  "kernelspec": {
   "display_name": "Python [conda env:ANN]",
   "language": "python",
   "name": "conda-env-ANN-py"
  },
  "language_info": {
   "codemirror_mode": {
    "name": "ipython",
    "version": 3
   },
   "file_extension": ".py",
   "mimetype": "text/x-python",
   "name": "python",
   "nbconvert_exporter": "python",
   "pygments_lexer": "ipython3",
   "version": "3.8.10"
  },
  "nbTranslate": {
   "displayLangs": [
    "*"
   ],
   "hotkey": "alt-t",
   "langInMainMenu": true,
   "sourceLang": "en",
   "targetLang": "fr",
   "useGoogleTranslate": true
  }
 },
 "nbformat": 4,
 "nbformat_minor": 5
}
