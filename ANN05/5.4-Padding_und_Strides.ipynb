{
 "cells": [
  {
   "cell_type": "markdown",
   "metadata": {
    "slideshow": {
     "slide_type": "slide"
    }
   },
   "source": [
    "<img src=\"Bilder/ost_logo.png\" width=\"240\"  align=\"right\"/>\n",
    "<div style=\"text-align: left\"> <b> Applied Neural Networks | FS 2025 </b><br>\n",
    "<a href=\"mailto:christoph.wuersch@ost.ch\"> © Christoph Würsch </a> </div>\n",
    "<a href=\"https://www.ost.ch/de/forschung-und-dienstleistungen/technik/systemtechnik/ice-institut-fuer-computational-engineering/\"> Eastern Switzerland University of Applied Sciences OST | ICE </a>\n",
    "\n",
    "[![Run in Colab](https://colab.research.google.com/assets/colab-badge.svg)](https://colab.research.google.com/github/ChristophWuersch/AppliedNeuralNetworks/blob/main/ANN05/5.4-Padding_und_Strides.ipynb)"
   ]
  },
  {
   "cell_type": "code",
   "execution_count": null,
   "metadata": {},
   "outputs": [],
   "source": [
    "# für Ausführung auf Google Colab auskommentieren und installieren\n",
    "%pip install -q -r https://raw.githubusercontent.com/ChristophWuersch/AppliedNeuralNetworks/main/requirements.txt\n"
   ]
  },
  {
   "cell_type": "markdown",
   "metadata": {
    "origin_pos": 0,
    "slideshow": {
     "slide_type": "slide"
    }
   },
   "source": [
    "# Padding and Stride\n",
    "\n",
    "Im vorherigen Beispiel von hatte unsere Eingabe sowohl eine Höhe als auch eine Breite von 3\n",
    "und unser Faltungs-Kernel hatte eine Höhe und Breite von 2.\n",
    "- Daraus ergibt sich eine Ausgabedarstellung mit der Dimension $2\\times 2$.\n",
    "\n",
    "- Unter der Annahme, dass die Eingabeform ist $n_h\\times n_w$ und die Form des Faltungskerns ist $k_h\\times k_w$, wird die Ausgangsdimension: \n",
    "\n",
    "$$(n_h-k_h+1) \\times (n_w-k_w+1)$$ \n",
    "\n",
    "- Daher wird die Ausgangsform der Faltungsschicht wird also durch die Form der Eingabe und die Form des Faltungskerns bestimmt.\n",
    "\n",
    "\n"
   ]
  },
  {
   "cell_type": "markdown",
   "metadata": {
    "slideshow": {
     "slide_type": "slide"
    }
   },
   "source": [
    "### Faltungskerne reduzieren i.A. die Ausgabedimension\n",
    "\n",
    "- Kernel haben im Allgemeinen eine Breite und Höhe von mehr als $1$, und nach der Anwendung vieler aufeinander folgender Faltungen neigen CNN dazu, mit Ausgaben zu enden, die wesentlich kleiner sind als unsere Eingabe. \n",
    "- Wenn wir mit einem Bild mit $240 \\times 240$ Pixeln beginnen, reduzieren $10$ Schichten von $5 \\times 5$ Faltungen das Bild auf $200 \\times 200$ Pixel, wodurch $30 \\%$ des Bildes abgeschnitten werden und damit werden alle interessanten Informationen an den Rändern des ursprünglichen Bildes abgeschnitten.\n",
    "\n",
    "- **Padding** ist das gängigste Werkzeug zur Behandlung dieses Problems.\n",
    "- In anderen Fällen möchten wir vielleicht die Dimensionalität drastisch reduzieren, z. B. wenn wir die ursprüngliche Eingabeauflösung als unhandlich empfinden. Die **Strided Convolutions** sind eine beliebte Technik, die in solchen Fällen helfen kann."
   ]
  },
  {
   "cell_type": "markdown",
   "metadata": {
    "slideshow": {
     "slide_type": "slide"
    }
   },
   "source": [
    "## Padding (Auffüllen)\n",
    "\n",
    "Wie oben beschrieben, besteht ein heikles Problem bei der Anwendung von Faltungsschichten\n",
    "ist, dass wir dazu neigen, Pixel an den Rändern unseres Bildes zu verlieren.\n",
    "\n",
    "- Da wir normalerweise kleine Kernel verwenden, gehen für jede einzelne Faltungschicht vielleicht nur ein paar Pixel verloren, aber das kann sich summieren, wenn wir viele aufeinanderfolgende Faltungsschichten hintereinander stapeln.\n",
    "- Eine unkomplizierte Lösung für dieses Problem ist das Hinzufügen *zusätzlicher Füllpixel am Rande* des Eingabebildes, und so die effektive Grösse des Bildes zu erhöhen.\n",
    "- Normalerweise setzen wir die Werte der zusätzlichen Pixel auf `Null`.\n",
    "\n"
   ]
  },
  {
   "cell_type": "markdown",
   "metadata": {
    "slideshow": {
     "slide_type": "slide"
    }
   },
   "source": [
    "\n",
    "In folgendem Beispiel (siehe Abbildung) füllen wir eine $3 \\times 3$ Eingabe auf, und erhöhen seine Größe auf $5 \\times 5$. \n",
    "- Die entsprechende Ausgabe erhöht sich dann auf eine $4 \\times 4$-Matrix.\n",
    "- Die schattierten Bereiche sind das erste Ausgabeelement sowie die Eingabe- und Kernel-Tensorelemente, die für die Ausgabeberechnung verwendet werden: $0 \\cdot 0+0 \\cdot 1+0 \\cdot 2+0 \\cdot 3=0$.\n",
    "\n",
    "<img src=\"Bilder/conv-pad.svg\" width=\"540\" height=\"440\" align=\"center\"/>"
   ]
  },
  {
   "cell_type": "markdown",
   "metadata": {
    "slideshow": {
     "slide_type": "slide"
    }
   },
   "source": [
    "Im Allgemeinen, wenn wir insgesamt $p_h$ Zeilen der Auffüllung hinzufügen (ungefähr die Hälfte oben und die Hälfte unten)\n",
    "und insgesamt $p_w$ Spalten von padding (ungefähr die Hälfte auf der linken und die Hälfte auf der rechten Seite),\n",
    "wird die Ausgabeform sein\n",
    "\n",
    "$$\\boxed{(n_h-k_h+p_h+1)\\times(n_w-k_w+p_w+1)}.$$\n",
    "\n",
    "Das bedeutet, dass die Höhe und Breite der Ausgabe\n",
    "um $p_h$ bzw. $p_w$ zunehmen werden.\n",
    "\n",
    "- In vielen Fällen werden wir $p_h=k_h-1$ und $p_w=k_w-1$ setzen wollen, damit die Eingabe und die Ausgabe die gleiche Höhe und Breite haben.\n",
    "- Dies erleichtert die Vorhersage der Ausgangsform jeder Schicht bei der Konstruktion des Netzes.\n",
    "- Nehmen wir an, dass $k_h$ hier ungerade ist, werden wir $p_h/2$ Zeilen auf beiden Seiten der Höhe auffüllen.\n",
    "- Wenn $k_h$ gerade ist, besteht eine Möglichkeit darin $\\lceil p_h/2\\rceil$ Zeilen auf der Oberseite der Eingabe aufzufüllen und $\\lfloor p_h/2\\rfloor$ Zeilen an der Unterseite.\n",
    "- Wir werden beide Seiten der Breite auf die gleiche Weise auffüllen.\n",
    "\n"
   ]
  },
  {
   "cell_type": "markdown",
   "metadata": {
    "slideshow": {
     "slide_type": "slide"
    }
   },
   "source": [
    "### CNNs verwenden meist Faltungs-Kerne mit *ungeraden* Höhen und Breiten\n",
    "\n",
    "-CNNs verwenden in der Regel Faltungs-Kerne mit **ungeraden Höhen- und Breitenwerten**, wie 1, 3, 5 oder 7.\n",
    "- Die Wahl von ungeraden Kernelgrössen hat den Vorteil dass wir die räumliche Dimensionalität erhalten können und gleichzeitig die gleiche Anzahl von Zeilen oben und unten aufzufüllen, und die gleiche Anzahl von Spalten links und rechts.\n",
    "- Ausserdem hat diese Praxis der Verwendung ungerader Kernel und Auffüllung zur genauen Erhaltung der Dimensionalität einen verwaltungstechnischen Vorteil.\n",
    "\n",
    "Wenn die Grösse des Kerns ungerade ist und die Anzahl der Auffüllungszeilen und -spalten auf allen Seiten gleich ist, wird für jeden zweidimensionalen Tensor `X`  eine Ausgabe mit der gleichen Höhe und Breite wie die Eingabe erzeugt.\n",
    "Somit wissen wir, dass die Ausgabe `Y[i, j]` berechnet wird durch Kreuzkorrelation von Eingabe und Faltungskern\n",
    "mit dem Fenster, das auf `X[i, j]` zentriert ist.\n",
    "\n",
    "Im folgenden Beispiel erstellen wir eine zweidimensionale Faltungsschicht mit einer Höhe und Breite von 3\n",
    "und **an allen Seiten 1 Pixel Auffüllung**. Bei einer Eingabe mit einer Höhe und Breite von 8, stellen wir fest, dass die Höhe und Breite der Ausgabe ebenfalls 8 beträgt."
   ]
  },
  {
   "cell_type": "code",
   "execution_count": null,
   "metadata": {
    "origin_pos": 3,
    "slideshow": {
     "slide_type": "slide"
    },
    "tab": [
     "tensorflow"
    ]
   },
   "outputs": [],
   "source": [
    "import tensorflow as tf\n",
    "\n",
    "\n",
    "# We define a convenience function to calculate the convolutional layer. This\n",
    "# function initializes the convolutional layer weights and performs\n",
    "# corresponding dimensionality elevations and reductions on the input and\n",
    "# output\n",
    "def comp_conv2d(conv2d, X):\n",
    "    # Here (1, 1) indicates that the batch size and the number of channels\n",
    "    # are both 1\n",
    "    X = tf.reshape(X, (1,) + X.shape + (1,))\n",
    "    Y = conv2d(X)\n",
    "    # Exclude the first two dimensions that do not interest us: examples and\n",
    "    # channels\n",
    "    return tf.reshape(Y, Y.shape[1:3])\n",
    "\n",
    "\n",
    "# Note that here 1 row or column is padded on either side, so a total of 2\n",
    "# rows or columns are added\n",
    "conv2d = tf.keras.layers.Conv2D(1, kernel_size=3, padding=\"same\")\n",
    "X = tf.random.uniform(shape=(8, 8))\n",
    "comp_conv2d(conv2d, X).shape"
   ]
  },
  {
   "cell_type": "markdown",
   "metadata": {
    "origin_pos": 4,
    "slideshow": {
     "slide_type": "slide"
    }
   },
   "source": [
    "Wenn die Höhe und Breite des Faltungskerns unterschiedlich sind,\n",
    "können wir dafür sorgen, dass die Ausgabe und die Eingabe die gleiche Höhe und Breite haben\n",
    "indem man **unterschiedliche Auffüllungszahlen (paddings) für Höhe und Breite einstellt werden.**\n"
   ]
  },
  {
   "cell_type": "code",
   "execution_count": null,
   "metadata": {
    "origin_pos": 7,
    "slideshow": {
     "slide_type": "fragment"
    },
    "tab": [
     "tensorflow"
    ]
   },
   "outputs": [],
   "source": [
    "# Here, we use a convolution kernel with a height of 5 and a width of 3. The\n",
    "# padding numbers on either side of the height and width are 2 and 1,\n",
    "# respectively\n",
    "conv2d = tf.keras.layers.Conv2D(1, kernel_size=(5, 3), padding=\"same\")\n",
    "comp_conv2d(conv2d, X).shape"
   ]
  },
  {
   "cell_type": "markdown",
   "metadata": {
    "origin_pos": 8,
    "slideshow": {
     "slide_type": "slide"
    }
   },
   "source": [
    "## Stride (Schrittweite)\n",
    "\n",
    "Bei der Berechnung der Kreuzkorrelation beginnen wir mit dem Faltungsfenster in der oberen linken Ecke des Eingabetensors,\n",
    "und schieben es dann über alle Stellen nach unten und nach rechts.\n",
    "- In den vorherigen Beispielen haben wir standardmäßig ein Element nach dem anderen verschoben.\n",
    "- Manchmal jedoch, entweder aus Gründen der *Berechnungseffizienz* oder weil wir ein *Downsampling* durchführen wollen,\n",
    "verschieben wir unser Fenster mehr als ein Element auf einmal, wobei die **Zwischenpositionen übersprungen** werden.\n",
    "\n",
    "Die Anzahl der Zeilen und Spalten, die pro Folie durchlaufen werden, bezeichnet man als *Stride* (Schrittweite).\n",
    "- Bisher haben wir sowohl für die Höhe als auch für die Breite eine Schrittweite von 1 verwendet.\n",
    "- In manchen Fällen kann es sinnvoll sein, eine grössere Schrittweite zu verwenden.\n",
    "\n"
   ]
  },
  {
   "cell_type": "markdown",
   "metadata": {
    "slideshow": {
     "slide_type": "slide"
    }
   },
   "source": [
    "\n",
    "Die folgende Abbildung zeigt eine zweidimensionale Kreuzkorrelationsoperation mit einer Schrittweite von 3 in der Vertikalen und 2 in der Horizontalen. \n",
    "- Die schattierten Bereiche sind die Ausgabeelemente sowie die Eingabe- und Kernel-Tensorelemente, die für die Ausgabeberechnung verwendet werden: $0\\cdot 0+0\\cdot 1+1\\cdot 2+2\\cdot 3=8$, $0\\cdot0+6\\cdot1+0\\cdot2+0\\cdot3=6$.\n",
    "- Wir sehen, dass, wenn das zweite Element der ersten Spalte ausgegeben wird, das Faltungsfenster drei Zeilen nach unten gleitet.\n",
    "- Das Faltungsfenster verschiebt sich um zwei Spalten nach rechts wenn das zweite Element der ersten Zeile ausgegeben wird.\n",
    "- Wenn das Faltungsfenster bei der Eingabe weiterhin zwei Spalten nach rechts rutscht, gibt es keine Ausgabe, weil das Eingabeelement das Fenster nicht ausfüllen kann nicht ausfüllen kann (es sei denn, wir fügen eine weitere Spalte als Füllung hinzu).\n",
    "\n",
    "<img src=\"Bilder/conv-stride.svg\" width=\"440\" height=\"340\" align=\"center\"/>\n",
    "\n",
    "                        Kreuzkorrelation mit Schrittweiten von 3 und 2 für Höhe bzw. Breite"
   ]
  },
  {
   "cell_type": "markdown",
   "metadata": {
    "slideshow": {
     "slide_type": "slide"
    }
   },
   "source": [
    "Für eine Schrittweite für die Höhe $s_h$ für die Breite $s_w$  ist die Ausgabedimension:\n",
    "\n",
    "$$\\boxed{\\lfloor(n_h-k_h+p_h+s_h)/s_h\\rfloor \\times \\lfloor(n_w-k_w+p_w+s_w)/s_w\\rfloor}.$$\n",
    "\n",
    "Wenn wir $p_h=k_h-1$ und $p_w=k_w-1$ setzen, dann wird die Ausgangsdimension vereinfacht zu:\n",
    "\n",
    "$$\\lfloor(n_h+s_h-1)/s_h\\rfloor \\times \\lfloor(n_w+s_w-1)/s_w\\rfloor$$.\n",
    "\n",
    "\n",
    "Wenn die Höhe und Breite der Eingabe durch die Schrittweite der Höhe und Breite teilbar sind, dann wird die Ausgabeform vereinfacht zu:\n",
    "\n",
    "$$(n_h/s_h) \\times (n_w/s_w)$$.\n",
    "\n",
    "Im Folgenden wird **die Schrittweite für Höhe und Breite auf 2** gesetzt, und somit wird die Eingabehöhe und -breite jeweils halbiert.\n"
   ]
  },
  {
   "cell_type": "code",
   "execution_count": null,
   "metadata": {
    "origin_pos": 11,
    "slideshow": {
     "slide_type": "slide"
    },
    "tab": [
     "tensorflow"
    ]
   },
   "outputs": [],
   "source": [
    "conv2d = tf.keras.layers.Conv2D(1, kernel_size=3, padding=\"same\", strides=2)\n",
    "comp_conv2d(conv2d, X).shape"
   ]
  },
  {
   "cell_type": "markdown",
   "metadata": {
    "origin_pos": 12,
    "slideshow": {
     "slide_type": "fragment"
    }
   },
   "source": [
    "Als Nächstes werden wir uns **ein etwas komplizierteres Beispiel** ansehen."
   ]
  },
  {
   "cell_type": "code",
   "execution_count": null,
   "metadata": {
    "origin_pos": 15,
    "slideshow": {
     "slide_type": "fragment"
    },
    "tab": [
     "tensorflow"
    ]
   },
   "outputs": [],
   "source": [
    "conv2d = tf.keras.layers.Conv2D(1, kernel_size=(3, 5), padding=\"valid\", strides=(3, 4))\n",
    "comp_conv2d(conv2d, X).shape"
   ]
  },
  {
   "cell_type": "markdown",
   "metadata": {
    "origin_pos": 16,
    "slideshow": {
     "slide_type": "slide"
    }
   },
   "source": [
    "\n",
    "Der Einfachheit halber nennen wir die Auffüllungszahl auf beiden Seiten der Eingabehöhe und -breite $p_h$ bzw. $p_w$ ist, nennen wir die Auffüllung $(p_h, p_w)$.\n",
    "- Genauer gesagt, wenn $p_h = p_w = p$, ist die Auffüllung $p$.\n",
    "- Wenn die Schrittweiten in der Höhe und Breite $s_h$ bzw. $s_w$ sind, nennen wir die Schrittweite $(s_h, s_w)$.\n",
    "- Genauer gesagt, wenn $s_h = s_w = s$ ist, ist die Schrittweite $s$.\n",
    "- **Standardmässig ist das Padding 0 und der Stride 1.**\n",
    "- In der Praxis verwenden wir selten inhomogene Schrittweiten oder Auffüllungen, d.h. wir haben normalerweise $p_h = p_w$ und $s_h = s_w$.**"
   ]
  },
  {
   "cell_type": "markdown",
   "metadata": {
    "origin_pos": 19,
    "slideshow": {
     "slide_type": "slide"
    },
    "tab": [
     "tensorflow"
    ]
   },
   "source": [
    "## Zusammenfassung\n",
    "\n",
    "* Durch Auffüllen kann die Höhe und Breite der Ausgabe vergrößert werden. Dies wird oft verwendet, um der Ausgabe die gleiche Höhe und Breite wie der Eingabe zu geben.\n",
    "* Stride kann die Auflösung der Ausgabe reduzieren, z.B. die Höhe und Breite der Ausgabe auf nur $1/n$ der Höhe und Breite der Eingabe reduzieren ($n$ ist eine ganze Zahl größer als $1$).\n",
    "* Padding und Stride können verwendet werden, um die Dimensionalität der Daten effektiv anzupassen.\n",
    "\n",
    "\n"
   ]
  },
  {
   "cell_type": "markdown",
   "metadata": {
    "slideshow": {
     "slide_type": "slide"
    }
   },
   "source": [
    "## Übungen (optional)\n",
    "\n",
    "1. Berechnen Sie für das letzte Beispiel in diesem Abschnitt die Form der Ausgabe mit Hilfe der Mathematik, um zu sehen, ob sie mit dem experimentellen Ergebnis übereinstimmt.\n",
    "2. Probieren Sie andere Kombinationen von Padding und Stride für die Experimente in diesem Abschnitt aus.\n",
    "3. Was bedeutet bei Audiosignalen eine Schrittweite von 2?\n",
    "4. Was sind die rechnerischen Vorteile eines Stride grösser als 1?"
   ]
  }
 ],
 "metadata": {
  "kernelspec": {
   "display_name": "Python 3 (ipykernel)",
   "language": "python",
   "name": "python3"
  },
  "language_info": {
   "codemirror_mode": {
    "name": "ipython",
    "version": 3
   },
   "file_extension": ".py",
   "mimetype": "text/x-python",
   "name": "python",
   "nbconvert_exporter": "python",
   "pygments_lexer": "ipython3",
   "version": "3.12.9"
  },
  "nbTranslate": {
   "displayLangs": [
    "*"
   ],
   "hotkey": "alt-t",
   "langInMainMenu": true,
   "sourceLang": "en",
   "targetLang": "fr",
   "useGoogleTranslate": true
  }
 },
 "nbformat": 4,
 "nbformat_minor": 4
}
