{
 "cells": [
  {
   "cell_type": "markdown",
   "metadata": {
    "slideshow": {
     "slide_type": "slide"
    }
   },
   "source": [
    "<img src=\"Bilder/ost_logo.png\" width=\"240\"  align=\"right\"/>\n",
    "<div style=\"text-align: left\"> <b> Applied Neural Networks | FS 2025 </b><br>\n",
    "<a href=\"mailto:christoph.wuersch@ost.ch\"> © Christoph Würsch </a> </div>\n",
    "<a href=\"https://www.ost.ch/de/forschung-und-dienstleistungen/technik/systemtechnik/ice-institut-fuer-computational-engineering/\"> Eastern Switzerland University of Applied Sciences OST | ICE </a>\n",
    "\n",
    "[![Run in Colab](https://colab.research.google.com/assets/colab-badge.svg)](https://colab.research.google.com/github/ChristophWuersch/AppliedNeuralNetworks/blob/main/ANN03/3.4-Machine-Learning-Workflow.ipynb)"
   ]
  },
  {
   "cell_type": "markdown",
   "metadata": {
    "slideshow": {
     "slide_type": "slide"
    }
   },
   "source": [
    "# Ein allgemeiner Machine-Learning-Workflow\n",
    "\n",
    "In diesem Abschnitt werden wir eine allgemeine Vorlage entwickeln, die Sie dazu\n",
    "verwenden können, beliebige Machine-Learning-Aufgaben in Angriff zu nehmen\n",
    "und zu lösen. Diese Vorlage verknüpft die in diesem Kapitel vorgestellten Konzepte\n",
    "miteinander: \n",
    "1. Definition der Aufgabe\n",
    "2. Bewertung, \n",
    "3. Merkmalserstellung und\n",
    "4. Verhindern einer Überanpassung.\n",
    "\n"
   ]
  },
  {
   "cell_type": "markdown",
   "metadata": {
    "slideshow": {
     "slide_type": "slide"
    }
   },
   "source": [
    "## Vorgehensweise:\n",
    "\n",
    "1.  **Definieren Sie die Aufgabe** und legen Sie fest, mit welchen **Daten** Sie das Modell trainieren. Sammeln Sie diese Daten oder kennzeichnen Sie sie mit einer Klassenbezeichnung, falls erforderlich.\n",
    "2. **Bewertungskriterien:** Wählen Sie aus, wie Sie das erfolgreiche Lösen der Aufgabe bewerten möchten. Welche der für die Validierungsdaten gültigen Erfolgskriterien sollen überwacht werden?\n",
    "3.  Legen Sie die **Bewertungsmethode** fest: Holdout-Methode? K-fache Kreuzvalidierung? Welche Teilmenge der Daten soll für die Validierung genutzt werden?\n",
    "4. Entwickeln Sie ein **erstes Modell**, das bessere Ergebnisse liefert als zufälliges Raten und eine hohe Teststärke aufweist.\n",
    "5. Entwickeln Sie ein **Modell mit Überanpassung**.\n",
    "6. **Regularisieren** Sie das Modell und stimmen Sie anhand der Leistung bei den Validierungsdaten die Hyperparameter ab. Ein Großteil der Machine-Learning-Forschung konzentriert sich tendenziell nur auf diesen einen Schritt. Es ist jedoch besser, sich ein Gesamtbild zu machen."
   ]
  },
  {
   "cell_type": "markdown",
   "metadata": {
    "slideshow": {
     "slide_type": "slide"
    }
   },
   "source": [
    "## 1. Definition der Aufgabe und Zusammenstellen einer Datenmenge\n",
    "Als Erstes muss die vorliegende Aufgabe genau definiert werden:\n",
    "\n",
    "- **Was soll als Eingabedaten verwendet werden?** Was möchten Sie vorhersagen? Zu erlernen, Vorhersagen zu treffen, ist nur möglich, wenn Trainingsdaten verfügbar sind. Die Klassifizierung der Stimmungslage von Filmbewertungen kann beispielsweise nur erlernt werden, wenn Ihnen sowohl die Filmbewertungen als auch die dazugehörigen Zielwerte (die Klassenbezeichnungen) zur Verfügung stehen. In diesem Stadium stellt die Verfügbarkeit von Daten für gewöhnlich die größte Einschränkung dar – es sei denn, Ihnen stehen die nötigen Mittel zur Verfügung, um für das Sammeln von Daten zu bezahlen.\n",
    "- **Mit welchem Aufgabentyp haben Sie es zu tun?** Handelt es sich um eine Binärklassifizierung? Eine Mehrfachklassifizierung? Eine skalare Regression? Eine Vektorregression? Eine Multi-Label-Mehrfachklassifizierung? Oder etwas ganz anderes, wie Clustering, Datenerzeugung oder verstärkendes Lernen? Die Identifizierung des Aufgabentyps hilft Ihnen bei der Auswahl der Modellarchitektur, der Verlustfunktion usw."
   ]
  },
  {
   "cell_type": "markdown",
   "metadata": {
    "slideshow": {
     "slide_type": "slide"
    }
   },
   "source": [
    "Sie können erst fortfahren, wenn Sie Ihre Eingaben und Ausgaben kennen und wissen, welche Daten Sie verwenden werden. Außerdem müssen Sie sich darüber im Klaren sein, dass Sie zu diesem Zeitpunkt die folgenden Annahmen machen:\n",
    "- Sie gehen davon aus, dass die Ausgaben anhand der Eingaben vorhersagbar sind.\n",
    "- Sie gehen davon aus, dass der Informationsgehalt der verfügbaren Daten ausreicht, um die Beziehung zwischen Eingaben und Ausgaben zu erlernen."
   ]
  },
  {
   "cell_type": "markdown",
   "metadata": {
    "slideshow": {
     "slide_type": "slide"
    }
   },
   "source": [
    "Bis Sie über ein funktionierendes Modell verfügen, sind das lediglich Hypothesen,\n",
    "die sich als richtig oder falsch herausstellen können. \n",
    "- Nicht alle Aufgaben sind lösbar.\n",
    "- Dass Sie Beispiele der Eingaben `X` und der Zielwerte `Y` zusammengestellt haben, heisst noch lange nicht, dass `X` genügend Informationen enthält, um `Y` vorherzusagen.\n",
    "- Wenn Sie beispielsweise versuchen, den Börsenkurs einer Aktie anhand des bisherigen Kursverlaufs vorherzusagen, werden Sie wahrscheinlich keinen Erfolg haben, denn der Kursverlauf enthält kaum Informationen, die für die Vorhersage von Bedeutung sind."
   ]
  },
  {
   "cell_type": "markdown",
   "metadata": {
    "slideshow": {
     "slide_type": "slide"
    }
   },
   "source": [
    "Eine Klasse unlösbarer Aufgaben, die Sie kennen sollten, sind sogenannte *nichtstationäre\n",
    "Aufgaben*. \n",
    "\n",
    "Nehmen wir an, Sie entwickeln ein Empfehlungssystem für Bekleidung, das Sie mit den Daten eines Monats (August) trainieren. Im Winter wollen Sie damit beginnen, Empfehlungen zu erzeugen. Das Problem dabei ist, dass die Leute je nach Jahreszeit eine andere Art von Kleidung kaufen: Betrachtet man einen Zeitraum von einigen wenigen Monaten, ist der Kauf von Bekleidung\n",
    "ein nicht-stationäres Phänomen. \n",
    "\n",
    "Das, was Sie zu modellieren versuchen, ändert sich im Laufe der Zeit. In diesem Fall wäre es vernünftig, das Modell immer wieder mit Daten der jüngsten Vergangenheit zu trainieren oder Daten für einen Zeitraum zu sammeln, in dem die Aufgabe stationär ist. Um Empfehlungen für den Kauf von Bekleidung zu geben – also für eine sich zyklisch ändernde Aufgabe –, dürften die Daten von ein paar Jahren ausreichen, um die jahreszeitlich bedingten\n",
    "Änderungen zu erfassen – aber vergessen Sie nicht, die Jahreszeit als Eingabe Ihres Modells zu definieren!"
   ]
  },
  {
   "cell_type": "markdown",
   "metadata": {
    "slideshow": {
     "slide_type": "slide"
    }
   },
   "source": [
    "Denken Sie auch daran, dass beim Machine Learning nur Muster dauerhaft erfasst\n",
    "werden können, die Bestandteil der Trainingsdaten sind. Das Modell kann nur das\n",
    "erkennen, was ihm auch bekannt ist. Mit Daten aus der Vergangenheit trainierte\n",
    "Machine-Learning-Modelle für die Vorhersage der Zukunft zu verwenden, setzt\n",
    "voraus, dass sich in Zukunft alles so wie in der Vergangenheit verhält. Das ist allerdings\n",
    "häufig nicht der Fall."
   ]
  },
  {
   "cell_type": "markdown",
   "metadata": {
    "slideshow": {
     "slide_type": "slide"
    }
   },
   "source": [
    "## 2. Auswahl eines Erfolgskriteriums\n",
    "Um etwas steuern zu können, müssen Sie in der Lage sein, es zu beobachten. Und\n",
    "um einen Erfolg zu erzielen, müssen Sie definieren, was damit gemeint ist. \n",
    "- Eine hohe Korrektklassifizierungsrate? \n",
    "- Genauigkeit und Trefferquote? \n",
    "- Hohe Kundenbindung?\n",
    "\n",
    "Ihr Erfolgskriterium beeinflusst die Wahl der Verlustfunktion, legt also fest, was Ihr Modell optimiert, und sollte sich dementsprechend an den übergeordneten Zielen orientieren, wie z.B. am Erfolg Ihres Geschäftsmodells.\n"
   ]
  },
  {
   "cell_type": "markdown",
   "metadata": {
    "slideshow": {
     "slide_type": "slide"
    }
   },
   "source": [
    "- Für *ausgewogene* Klassifizierungsaufgaben, bei denen alle Klassen die gleiche Wahrscheinlichkeit besitzen, sind die *Korrektklassifizierungsrate* und die *Fläche unter der ROC-Kurve*, die sogenannte ROC-AUC (Receiver Operator Characteristic Area Under Curve), gängige Kriterien. \n",
    "- Für *unausgewogene* Klassifizierungsaufgaben können Sie *Genauigkeit und Trefferquote* verwenden. \n",
    "- Bei der Ermittlung einer Reihenfolge oder bei einer Mehrfachklassifizierung ist die gewichtete mittlere Genauigkeit angebracht. \n",
    "\n",
    "Und es kommt auch nicht selten vor, dass man die Erfolgskriterien selbst festlegen muss. Wenn Sie sich einen Eindruck von der Vielfalt der Erfolgskriterien des Machine Learnings für verschiedene Aufgabenstellungen verschaffen möchten, sollten Sie sich die Data-Science-Wettbewerbe bei Kaggle (https://kaggle.com) ansehen. Sie finden dort ein breites Spektrum von Aufgaben und Bewertungskriterien."
   ]
  },
  {
   "cell_type": "markdown",
   "metadata": {
    "slideshow": {
     "slide_type": "slide"
    }
   },
   "source": [
    "## 3. Auswahl einer Bewertungsmethode\n",
    "\n",
    "Nachdem Sie die Aufgabe definiert haben, müssen Sie festlegen, wie Sie den aktuell erzielten Fortschritt beurteilen wollen. Die folgenden Bewertungsmethoden haben wir bereits erörtert:\n",
    "\n",
    "- (a) **Holdout-Methode** – Sie ist gut geeignet, wenn Ihnen viele Daten zur Verfügung stehen.\n",
    "- (b) **K-fache Kreuzvalidierung** – Die richtige Wahl, wenn Ihnen nicht genügend Daten für die Holdout-Methode zur Verfügung stehen.\n",
    "- (c) **Verschachtelte K-fache Kreuzvalidierung** – Sie liefert eine verlässlichere Bewertung,\n",
    "wenn nur wenige Daten verfügbar sind. \n",
    "\n",
    "Verwenden Sie eine dieser Methoden. In den meisten Fällen wird das hinreichend\n",
    "gut funktionieren."
   ]
  },
  {
   "cell_type": "markdown",
   "metadata": {
    "slideshow": {
     "slide_type": "slide"
    }
   },
   "source": [
    "## 4. Daten vorbereiten\n",
    "\n",
    "Wenn feststeht, welche Daten Sie für das Training verwenden, was Sie optimieren möchten und wie Sie Ihren Ansatz bewerten wollen, sind Sie schon fast so weit, dass Sie mit dem Training anfangen können. Zunächst einmal sollten Sie jedoch\n",
    "Ihre Daten so aufbereiten, dass Sie ein Machine-Learning-Modell damit füttern können. Wir gehen hier davon aus, dass es sich um ein NN handelt:\n",
    "- Wie Sie bereits wissen, sollten Ihre Daten in Form von **Tensoren** vorliegen.\n",
    "- Die in den Tensoren gespeicherten Werte sollten relativ klein sein und beispielsweise in einem der Intervalle `[-1, 1]` oder `[0, 1]` liegen.\n",
    "- Wenn die verschiedenen Merkmale von unterschiedlicher Grössenordnung sind (ungleichartige oder heterogene Daten), sollten Sie die Daten **normieren**.\n",
    "- Ziehen Sie eine **Merkmalserstellung** in Betracht, insbesondere bei Aufgaben, für die nur wenige Daten verfügbar sind.\n",
    "\n",
    "Sobald die Eingabe- und Zieldaten als Tensoren bereitstehen, können Sie Modelle trainieren."
   ]
  },
  {
   "cell_type": "markdown",
   "metadata": {
    "slideshow": {
     "slide_type": "slide"
    }
   },
   "source": [
    "## 5. Entwicklung eines Modells, das besser funktioniert als zufälliges Raten\n",
    "\n",
    "- An dieser Stelle haben Sie eine möglichst grosse Teststärke zum Ziel. \n",
    "- Das bedeutet, ein kleines Modell zu entwickeln, das in der Lage ist, bessere Ergebnisse als beim zufälligen Raten zu erzielen. Bei der Klassifizierung der MNIST-Ziffern würde man bei Korrektklassifizierungsraten von mehr als 0.1 von hoher Teststärke sprechen. \n",
    "- Bei der Klassifizierung der IMDb-Filmbewertungen wäre eine Korrektklassifizierungsrate von mehr als 0.5 als hohe Teststärke zu bezeichnen.\n",
    "\n",
    "Beachten Sie jedoch, dass es nicht immer möglich ist, eine hohe Teststärke zu\n",
    "erzielen. Wenn Sie nach mehreren Versuchen mit vernünftigen Architekturen\n",
    "keine besseren Ergebnisse als durch zufälliges Raten erreichen können, könnte es\n",
    "durchaus sein, dass der Informationsgehalt der Daten nicht ausreicht, um die\n",
    "gestellte Frage zu beantworten.\n"
   ]
  },
  {
   "cell_type": "markdown",
   "metadata": {
    "slideshow": {
     "slide_type": "slide"
    }
   },
   "source": [
    "Denken Sie daran, dass Sie **zwei Hypothesen** aufgestellt haben:\n",
    "\n",
    "1. **Vorhersagbarkeit:** Sie gehen davon aus, dass die Ausgaben anhand der Eingaben vorhersagbar sind.\n",
    "2. **Ausreichende Daten:** Sie gehen davon aus, dass der Informationsgehalt der verfügbaren Daten ausreicht, um die Beziehung zwischen Eingaben und Ausgaben zu erlernen.\n",
    "\n",
    "Es ist durchaus möglich, dass diese Hypothesen falsch sind. In dem Fall müssen\n",
    "Sie von vorn anfangen.\n"
   ]
  },
  {
   "cell_type": "markdown",
   "metadata": {
    "slideshow": {
     "slide_type": "slide"
    }
   },
   "source": [
    "Wenn alles gut geht, müssen Sie drei weitere wichtige Entscheidungen treffen,\n",
    "um Ihr erstes funktionierendes Modell fertigzustellen:\n",
    "\n",
    "1. **Aktivierung des letzten Layers** – Sie beschränkt die Ausgabe des NN auf sinnvolle Weise. Bei der Klassifizierung der IMDb-Filmbewertungen wird im letzten Layer die sigmoid-Funktion verwendet; bei der Regression gibt es keine Aktivierung\n",
    "des letzten Layers usw.\n",
    "2. **Verlustfunktion** – Sie sollte dem Typ der Aufgabe, die Sie zu lösen versuchen, angemessen sein. Die Klassifizierung der IMDb-Filmbewertungen verwendet z.B. `binary_crossentropy`, das Regressionsbeispiel verwendet mse usw.\n",
    "3. **Konfiguration der Optimierung** – Welcher Optimierer soll verwendet werden? Wie gross soll die Lernrate sein? In den meisten Fällen machen Sie nichts verkehrt, wenn Sie `rmsprop` mit der voreingestellten Lernrate benutzen."
   ]
  },
  {
   "cell_type": "markdown",
   "metadata": {
    "slideshow": {
     "slide_type": "slide"
    }
   },
   "source": [
    "Bei der **Auswahl der Verlustfunktion** ist zu beachten, dass es nicht immer möglich\n",
    "ist, das Modell direkt für das Erfolgskriterium der Aufgabe zu optimieren.\n",
    "\n",
    "- Manchmal gibt es keine einfache Möglichkeit, ein Erfolgskriterium mit einer Verlustfunktion zu bewerten, denn die Verlustfunktion berücksichtigt ja nur einen kleinen Stapel der Daten (im Idealfall sollte sich die Verlustfunktion anhand eines einzelnen Datenpunkts berechnen lassen) und muss differenzierbar sein (andernfalls können Sie zum Trainieren des NNs keine Backpropagation verwenden).\n",
    "- Das weithin gebräuchliche ROC-AUC-Kriterium lässt sich beispielsweise nicht direkt optimieren. Deshalb ist es bei Klassifizierungsaufgaben gängige Praxis, ein Stellvertreterkriterium für ROC-AUC zu nutzen, wie z.B. die Kreuzentropie.\n",
    "- Im Allgemeinen dürfen Sie erwarten, dass eine niedrigere Kreuzentropie mit einer grösseren ROC-AUC einhergeht."
   ]
  },
  {
   "cell_type": "markdown",
   "metadata": {
    "slideshow": {
     "slide_type": "slide"
    }
   },
   "source": [
    "| Aufgabentyp  | Aktivierung   | Verlustfunktion |\n",
    "|:------------:|:-------------:|:----------------|\n",
    "|Binärklassifizierung |`sigmoid` | `binary_crossentropy`| \n",
    "|Single-Label-Mehrfachklassifizierung | `softmax` | `categorial_crossentropy` |\n",
    "|Multi-Label-Mehrfachklassifizierung | `sigmoid` | `binary_crossentropy` |\n",
    "|Regression (beliebige Werte) |keine | `mse` |\n",
    "|Regression (zwischen 0 und 1) | `sigmoid` | `mse` oder `binary_crossentropy`|\n"
   ]
  },
  {
   "cell_type": "markdown",
   "metadata": {
    "slideshow": {
     "slide_type": "slide"
    }
   },
   "source": [
    "## 6. Hochskalieren: Entwicklung eines Modells mit Überanpassung\n",
    "\n",
    "Nachdem Sie ein Modell mit hoher Teststärke entwickelt haben, stellt sich die\n",
    "Frage, ob es auch hinreichend leistungsfähig ist. \n",
    "- Besitzt es genügend Layer und Parameter, um die vorliegende Aufgabe modellieren zu können? \n",
    "- So würde beispielsweise ein NN mit einem einzelnen aus zwei Einheiten bestehenden verdeckten Layer bei der MNIST-Klassifizierung zwar eine hohe Teststärke erzielen, wäre aber nicht ausreichend, um die Aufgabe gut zu lösen. Denken Sie an das beim Machine Learning stets vorhandene zwischen Optimierung und Verallgemeinerungsfähigkeit bestehende Spannungsfeld.\n",
    "- Im Idealfall bewegt sich das Modell an den Grenzen zwischen Über- und Unteranpassung und zwischen zu grosser und zu kleiner Kapazität. Um herauszufinden, wo sich diese Grenzen befinden, müssen sie zunächst einmal überschritten werden."
   ]
  },
  {
   "cell_type": "markdown",
   "metadata": {
    "slideshow": {
     "slide_type": "slide"
    }
   },
   "source": [
    "Um zu ermitteln, wie gross das Modell sein sollte, müssen Sie ein **Modell mit Überanpassung** erstellen. Das ist ziemlich einfach:\n",
    "1. Fügen Sie weitere Layer hinzu.\n",
    "2. Vergrössern Sie die Layer.\n",
    "3. Trainieren Sie das Modell mit zusätzlichen Epochen.\n",
    "\n",
    "Behalten Sie dabei stets die Verlustfunktion beim Training und bei der Validierung\n",
    "sowie die Ihnen wichtigen Erfolgskriterien im Auge. Wenn Sie feststellen, dass die\n",
    "Leistung des Modells bei den Validierungsdaten abzunehmen beginnt, hat die\n",
    "Überanpassung eingesetzt.\n",
    "\n",
    "Der nächste Schritt ist die Regularisierung und Abstimmung des Modells, um so\n",
    "nah wie möglich an das ideale Modell heranzukommen, bei dem es weder zu einer\n",
    "Unteranpassung noch zu einer Überanpassung kommt."
   ]
  },
  {
   "cell_type": "markdown",
   "metadata": {
    "slideshow": {
     "slide_type": "slide"
    }
   },
   "source": [
    "## 7. Regularisierung des Modells und Abstimmung der Hyperparameter\n",
    "\n",
    "Dieser Schritt nimmt die meiste Zeit in Anspruch: Sie werden Ihr Modell mehrmals\n",
    "modifizieren, trainieren, anhand der Validierungsdaten bewerten (an dieser Stelle\n",
    "noch nicht anhand der Testdaten), erneut modifizieren und das Ganze wiederholen,\n",
    "bis das Modell so gut wie möglich funktioniert. Probieren Sie Folgendes aus:\n",
    "\n",
    "- Wenden Sie das **Dropout-Verfahren** an.\n",
    "- Probieren Sie **verschiedene Architekturen** aus: Fügen Sie Layer hinzu oder entfernen Sie welche.\n",
    "- Fügen Sie eine **L1- und/oder eine L2-Regularisierung** hinzu.\n",
    "- Probieren Sie verschiedene **Hyperparameter** aus (ändern Sie z.B. die Anzahl der Einheiten pro Layer oder die Lernrate des Optimierers), um die optimale Konfiguration zu finden.\n",
    "- Optional können Sie die **Merkmalserstellung** ausprobieren: Fügen Sie neue Merkmale hinzu oder entfernen Sie Merkmale, die offenbar keinen Informationsgehalt besitzen.\n"
   ]
  },
  {
   "cell_type": "markdown",
   "metadata": {
    "slideshow": {
     "slide_type": "slide"
    }
   },
   "source": [
    "**Information Leak:** Jedes Mal, wenn Sie Feedback der Validierung zur Abstimmung des Modells verwenden, gelangen Informationen über den Validierungsvorgang in das Modell. Das ist harmlos, sofern es nur einige wenige Male vorkommt. Geschieht es jedoch systematisch und wird viele Male wiederholt, wird es schließlich dazu führen, dass es zu einer Überanpassung des Modells an den Validierungsvorgang kommt (auch wenn das Modell nie direkt mit den Validierungsdaten\n",
    "trainiert wurde). Auf diese Weise wird die Modellbewertung weniger zuverlässig."
   ]
  },
  {
   "cell_type": "markdown",
   "metadata": {
    "slideshow": {
     "slide_type": "slide"
    }
   },
   "source": [
    "Wenn Sie schliesslich eine zufriedenstellende Modellkonfigurationen gefunden\n",
    "haben, können Sie Ihr endgültiges Modell mit sämtlichen verfügbaren Daten\n",
    "**(Trainings- und Validierungsdaten)** trainieren und es ein letztes Mal **anhand der\n",
    "Testdaten** bewerten. Sollte sich herausstellen, dass die Leistung bei der Testdatenmenge\n",
    "deutlich schlechter als bei den Validierungsdaten ist, könnte das Folgendes\n",
    "bedeuten: Entweder war Ihr Validierungsverfahren nicht zuverlässig, oder es kam\n",
    "durch die Abstimmung der Modellparameter zu einer Überanpassung an die Validierungsdaten.\n",
    "In diesem Fall sollten Sie auf eine verlässlichere Bewertungsmethode\n",
    "(wie die verschachtelte K-fache Kreuzvalidierung) zurückgreifen."
   ]
  },
  {
   "cell_type": "code",
   "execution_count": null,
   "metadata": {},
   "outputs": [],
   "source": []
  }
 ],
 "metadata": {
  "kernelspec": {
   "display_name": "Python 3 (ipykernel)",
   "language": "python",
   "name": "python3"
  },
  "language_info": {
   "codemirror_mode": {
    "name": "ipython",
    "version": 3
   },
   "file_extension": ".py",
   "mimetype": "text/x-python",
   "name": "python",
   "nbconvert_exporter": "python",
   "pygments_lexer": "ipython3",
   "version": "3.9.6"
  },
  "nbTranslate": {
   "displayLangs": [
    "ger",
    "en"
   ],
   "hotkey": "alt-t",
   "langInMainMenu": true,
   "sourceLang": "en",
   "targetLang": "ger",
   "useGoogleTranslate": true
  },
  "varInspector": {
   "cols": {
    "lenName": 16,
    "lenType": 16,
    "lenVar": 40
   },
   "kernels_config": {
    "python": {
     "delete_cmd_postfix": "",
     "delete_cmd_prefix": "del ",
     "library": "var_list.py",
     "varRefreshCmd": "print(var_dic_list())"
    },
    "r": {
     "delete_cmd_postfix": ") ",
     "delete_cmd_prefix": "rm(",
     "library": "var_list.r",
     "varRefreshCmd": "cat(var_dic_list()) "
    }
   },
   "types_to_exclude": [
    "module",
    "function",
    "builtin_function_or_method",
    "instance",
    "_Feature"
   ],
   "window_display": false
  }
 },
 "nbformat": 4,
 "nbformat_minor": 2
}
